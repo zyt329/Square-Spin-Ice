{
 "cells": [
  {
   "cell_type": "markdown",
   "metadata": {},
   "source": [
    "# Constructing Hamiltonain for momentum blocks for the Square Spin Ice Model"
   ]
  },
  {
   "cell_type": "code",
   "execution_count": 22,
   "metadata": {},
   "outputs": [],
   "source": [
    "using LinearAlgebra\n",
    "using SparseArrays\n",
    "using Arpack"
   ]
  },
  {
   "cell_type": "code",
   "execution_count": 23,
   "metadata": {},
   "outputs": [
    {
     "data": {
      "text/plain": [
       "4"
      ]
     },
     "execution_count": 23,
     "metadata": {},
     "output_type": "execute_result"
    }
   ],
   "source": [
    "L=4"
   ]
  },
  {
   "cell_type": "code",
   "execution_count": 24,
   "metadata": {},
   "outputs": [
    {
     "data": {
      "text/plain": [
       "bit_pos (generic function with 1 method)"
      ]
     },
     "execution_count": 24,
     "metadata": {},
     "output_type": "execute_result"
    }
   ],
   "source": [
    "function coordinate(n;L::Int64=2)\n",
    "    num_sites = L^2\n",
    "    i::Int64 = Int(ceil(n/L))\n",
    "    j::Int64 = mod1(n,L)  #site i is at i-th row, j-th column\n",
    "    return (i,j)\n",
    "end\n",
    "\n",
    "function bit_pos(coordinate::Tuple{Int64,Int64};L::Int64=2)\n",
    "    n = (coordinate[1]-1)*L + coordinate[2]\n",
    "    return n\n",
    "end"
   ]
  },
  {
   "cell_type": "markdown",
   "metadata": {},
   "source": [
    "## Constructing neighbour list for a position in the lattice\n",
    "\n",
    "For simplicity, we consider the transverse Ising Hamiltonian for the simplest 2D square lattice only."
   ]
  },
  {
   "cell_type": "code",
   "execution_count": 25,
   "metadata": {},
   "outputs": [
    {
     "name": "stdout",
     "output_type": "stream",
     "text": [
      "Set{Int64}[Set([4, 13, 2, 5]), Set([14, 3, 6, 1]), Set([7, 4, 2, 15]), Set([3, 16, 8, 1]), Set([9, 8, 6, 1]), Set([7, 10, 2, 5]), Set([3, 11, 8, 6]), Set([7, 4, 5, 12]), Set([13, 10, 5, 12]), Set([9, 14, 11, 6]), Set([7, 10, 15, 12]), Set([9, 16, 11, 8]), Set([9, 14, 16, 1]), Set([13, 10, 2, 15]), Set([14, 3, 16, 11]), Set([4, 13, 15, 12])]\n"
     ]
    }
   ],
   "source": [
    "function neib(n::Int64;L::Int64=2)\n",
    "    coord = coordinate(n,L=L)\n",
    "    neibs = Tuple{Int64,Int64}[]\n",
    "    push!(neibs, (mod1(coord[1]+1,L), coord[2]))\n",
    "    push!(neibs, (mod1(coord[1]-1,L), coord[2]))\n",
    "    push!(neibs, (coord[1], mod1(coord[2]+1,L)))\n",
    "    push!(neibs, (coord[1], mod1(coord[2]-1,L)))\n",
    "    #=\n",
    "    push!(neibs, (mod1(coord[1]+1,L), mod1(coord[2]-1,L)))\n",
    "    push!(neibs, (mod1(coord[1]-1,L), mod1(coord[2]+1,L)))\n",
    "    push!(neibs, (mod1(coord[1]+1,L), mod1(coord[2]+1,L)))\n",
    "    push!(neibs, (mod1(coord[1]-1,L), mod1(coord[2]-1,L)))=#\n",
    "    #=convert coordinations to positions in bits=#\n",
    "    neibs_bit_pos = Set{Int64}()\n",
    "    for neib in neibs\n",
    "        push!(neibs_bit_pos, bit_pos(neib,L=L))\n",
    "    end\n",
    "    return neibs_bit_pos\n",
    "end\n",
    "\n",
    "neib_list = Set{Int64}[]\n",
    "for n in 1:L^2\n",
    "    push!(neib_list, neib(n, L=L))\n",
    "end\n",
    "println(neib_list)"
   ]
  },
  {
   "cell_type": "markdown",
   "metadata": {},
   "source": [
    "### In order to construct a list of reference states, we first need to define the symmetry of the system, as well as the symmetry operation on the system"
   ]
  },
  {
   "cell_type": "code",
   "execution_count": 26,
   "metadata": {},
   "outputs": [
    {
     "data": {
      "text/plain": [
       "translation (generic function with 1 method)"
      ]
     },
     "execution_count": 26,
     "metadata": {},
     "output_type": "execute_result"
    }
   ],
   "source": [
    "function translation(state::Int64; direction::Symbol, dist::Int64, L::Int64)\n",
    "    max_len = L^2\n",
    "    state_binary = digits!(zeros(Int64, 64), state, base = 2)\n",
    "    translated_state = 0\n",
    "    if direction == :x\n",
    "        for pos in 1:max_len\n",
    "            if state_binary[pos] == 1\n",
    "                #translated_pos = mod1(pos + dist, L) + Int(floor((pos-0.5)/L))*L\n",
    "                #translated_state = translated_state ⊻ (1<<(translated_pos-1))\n",
    "                pos_coord = coordinate(pos,L=L)\n",
    "                trans_pos_coord_i = pos_coord[1]\n",
    "                trans_pos_coord_j = mod1(pos_coord[2] + dist, L)\n",
    "                trans_pos = bit_pos((trans_pos_coord_i, trans_pos_coord_j), L=L)\n",
    "                translated_state = translated_state ⊻ (1<<(trans_pos-1))\n",
    "            end\n",
    "        end\n",
    "        return translated_state\n",
    "    elseif direction == :y\n",
    "        for pos in 1:max_len\n",
    "            if state_binary[pos] == 1\n",
    "                #translated_pos = Int((mod1(ceil((pos-0.5)/L) + dist, L)-1)*L + mod1(pos, L))\n",
    "                #translated_state = translated_state ⊻ (1<<(translated_pos-1))\n",
    "                pos_coord = coordinate(pos,L=L)\n",
    "                trans_pos_coord_i = mod1(pos_coord[1] + dist, L)\n",
    "                trans_pos_coord_j = pos_coord[2]\n",
    "                trans_pos = bit_pos((trans_pos_coord_i, trans_pos_coord_j), L=L)\n",
    "                translated_state = translated_state ⊻ (1<<(trans_pos-1))\n",
    "            end\n",
    "        end\n",
    "        return translated_state\n",
    "    else\n",
    "        error(\"Direction not defined.\")\n",
    "    end\n",
    "end"
   ]
  },
  {
   "cell_type": "markdown",
   "metadata": {},
   "source": [
    "### check routine to check whether a state s belong to a certain k subspace, as well as determining the periodicity of the state under translation of 2 different directions."
   ]
  },
  {
   "cell_type": "code",
   "execution_count": 27,
   "metadata": {},
   "outputs": [
    {
     "data": {
      "text/plain": [
       "checkstate (generic function with 1 method)"
      ]
     },
     "execution_count": 27,
     "metadata": {},
     "output_type": "execute_result"
    }
   ],
   "source": [
    "function checkstate(s::Int64; k::Real, direction::Symbol, L::Int64)\n",
    "    R = -1; t = s;\n",
    "    for i in 1:L\n",
    "        t = translation(t, direction=direction, dist=1; L=L)\n",
    "        if t < s\n",
    "            #println(\"t<s\")\n",
    "            return (false, R)\n",
    "        elseif t == s\n",
    "            R = i\n",
    "            if mod(k, L/i) != 0\n",
    "                #println(\"$(L/i)\")\n",
    "                return (false, R)\n",
    "            else\n",
    "                #println(\"should be true\")\n",
    "                return (true, R)\n",
    "            end\n",
    "        end\n",
    "    end\n",
    "end\n",
    "\n",
    "#Check whether a state is ref state 2D, if it's a ref state, return number of different states Da\n",
    "function checkstate(s::Int64; k::Tuple, L::Int64, ϵ::Float64 = 10^(-10))\n",
    "    k = 2pi/L .* k\n",
    "    states = Set{Int64}() \n",
    "    push!(states, s)\n",
    "    is_ref = true\n",
    "    Fa = 0\n",
    "    t = s\n",
    "    for i in 1:L\n",
    "        t = translation(t, direction=:x, dist=1; L=L)\n",
    "        for j in 1:L\n",
    "            t = translation(t, direction=:y, dist=1; L=L)\n",
    "            push!(states, t)\n",
    "            # Check if the state is the smallest integer and return periodicity Rx, Ry\n",
    "            if t < s\n",
    "                is_ref = false                \n",
    "            end\n",
    "            if t == s\n",
    "                Fa += exp(-im*(k[1]*i + k[2]*j))\n",
    "            end\n",
    "            #finished check states for one certain translation\n",
    "        end\n",
    "    end\n",
    "    if abs(Fa) < ϵ\n",
    "       is_ref = false\n",
    "    end\n",
    "    return (is_ref, length(states), real(Fa))\n",
    "end\n"
   ]
  },
  {
   "cell_type": "markdown",
   "metadata": {},
   "source": [
    "### Now we can construct a few list of reference states for different ks. Along with its periodicity. \n",
    "\n",
    "We represent a k value by an integer $n = {1, 2, ..., L_T}$ multiplying by $\\frac{2\\pi}{R}$ with $R$ being the periodicity of the state. For $R\\ne L_T$, allowed k values are $\\frac{2\\pi}{N} \\frac{N}{R} n$.So we have to choose integer from the list that is a multiple of $\\frac{N}{R}$.\n",
    "\n",
    "For a lattice that is more complicated, $L_T$ should equal to the period of the lattice on x or y direction, not neccesarily equal to the number of sites on each direction $L$. For example the square ice ising model lattice would have L equal to half the number of sites each direction, because the lattice repeats itself only twice the sites."
   ]
  },
  {
   "cell_type": "code",
   "execution_count": 28,
   "metadata": {},
   "outputs": [
    {
     "data": {
      "text/plain": [
       "ref_state_gen (generic function with 1 method)"
      ]
     },
     "execution_count": 28,
     "metadata": {},
     "output_type": "execute_result"
    }
   ],
   "source": [
    "# generate a list of ref states for a 2D system, with k being a 2D Tuple (kx, ky) \n",
    "# return (reference state, number of different states for this reference state, sum of phase for the k state)\n",
    "function ref_state_gen(;k::Tuple, L::Int64)\n",
    "    ref_states = Int64[]#Set{Int64}()\n",
    "    Da = Int64[]\n",
    "    Fa = Number[]\n",
    "    ref_state_nums = Dict{Int64, Int64}()\n",
    "    ref_state_tots = 0\n",
    "    for state in 0:(2^(L^2)-1)\n",
    "        chk_state = checkstate(state, k=k, L=L)\n",
    "        if chk_state[1]\n",
    "            ref_state_tots += 1\n",
    "            ref_state_nums[state] = ref_state_tots\n",
    "            push!(ref_states, state)\n",
    "            push!(Da, chk_state[2])\n",
    "            push!(Fa, chk_state[3])\n",
    "        end\n",
    "    end\n",
    "    return Dict(:ref_states => ref_states, :Da => Da, :Fa => Fa, :ref_state_tots => ref_state_tots, :ref_state_nums => ref_state_nums)\n",
    "end\n",
    "\n"
   ]
  },
  {
   "cell_type": "markdown",
   "metadata": {},
   "source": [
    "### For each state, we also need to build a function to find its corresponding reference state and how it can be translated to a momentum state"
   ]
  },
  {
   "cell_type": "code",
   "execution_count": 29,
   "metadata": {},
   "outputs": [
    {
     "data": {
      "text/plain": [
       "Dict{Symbol,Any} with 2 entries:\n",
       "  :trans => (1, 2)\n",
       "  :ref   => 6"
      ]
     },
     "execution_count": 29,
     "metadata": {},
     "output_type": "execute_result"
    }
   ],
   "source": [
    "# return the number of translation in x and y direction in a Tuple (i, j)\n",
    "function find_ref(s::Int64; L::Int64)\n",
    "    t = s\n",
    "    ref = t\n",
    "    trans = (0,0)\n",
    "    for i in 1:L\n",
    "        t = translation(t, direction=:x, dist=1; L=L)\n",
    "        for j in 1:L\n",
    "            t = translation(t, direction=:y, dist=1; L=L)\n",
    "            if t < ref\n",
    "                ref = t\n",
    "                trans = (i, j)  \n",
    "            end\n",
    "        end\n",
    "    end\n",
    "    return Dict(:trans => trans, :ref => ref)\n",
    "end\n",
    "find_ref(9; L=2)"
   ]
  },
  {
   "cell_type": "markdown",
   "metadata": {},
   "source": [
    "### Now construct Hamiltonian for each momentum sector using the previously generated momentum states\n",
    "\n",
    "The Hamiltonian is:\n",
    "$H=J\\sum_{i=1}^{N}(S_i^z S_{i+1}^z + 1/2(S_i^+ S_{i+1}^- + S_i^- S_{i+1}^+)) $\n",
    "\n",
    "\n",
    "We know that the K-space hamiltonian for the j-th bond among all the bonds is :\n",
    "\n",
    "$<b_{i\\sigma}(\\vec{k})|H_{i\\sigma}|a(\\vec{k})> = h_{i\\sigma}(a) e^{-\\vec{l_{i\\sigma}} \\cdot \\vec{k}} \\sqrt{\\frac{N_{b_{i\\sigma}}}{N_a}}$\n",
    "\n",
    "So the Hamiltonian corresponding to the $|a(\\vec{k})>$ column should be the sum of all the above terms over $i,\\sigma$."
   ]
  },
  {
   "cell_type": "code",
   "execution_count": 30,
   "metadata": {
    "scrolled": true
   },
   "outputs": [
    {
     "data": {
      "text/plain": [
       "65536-element Array{Any,1}:\n",
       " -8.518283596238055 \n",
       " -8.518283596238055 \n",
       " -8.518283596238055 \n",
       " -7.812148008952249 \n",
       " -7.477053302195181 \n",
       " -7.477053302195181 \n",
       " -7.477053302195181 \n",
       " -7.477053302195181 \n",
       " -7.477053302195181 \n",
       " -7.432605406057665 \n",
       " -7.432605406057665 \n",
       " -7.432605406057663 \n",
       " -7.1285233746080845\n",
       "  ⋮                 \n",
       "  7.999999999999998 \n",
       "  7.999999999999998 \n",
       "  7.999999999999998 \n",
       "  7.999999999999998 \n",
       "  7.999999999999998 \n",
       "  8.0               \n",
       "  8.0               \n",
       "  8.0               \n",
       "  8.0               \n",
       "  8.000000000000002 \n",
       "  8.000000000000002 \n",
       "  8.000000000000002 "
      ]
     },
     "execution_count": 30,
     "metadata": {},
     "output_type": "execute_result"
    }
   ],
   "source": [
    "function Hamiltonian(;k::Tuple{Int64, Int64},L::Int64,J=1, h=1, neib_list, state_list, state_nums, state_tot, Das, Fas)\n",
    "    H = zeros(Complex{Float64}, state_tot,state_tot)\n",
    "    for state in state_list #loop over all states\n",
    "        state_binary = digits!(zeros(Int64, 64), state, base = 2)\n",
    "        Na = Das[state_nums[state]]*abs(Fas[state_nums[state]])^2 # for calculation of Hamiltonian later\n",
    "        for i in 1:L^2 #loop over all sites i in a given state\n",
    "            #all terms are spin pairs, no h field, so no single site term\n",
    "            for j in neib_list[i] #loop over(compare) all neighbors of a given site\n",
    "                if state_binary[i]==state_binary[j]\n",
    "                    H[state_nums[state],state_nums[state]] += J/4/2\n",
    "                else\n",
    "                    H[state_nums[state],state_nums[state]] -= J/4/2\n",
    "                    flipped_state = state ⊻ (1<<(i-1))\n",
    "                    flipped_state = flipped_state ⊻ (1<<(j-1))\n",
    "                    ref_flipped_state = find_ref(flipped_state, L = L)\n",
    "                    if haskey(state_nums, ref_flipped_state[:ref]) # check if the flipped state is within this k sector\n",
    "                        # calculated the contribution to the Hamiltonian\n",
    "                        Nb = Das[state_nums[ref_flipped_state[:ref]]]*abs(Fas[state_nums[ref_flipped_state[:ref]]])^2\n",
    "                        H[state_nums[state],state_nums[ref_flipped_state[:ref]]] += 1/2 * J/2 * exp(2pi*im*(k[1]*ref_flipped_state[:trans][1] + k[2]*ref_flipped_state[:trans][2]) / L) * sqrt(Nb / Na)\n",
    "                    end\n",
    "                end   \n",
    "            end\n",
    "        end\n",
    "    end\n",
    "    return H    \n",
    "end\n",
    "\n",
    "function hermitian_test()\n",
    "    eigs = []\n",
    "    for kx in 1:L\n",
    "        for ky in 1:L\n",
    "            ref_state = ref_state_gen(k=(kx,ky),L=L)\n",
    "            H = Hamiltonian(;k=(kx,ky),L=L,J=1, h=0, neib_list=neib_list, state_list=ref_state[:ref_states], state_nums=ref_state[:ref_state_nums], state_tot=ref_state[:ref_state_tots], Das=ref_state[:Da], Fas=ref_state[:Fa])\n",
    "            if maximum(abs.(Hermitian(H, :U) - Hermitian(H, :L))) > 10^(-10)\n",
    "                return false\n",
    "            end\n",
    "            push!(eigs, eigen(Hermitian(H,:U)).values...)\n",
    "        end\n",
    "    end\n",
    "    return eigs\n",
    "end\n",
    "\n",
    "eigens = hermitian_test()\n",
    "#=\n",
    "ref_state = ref_state_gen(k=(4,4),L=L)\n",
    "H = Hamiltonian(;k=(4,4),L=L,J=1, h=0, neib_list=neib_list, state_list=ref_state[:ref_states], state_nums=ref_state[:ref_state_nums], state_tot=ref_state[:ref_state_tots], Das=ref_state[:Da], Fas=ref_state[:Fa])\n",
    "println(eigen(Hermitian(H,:U)).values)=#"
   ]
  },
  {
   "cell_type": "code",
   "execution_count": 31,
   "metadata": {},
   "outputs": [
    {
     "data": {
      "text/plain": [
       "-11.228483208428859"
      ]
     },
     "execution_count": 31,
     "metadata": {},
     "output_type": "execute_result"
    }
   ],
   "source": [
    "using LinearAlgebra\n",
    "minimum(Array{Float64,1}(eigens))"
   ]
  },
  {
   "cell_type": "code",
   "execution_count": 10,
   "metadata": {},
   "outputs": [
    {
     "data": {
      "text/plain": [
       "Eigen{Complex{Float64},Float64,Array{Complex{Float64},2},Array{Float64,1}}\n",
       "eigenvalues:\n",
       "4156-element Array{Float64,1}:\n",
       " -8.678844429796028 \n",
       " -7.051601126984172 \n",
       " -7.051601126984172 \n",
       " -6.568884154599273 \n",
       " -5.83784499831572  \n",
       " -5.723466734266176 \n",
       " -5.723466734266174 \n",
       " -5.663737356210973 \n",
       " -5.66373735621097  \n",
       " -5.211385774381115 \n",
       " -5.1226264783020685\n",
       " -5.044131207969581 \n",
       " -4.984096116025211 \n",
       "  ⋮                 \n",
       "  4.999999999999998 \n",
       "  4.999999999999999 \n",
       "  5.451605962955777 \n",
       "  5.45160596295578  \n",
       "  5.484758976203636 \n",
       "  5.484758976203639 \n",
       "  6.166207393881133 \n",
       "  6.166207393881135 \n",
       "  7.0               \n",
       "  7.0               \n",
       "  8.0               \n",
       "  8.0               \n",
       "eigenvectors:\n",
       "4156×4156 Array{Complex{Float64},2}:\n",
       "          0.0+0.0im           0.0+0.0im  …  0.0+0.0im  1.0+0.0im  0.0+0.0im\n",
       "          0.0+0.0im           0.0+0.0im     0.0+0.0im  0.0+0.0im  0.0+0.0im\n",
       "  9.06784e-51+0.0im  -1.53765e-51+0.0im     0.0+0.0im  0.0+0.0im  0.0+0.0im\n",
       " -1.37506e-51+0.0im  -1.15565e-50+0.0im     0.0+0.0im  0.0+0.0im  0.0+0.0im\n",
       "  1.42666e-50+0.0im  -8.52304e-50+0.0im     0.0+0.0im  0.0+0.0im  0.0+0.0im\n",
       " -8.51715e-51+0.0im  -1.39484e-50+0.0im  …  0.0+0.0im  0.0+0.0im  0.0+0.0im\n",
       " -5.43654e-51+0.0im  -2.64426e-51+0.0im     0.0+0.0im  0.0+0.0im  0.0+0.0im\n",
       "  1.19728e-51+0.0im  -4.22392e-50+0.0im     0.0+0.0im  0.0+0.0im  0.0+0.0im\n",
       " -1.30548e-50+0.0im   2.10034e-50+0.0im     0.0+0.0im  0.0+0.0im  0.0+0.0im\n",
       "  1.42518e-50+0.0im   2.64358e-50+0.0im     0.0+0.0im  0.0+0.0im  0.0+0.0im\n",
       "  1.58502e-50+0.0im   5.47535e-50+0.0im  …  0.0+0.0im  0.0+0.0im  0.0+0.0im\n",
       " -1.46457e-50+0.0im   4.78076e-50+0.0im     0.0+0.0im  0.0+0.0im  0.0+0.0im\n",
       " -2.09115e-51+0.0im  -1.46608e-50+0.0im     0.0+0.0im  0.0+0.0im  0.0+0.0im\n",
       "             ⋮                           ⋱                           ⋮     \n",
       "  1.68641e-17+0.0im  -4.92598e-19+0.0im     0.0+0.0im  0.0+0.0im  0.0+0.0im\n",
       " -2.06374e-18+0.0im  -7.84711e-20+0.0im  …  0.0+0.0im  0.0+0.0im  0.0+0.0im\n",
       " -4.66005e-18+0.0im    2.2399e-19+0.0im     0.0+0.0im  0.0+0.0im  0.0+0.0im\n",
       " -1.58684e-33+0.0im   2.56343e-35+0.0im     0.0+0.0im  0.0+0.0im  0.0+0.0im\n",
       "  1.72841e-19+0.0im   -6.6094e-22+0.0im     0.0+0.0im  0.0+0.0im  0.0+0.0im\n",
       "  7.84423e-19+0.0im  -1.20602e-20+0.0im     0.0+0.0im  0.0+0.0im  0.0+0.0im\n",
       "  6.38701e-32+0.0im  -1.82633e-33+0.0im  …  0.0+0.0im  0.0+0.0im  0.0+0.0im\n",
       "  7.81336e-33+0.0im  -2.26834e-34+0.0im     0.0+0.0im  0.0+0.0im  0.0+0.0im\n",
       "  1.16839e-33+0.0im  -9.47678e-36+0.0im     0.0+0.0im  0.0+0.0im  0.0+0.0im\n",
       "          0.0+0.0im           0.0+0.0im     0.0+0.0im  0.0+0.0im  0.0+0.0im\n",
       "          0.0+0.0im           0.0+0.0im     1.0+0.0im  0.0+0.0im  0.0+0.0im\n",
       "          0.0+0.0im           0.0+0.0im  …  0.0+0.0im  0.0+0.0im  1.0+0.0im"
      ]
     },
     "execution_count": 10,
     "metadata": {},
     "output_type": "execute_result"
    }
   ],
   "source": [
    "kx=0;ky=0\n",
    "ref_state = ref_state_gen(k=(kx,ky),L=L)\n",
    "H = Hamiltonian(;k=(kx,ky),L=L,J=1, h=0, neib_list=neib_list, state_list=ref_state[:ref_states], state_nums=ref_state[:ref_state_nums], state_tot=ref_state[:ref_state_tots], Das=ref_state[:Da], Fas=ref_state[:Fa])\n",
    "eigen(Hermitian(H))"
   ]
  },
  {
   "cell_type": "code",
   "execution_count": 77,
   "metadata": {},
   "outputs": [
    {
     "data": {
      "text/plain": [
       "3-element Array{Any,1}:\n",
       " 2\n",
       " 3\n",
       " 4"
      ]
     },
     "execution_count": 77,
     "metadata": {},
     "output_type": "execute_result"
    }
   ],
   "source": []
  },
  {
   "cell_type": "code",
   "execution_count": null,
   "metadata": {},
   "outputs": [],
   "source": []
  }
 ],
 "metadata": {
  "kernelspec": {
   "display_name": "Julia 1.3.0",
   "language": "julia",
   "name": "julia-1.3"
  },
  "language_info": {
   "file_extension": ".jl",
   "mimetype": "application/julia",
   "name": "julia",
   "version": "1.3.0"
  }
 },
 "nbformat": 4,
 "nbformat_minor": 4
}
