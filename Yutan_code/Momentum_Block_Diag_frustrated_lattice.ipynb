{
 "cells": [
  {
   "cell_type": "markdown",
   "metadata": {},
   "source": [
    "# Constructing Hamiltonain for momentum blocks for the Square Spin Ice Model of Frustrated lattice"
   ]
  },
  {
   "cell_type": "code",
   "execution_count": 1,
   "metadata": {},
   "outputs": [],
   "source": [
    "using LinearAlgebra\n",
    "using SparseArrays\n",
    "using Arpack"
   ]
  },
  {
   "cell_type": "code",
   "execution_count": 2,
   "metadata": {},
   "outputs": [
    {
     "data": {
      "text/plain": [
       "4"
      ]
     },
     "execution_count": 2,
     "metadata": {},
     "output_type": "execute_result"
    }
   ],
   "source": [
    "L=4"
   ]
  },
  {
   "cell_type": "code",
   "execution_count": 3,
   "metadata": {},
   "outputs": [
    {
     "data": {
      "text/plain": [
       "bit_pos (generic function with 1 method)"
      ]
     },
     "execution_count": 3,
     "metadata": {},
     "output_type": "execute_result"
    }
   ],
   "source": [
    "function coordinate(n;L::Int64=2)\n",
    "    num_sites = L^2\n",
    "    i::Int64 = Int(ceil(n/L))\n",
    "    j::Int64 = mod1(n,L)  #site i is at i-th row, j-th column\n",
    "    return (i,j)\n",
    "end\n",
    "\n",
    "function bit_pos(coordinate::Tuple{Int64,Int64};L::Int64=2)\n",
    "    n = (coordinate[1]-1)*L + coordinate[2]\n",
    "    return n\n",
    "end"
   ]
  },
  {
   "cell_type": "markdown",
   "metadata": {},
   "source": [
    "## Constructing neighbour list for a position in the lattice\n",
    "\n",
    "For simplicity, we consider the transverse Ising Hamiltonian for the simplest 2D square lattice only."
   ]
  },
  {
   "cell_type": "code",
   "execution_count": 4,
   "metadata": {},
   "outputs": [
    {
     "data": {
      "text/plain": [
       "16-element Array{Set{Int64},1}:\n",
       " Set([4, 13, 14, 2, 5, 8])  \n",
       " Set([7, 14, 13, 3, 6, 1])  \n",
       " Set([7, 4, 2, 16, 15, 6])  \n",
       " Set([3, 16, 8, 5, 15, 1])  \n",
       " Set([9, 4, 10, 8, 6, 1])   \n",
       " Set([7, 9, 10, 2, 3, 5])   \n",
       " Set([2, 3, 11, 8, 6, 12])  \n",
       " Set([7, 4, 11, 5, 12, 1])  \n",
       " Set([13, 10, 16, 5, 12, 6])\n",
       " Set([9, 14, 11, 5, 15, 6]) \n",
       " Set([7, 14, 10, 8, 15, 12])\n",
       " Set([7, 9, 13, 16, 11, 8]) \n",
       " Set([9, 14, 2, 16, 12, 1]) \n",
       " Set([13, 10, 2, 11, 15, 1])\n",
       " Set([4, 14, 10, 3, 16, 11])\n",
       " Set([4, 13, 9, 3, 15, 12]) "
      ]
     },
     "execution_count": 4,
     "metadata": {},
     "output_type": "execute_result"
    }
   ],
   "source": [
    "function neib(n::Int64;L::Int64=2)\n",
    "    coord = coordinate(n,L=L)\n",
    "    neibs = Tuple{Int64,Int64}[]\n",
    "    push!(neibs, (mod1(coord[1]+1,L), coord[2]))\n",
    "    push!(neibs, (mod1(coord[1]-1,L), coord[2]))\n",
    "    push!(neibs, (coord[1], mod1(coord[2]+1,L)))\n",
    "    push!(neibs, (coord[1], mod1(coord[2]-1,L)))    \n",
    "    if iseven(coord[1]+coord[2])\n",
    "        push!(neibs, (mod1(coord[1]+1,L), mod1(coord[2]-1,L)))\n",
    "        push!(neibs, (mod1(coord[1]-1,L), mod1(coord[2]+1,L)))\n",
    "    else\n",
    "        push!(neibs, (mod1(coord[1]+1,L), mod1(coord[2]+1,L)))\n",
    "        push!(neibs, (mod1(coord[1]-1,L), mod1(coord[2]-1,L)))\n",
    "    end\n",
    "    #=convert coordinations to positions in bits=#\n",
    "    neibs_bit_pos = Set{Int64}()\n",
    "    for neib in neibs\n",
    "        push!(neibs_bit_pos, bit_pos(neib,L=L))\n",
    "    end\n",
    "    return neibs_bit_pos\n",
    "end\n",
    "\n",
    "function neib_list_gen(;L::Int64=L)\n",
    "    neib_list = Set{Int64}[]\n",
    "    for n in 1:L^2\n",
    "        push!(neib_list, neib(n, L=L))\n",
    "    end\n",
    "    return neib_list\n",
    "end\n",
    "\n",
    "neib_list = neib_list_gen(L = L)"
   ]
  },
  {
   "cell_type": "markdown",
   "metadata": {},
   "source": [
    "### In order to construct a list of reference states, we first need to define the symmetry of the system, as well as the symmetry operation on the system"
   ]
  },
  {
   "cell_type": "code",
   "execution_count": 5,
   "metadata": {},
   "outputs": [
    {
     "data": {
      "text/plain": [
       "translation (generic function with 1 method)"
      ]
     },
     "execution_count": 5,
     "metadata": {},
     "output_type": "execute_result"
    }
   ],
   "source": [
    "function translation(state::Int64; direction::Symbol, dist::Int64, L::Int64)\n",
    "    max_len = L^2\n",
    "    state_binary = digits!(zeros(Int64, 64), state, base = 2)\n",
    "    translated_state = 0\n",
    "    if direction == :x\n",
    "        for pos in 1:max_len\n",
    "            if state_binary[pos] == 1\n",
    "                #translated_pos = mod1(pos + dist, L) + Int(floor((pos-0.5)/L))*L\n",
    "                #translated_state = translated_state ⊻ (1<<(translated_pos-1))\n",
    "                pos_coord = coordinate(pos,L=L)\n",
    "                trans_pos_coord_i = pos_coord[1]\n",
    "                trans_pos_coord_j = mod1(pos_coord[2] + dist, L)\n",
    "                trans_pos = bit_pos((trans_pos_coord_i, trans_pos_coord_j), L=L)\n",
    "                translated_state = translated_state ⊻ (1<<(trans_pos-1))\n",
    "            end\n",
    "        end\n",
    "        return translated_state\n",
    "    elseif direction == :y\n",
    "        for pos in 1:max_len\n",
    "            if state_binary[pos] == 1\n",
    "                #translated_pos = Int((mod1(ceil((pos-0.5)/L) + dist, L)-1)*L + mod1(pos, L))\n",
    "                #translated_state = translated_state ⊻ (1<<(translated_pos-1))\n",
    "                pos_coord = coordinate(pos,L=L)\n",
    "                trans_pos_coord_i = mod1(pos_coord[1] + dist, L)\n",
    "                trans_pos_coord_j = pos_coord[2]\n",
    "                trans_pos = bit_pos((trans_pos_coord_i, trans_pos_coord_j), L=L)\n",
    "                translated_state = translated_state ⊻ (1<<(trans_pos-1))\n",
    "            end\n",
    "        end\n",
    "        return translated_state\n",
    "    else\n",
    "        error(\"Direction not defined.\")\n",
    "    end\n",
    "end"
   ]
  },
  {
   "cell_type": "markdown",
   "metadata": {},
   "source": [
    "### check routine to check whether a state s belong to a certain k subspace, as well as determining the periodicity of the state under translation of 2 different directions."
   ]
  },
  {
   "cell_type": "code",
   "execution_count": 6,
   "metadata": {},
   "outputs": [
    {
     "data": {
      "text/plain": [
       "checkstate (generic function with 1 method)"
      ]
     },
     "execution_count": 6,
     "metadata": {},
     "output_type": "execute_result"
    }
   ],
   "source": [
    "function checkstate(s::Int64; k::Real, direction::Symbol, L::Int64)\n",
    "    R = -1; t = s;\n",
    "    for i in 1:L\n",
    "        t = translation(t, direction=direction, dist=1; L=L)\n",
    "        if t < s\n",
    "            #println(\"t<s\")\n",
    "            return (false, R)\n",
    "        elseif t == s\n",
    "            R = i\n",
    "            if mod(k, L/i) != 0\n",
    "                #println(\"$(L/i)\")\n",
    "                return (false, R)\n",
    "            else\n",
    "                #println(\"should be true\")\n",
    "                return (true, R)\n",
    "            end\n",
    "        end\n",
    "    end\n",
    "end\n",
    "\n",
    "#Check whether a state is ref state 2D, if it's a ref state, return number of different states Da\n",
    "function checkstate(s::Int64; k::Tuple, L::Int64, ϵ::Float64 = 10^(-10))\n",
    "    k = 2pi/L .* k\n",
    "    states = Set{Int64}() \n",
    "    push!(states, s)\n",
    "    is_ref = true\n",
    "    Fa = 0\n",
    "    t = s\n",
    "    for i in 1:L\n",
    "        t = translation(t, direction=:x, dist=1; L=L)\n",
    "        t = translation(t, direction=:y, dist=1; L=L)\n",
    "        for j in 1:L\n",
    "            t = translation(t, direction=:x, dist=-1; L=L)\n",
    "            t = translation(t, direction=:y, dist=1; L=L)\n",
    "            push!(states, t)\n",
    "            # Check if the state is the smallest integer and return periodicity Rx, Ry\n",
    "            if t < s\n",
    "                is_ref = false                \n",
    "            end\n",
    "            if t == s\n",
    "                Fa += exp(-im*((k[1] + k[2])*i + (-k[1] + k[2])*j))\n",
    "            end\n",
    "            #finished check states for one certain translation\n",
    "        end\n",
    "    end\n",
    "    if abs(Fa) < ϵ\n",
    "       is_ref = false\n",
    "    end\n",
    "    return (is_ref, length(states), real(Fa))\n",
    "end\n"
   ]
  },
  {
   "cell_type": "markdown",
   "metadata": {},
   "source": [
    "### Now we can construct a few list of reference states for different ks. Along with its periodicity. \n",
    "\n",
    "We represent a k value by an integer $n = {1, 2, ..., L_T}$ multiplying by $\\frac{2\\pi}{R}$ with $R$ being the periodicity of the state. For $R\\ne L_T$, allowed k values are $\\frac{2\\pi}{N} \\frac{N}{R} n$.So we have to choose integer from the list that is a multiple of $\\frac{N}{R}$.\n",
    "\n",
    "For a lattice that is more complicated, $L_T$ should equal to the period of the lattice on x or y direction, not neccesarily equal to the number of sites on each direction $L$. For example the square ice ising model lattice would have L equal to half the number of sites each direction, because the lattice repeats itself only twice the sites."
   ]
  },
  {
   "cell_type": "code",
   "execution_count": 7,
   "metadata": {},
   "outputs": [
    {
     "data": {
      "text/plain": [
       "ref_state_gen (generic function with 1 method)"
      ]
     },
     "execution_count": 7,
     "metadata": {},
     "output_type": "execute_result"
    }
   ],
   "source": [
    "# generate a list of ref states for a 2D system, with k being a 2D Tuple (kx, ky) \n",
    "# return (reference state, number of different states for this reference state, sum of phase for the k state)\n",
    "function ref_state_gen(;k::Tuple, L::Int64)\n",
    "    ref_states = Int64[]#Set{Int64}()\n",
    "    Da = Int64[]\n",
    "    Fa = Number[]\n",
    "    ref_state_nums = Dict{Int64, Int64}()\n",
    "    ref_state_tots = 0\n",
    "    for state in 0:(2^(L^2)-1)\n",
    "        chk_state = checkstate(state, k=k, L=L)\n",
    "        if chk_state[1]\n",
    "            ref_state_tots += 1\n",
    "            ref_state_nums[state] = ref_state_tots\n",
    "            push!(ref_states, state)\n",
    "            push!(Da, chk_state[2])\n",
    "            push!(Fa, chk_state[3])\n",
    "        end\n",
    "    end\n",
    "    return Dict(:ref_states => ref_states, :Da => Da, :Fa => Fa, :ref_state_tots => ref_state_tots, :ref_state_nums => ref_state_nums)\n",
    "end\n",
    "\n"
   ]
  },
  {
   "cell_type": "markdown",
   "metadata": {},
   "source": [
    "### For each state, we also need to build a function to find its corresponding reference state and how it can be translated to a momentum state"
   ]
  },
  {
   "cell_type": "code",
   "execution_count": 8,
   "metadata": {},
   "outputs": [
    {
     "data": {
      "text/plain": [
       "Dict{Symbol,Any} with 2 entries:\n",
       "  :trans => (0, 0)\n",
       "  :ref   => 9"
      ]
     },
     "execution_count": 8,
     "metadata": {},
     "output_type": "execute_result"
    }
   ],
   "source": [
    "# return the number of translation in x and y direction in a Tuple (i, j)\n",
    "function find_ref(s::Int64; L::Int64)\n",
    "    t = s\n",
    "    ref = t\n",
    "    trans = (0,0)\n",
    "    for i in 1:L\n",
    "        t = translation(t, direction=:x, dist=1; L=L)\n",
    "        t = translation(t, direction=:y, dist=1; L=L)\n",
    "        for j in 1:L\n",
    "            t = translation(t, direction=:x, dist=-1; L=L)\n",
    "            t = translation(t, direction=:y, dist=1; L=L)\n",
    "            if t < ref\n",
    "                ref = t\n",
    "                trans = (i-j, i+j)  \n",
    "            end\n",
    "        end\n",
    "    end\n",
    "    return Dict(:trans => trans, :ref => ref)\n",
    "end\n",
    "find_ref(9; L=2)"
   ]
  },
  {
   "cell_type": "markdown",
   "metadata": {},
   "source": [
    "### Now construct Hamiltonian for each momentum sector using the previously generated momentum states\n",
    "\n",
    "The Hamiltonian is:\n",
    "$H=\\sum_{i=1}^{N}\\sum_{\\sigma}(\\frac{J}{4}(S_i^+ + S_i^-)(S_{i+\\sigma}^+ + S_{i+\\sigma}^-) +h S_i^z)$\n",
    "\n",
    "\n",
    "We know that the K-space hamiltonian for the j-th bond among all the bonds is :\n",
    "\n",
    "$<b_{i\\sigma}(\\vec{k})|H_{i\\sigma}|a(\\vec{k})> = h_{i\\sigma}(a) e^{-\\vec{l_{i\\sigma}} \\cdot \\vec{k}} \\sqrt{\\frac{N_{b_{i\\sigma}}}{N_a}}$\n",
    "\n",
    "So the Hamiltonian corresponding to the $|a(\\vec{k})>$ column should be the sum of all the above terms over $i,\\sigma$."
   ]
  },
  {
   "cell_type": "code",
   "execution_count": 9,
   "metadata": {},
   "outputs": [
    {
     "data": {
      "text/plain": [
       "hermitian_test (generic function with 1 method)"
      ]
     },
     "execution_count": 9,
     "metadata": {},
     "output_type": "execute_result"
    }
   ],
   "source": [
    "function Hamiltonian(;k::Tuple{Int64, Int64},L::Int64,J=1, h=1, neib_list, state_list, state_nums, state_tot, Das, Fas)\n",
    "    H = zeros(Complex{Float64}, state_tot,state_tot)\n",
    "    for state in state_list #loop over all states\n",
    "        state_binary = digits!(zeros(Int64, 64), state, base = 2)\n",
    "        Na = Das[state_nums[state]]*abs(Fas[state_nums[state]])^2 # for calculation of Hamiltonian later\n",
    "        for i in 1:L^2 #loop over all sites i in a given state\n",
    "            #diagonal terms interact with h\n",
    "            if state_binary[i] == 1\n",
    "                H[state_nums[state],state_nums[state]] += h\n",
    "            else\n",
    "                H[state_nums[state],state_nums[state]] -= h\n",
    "            end   \n",
    "            # off diagonal terms come from flipping bonds, j is neighbor of i\n",
    "            for j in neib_list[i] \n",
    "                flipped_state = state ⊻ (1<<(i-1))\n",
    "                flipped_state = flipped_state ⊻ (1<<(j-1))\n",
    "                ref_flipped_state = find_ref(flipped_state, L = L)\n",
    "                if haskey(state_nums, ref_flipped_state[:ref]) # check if the flipped state is within this k sector\n",
    "                    # calculated the contribution to the Hamiltonian\n",
    "                    Nb = Das[state_nums[ref_flipped_state[:ref]]]*abs(Fas[state_nums[ref_flipped_state[:ref]]])^2\n",
    "                    H[state_nums[state],state_nums[ref_flipped_state[:ref]]] += 1/2 * J/4 * exp(2pi*im*(k[1]*ref_flipped_state[:trans][1] + k[2]*ref_flipped_state[:trans][2]) / L) * sqrt(Nb / Na)\n",
    "                end\n",
    "            end\n",
    "        end\n",
    "    end\n",
    "    return H    \n",
    "end\n",
    "\n",
    "function hermitian_test()\n",
    "    eigs = []\n",
    "    for kx in 1:L\n",
    "        for ky in 1:L\n",
    "            ref_state = ref_state_gen(k=(kx,ky),L=L)\n",
    "            H = Hamiltonian(;k=(kx,ky),L=L,J=1, h=0, neib_list=neib_list, state_list=ref_state[:ref_states], state_nums=ref_state[:ref_state_nums], state_tot=ref_state[:ref_state_tots], Das=ref_state[:Da], Fas=ref_state[:Fa])\n",
    "            if maximum(abs.(Hermitian(H, :U) - Hermitian(H, :L))) > 10^(-10)\n",
    "                return false\n",
    "            end\n",
    "            #push!(eigs, eigen(Hermitian(H,:U)).values...)\n",
    "        end\n",
    "    end\n",
    "    return true\n",
    "end\n",
    "\n",
    "#hermitian_test()\n",
    "#=\n",
    "ref_state = ref_state_gen(k=(4,4),L=L)\n",
    "H = Hamiltonian(;k=(4,4),L=L,J=1, h=0, neib_list=neib_list, state_list=ref_state[:ref_states], state_nums=ref_state[:ref_state_nums], state_tot=ref_state[:ref_state_tots], Das=ref_state[:Da], Fas=ref_state[:Fa])\n",
    "println(eigen(Hermitian(H,:U)).values)=#"
   ]
  },
  {
   "cell_type": "markdown",
   "metadata": {},
   "source": [
    "### The allowed k values \n",
    "It could be represented by a graph. In my integer representation of k, the allowed k values are:\n",
    "\n",
    "(0,0),(0,1),(1,0),(-1,0),(0,-1),(2,0),(1,1),(-1,1)\n",
    "\n",
    "Using these k values, we could find all k blocks of the Hamiltonian."
   ]
  },
  {
   "cell_type": "code",
   "execution_count": null,
   "metadata": {},
   "outputs": [
    {
     "name": "stdout",
     "output_type": "stream",
     "text": [
      "Dealing with k = (0,0)\n",
      "Dealing with k = (0,1)\n",
      "Dealing with k = (1,0)\n",
      "Dealing with k = (-1,0)\n",
      "Dealing with k = (0,-1)"
     ]
    }
   ],
   "source": [
    "allowed_k = [(0,0),(0,1),(1,0),(-1,0),(0,-1),(2,0),(1,1),(-1,1)]\n",
    "\n",
    "function Hamiltonian_solver(allowed_k)\n",
    "    eigs = []\n",
    "    for k in allowed_k\n",
    "        println(\"Dealing with k = ($(k[1]),$(k[2]))\")\n",
    "        ref_state = ref_state_gen(k=k,L=L)\n",
    "        H = Hamiltonian(;k=k,L=L,J=1, h=0, neib_list=neib_list, state_list=ref_state[:ref_states], state_nums=ref_state[:ref_state_nums], state_tot=ref_state[:ref_state_tots], Das=ref_state[:Da], Fas=ref_state[:Fa])\n",
    "        if maximum(abs.(Hermitian(H, :U) - Hermitian(H, :L))) > 10^(-10)\n",
    "            return ((k[1],k[2]),false, maximum(abs.(Hermitian(H, :U) - Hermitian(H, :L))))\n",
    "        end\n",
    "        push!(eigs, eigen(Hermitian(H,:U)))\n",
    "    end\n",
    "    return eigs\n",
    "end\n",
    "\n",
    "eigens = Hamiltonian_solver(allowed_k)\n"
   ]
  },
  {
   "cell_type": "code",
   "execution_count": 13,
   "metadata": {},
   "outputs": [
    {
     "data": {
      "text/plain": [
       "1-element Array{Any,1}:\n",
       " Eigen{Complex{Float64},Float64,Array{Complex{Float64},2},Array{Float64,1}}([-1.5615528128088303, 2.5615528128088303], Complex{Float64}[0.6154122094026357 + 0.0im -0.7882054380161092 + 0.0im; -0.7882054380161092 + 0.0im -0.6154122094026357 + 0.0im])"
      ]
     },
     "execution_count": 13,
     "metadata": {},
     "output_type": "execute_result"
    }
   ],
   "source": [
    "a = []\n",
    "push!(a, eigen(Hermitian([1 2;3 im])))"
   ]
  },
  {
   "cell_type": "code",
   "execution_count": 32,
   "metadata": {},
   "outputs": [
    {
     "data": {
      "text/plain": [
       "2.0"
      ]
     },
     "execution_count": 32,
     "metadata": {},
     "output_type": "execute_result"
    }
   ],
   "source": [
    "H = [im im;im im]\n",
    "H = abs.(Hermitian(H, :U) - Hermitian(H, :L))\n",
    "maximum(H)"
   ]
  },
  {
   "cell_type": "code",
   "execution_count": 43,
   "metadata": {},
   "outputs": [
    {
     "data": {
      "text/plain": [
       "8160×8160 Array{Complex{Float64},2}:\n",
       " -3.06162e-17+0.0im    0.5-5.83717e-17im  …           0.0+0.0im        \n",
       " -1.06229e-16-0.5im    0.0-3.06162e-17im              0.0+0.0im        \n",
       "          0.0+0.0im    0.0+0.0im                      0.0+0.0im        \n",
       "          0.0+0.0im    0.0+0.0im                      0.0+0.0im        \n",
       "          0.0+0.0im    0.0+0.0im                      0.0+0.0im        \n",
       "         0.25-0.25im   0.0+0.0im          …           0.0+0.0im        \n",
       "          0.0+0.0im    0.0+0.0im                      0.0+0.0im        \n",
       "          0.0+0.0im   0.25-0.25im                     0.0+0.0im        \n",
       "          0.0+0.0im    0.0+0.0im                      0.0+0.0im        \n",
       "          0.0+0.0im    0.0+0.0im                      0.0+0.0im        \n",
       "          0.0+0.0im    0.0+0.0im          …           0.0+0.0im        \n",
       "          0.0+0.0im   0.25+0.25im                     0.0+0.0im        \n",
       "          0.0+0.0im    0.0+0.0im                      0.0+0.0im        \n",
       "             ⋮                            ⋱                            \n",
       "          0.0+0.0im    0.0+0.0im                      0.0+0.0im        \n",
       "          0.0+0.0im    0.0+0.0im                      0.0+0.0im        \n",
       "          0.0+0.0im    0.0+0.0im          …  -4.59243e-17-0.25im       \n",
       "          0.0+0.0im    0.0+0.0im                      0.0+0.0im        \n",
       "          0.0+0.0im    0.0+0.0im                      0.0+0.0im        \n",
       "          0.0+0.0im    0.0+0.0im                     0.25+0.0im        \n",
       "          0.0+0.0im    0.0+0.0im                      0.0+0.0im        \n",
       "          0.0+0.0im    0.0+0.0im          …  -4.59243e-17-0.25im       \n",
       "          0.0+0.0im    0.0+0.0im                      0.0+0.0im        \n",
       "          0.0+0.0im    0.0+0.0im                      0.5-6.12323e-17im\n",
       "          0.0+0.0im    0.0+0.0im                      0.0+0.0im        \n",
       "          0.0+0.0im    0.0+0.0im                      0.0-3.06162e-17im"
      ]
     },
     "execution_count": 43,
     "metadata": {},
     "output_type": "execute_result"
    }
   ],
   "source": [
    "k=(0,1)\n",
    "ref_state = ref_state_gen(k=k,L=L)\n",
    "        H = Hamiltonian(;k=k,L=L,J=1, h=0, neib_list=neib_list, state_list=ref_state[:ref_states], state_nums=ref_state[:ref_state_nums], state_tot=ref_state[:ref_state_tots], Das=ref_state[:Da], Fas=ref_state[:Fa])"
   ]
  },
  {
   "cell_type": "code",
   "execution_count": null,
   "metadata": {},
   "outputs": [],
   "source": []
  }
 ],
 "metadata": {
  "kernelspec": {
   "display_name": "Julia 1.3.0",
   "language": "julia",
   "name": "julia-1.3"
  },
  "language_info": {
   "file_extension": ".jl",
   "mimetype": "application/julia",
   "name": "julia",
   "version": "1.3.0"
  }
 },
 "nbformat": 4,
 "nbformat_minor": 4
}
