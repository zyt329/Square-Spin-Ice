{
 "cells": [
  {
   "cell_type": "code",
   "execution_count": 7,
   "metadata": {},
   "outputs": [],
   "source": [
    "using LinearAlgebra\n",
    "using SparseArrays\n",
    "using Arpack\n",
    "using KrylovKit\n",
    "using Dates\n",
    "using JLD"
   ]
  },
  {
   "cell_type": "markdown",
   "metadata": {},
   "source": [
    "## Specifying parameters of the model here:"
   ]
  },
  {
   "cell_type": "code",
   "execution_count": 16,
   "metadata": {},
   "outputs": [
    {
     "data": {
      "text/plain": [
       "16"
      ]
     },
     "execution_count": 16,
     "metadata": {},
     "output_type": "execute_result"
    }
   ],
   "source": [
    "L1=4;L2=4;J1=1;J2=1;h=0.01\n",
    "N = L1*L2"
   ]
  },
  {
   "cell_type": "markdown",
   "metadata": {},
   "source": [
    "## Building up Hamiltonian without using k space\n",
    "- Building Hamiltonian for a generic rectangular lattice\n",
    "- Using Int64 to represent states\n",
    "\n",
    "Hamiltonian is $H=J\\sum_{i=1}^{N}(S_i^z S_{i+1}^z + 1/2(S_i^+ S_{i+1}^- + S_i^- S_{i+1}^+)) $\n",
    "\n",
    "## Building bond list (neib list) and input number of sites\n",
    "\n",
    "### neib list for a rectangular lattice\n",
    "\n",
    "Given the x and y dimension of the rectangular lattice (effectively, total number of sites $N$), we should output a neighbor list for all sites numbered from $1$ to $N$.\n",
    "\n",
    "Here we are assuming we have a rectangular lattice of $L1$ in wide and $L2$ in length. So $L2$ rows and $L1$ columns in total."
   ]
  },
  {
   "cell_type": "code",
   "execution_count": 3,
   "metadata": {},
   "outputs": [
    {
     "data": {
      "text/plain": [
       "bit_pos (generic function with 1 method)"
      ]
     },
     "execution_count": 3,
     "metadata": {},
     "output_type": "execute_result"
    }
   ],
   "source": [
    "function coordinate(n;L1::Int64=2,L2::Int64=2)\n",
    "    @assert((n ≤ L1 * L2) && (1 ≤ n),\"The numbering (bit position) of a site shouldn't exceed the total number of sites $(L1 * L2), and should be bigger than 0.\")\n",
    "    i::Int64 = Int(ceil(n/L1))\n",
    "    j::Int64 = mod1(n,L1)  #site i is at i-th row, j-th column\n",
    "    return (i,j)\n",
    "end\n",
    "\n",
    "function bit_pos(coordinate::Tuple{Int64,Int64};L1::Int64=2,L2::Int64=2)\n",
    "    @assert((coordinate[1] ≤ L2) && (coordinate[2] ≤ L1),\"The cooridnate should be within the range of the lattice size $L1 by $L2\")\n",
    "    n = (coordinate[1]-1)*L1 + coordinate[2]\n",
    "    return n\n",
    "end"
   ]
  },
  {
   "cell_type": "markdown",
   "metadata": {},
   "source": [
    "### Generate neib list given that we know the dimension of the lattice"
   ]
  },
  {
   "cell_type": "code",
   "execution_count": 5,
   "metadata": {},
   "outputs": [
    {
     "data": {
      "text/plain": [
       "16-element Array{Set{Int64},1}:\n",
       " Set([14, 8])\n",
       " Set([7, 13])\n",
       " Set([16, 6])\n",
       " Set([5, 15])\n",
       " Set([4, 10])\n",
       " Set([9, 3]) \n",
       " Set([2, 12])\n",
       " Set([11, 1])\n",
       " Set([16, 6])\n",
       " Set([5, 15])\n",
       " Set([14, 8])\n",
       " Set([7, 13])\n",
       " Set([2, 12])\n",
       " Set([11, 1])\n",
       " Set([4, 10])\n",
       " Set([9, 3]) "
      ]
     },
     "execution_count": 5,
     "metadata": {},
     "output_type": "execute_result"
    }
   ],
   "source": [
    "function nearest_neib(n::Int64;L1::Int64=2, L2::Int64=2)\n",
    "    coord = coordinate(n,L1=L1, L2=L2)\n",
    "    neibs = Tuple{Int64,Int64}[]\n",
    "    push!(neibs, (mod1(coord[1]+1,L2), coord[2]))\n",
    "    push!(neibs, (mod1(coord[1]-1,L2), coord[2]))\n",
    "    push!(neibs, (coord[1], mod1(coord[2]+1,L1)))\n",
    "    push!(neibs, (coord[1], mod1(coord[2]-1,L1)))    \n",
    "    #=convert coordinations to positions in bits=#\n",
    "    neibs_bit_pos = Set{Int64}()\n",
    "    for neib in neibs\n",
    "        push!(neibs_bit_pos, bit_pos(neib, L1=L1, L2=L2))\n",
    "    end\n",
    "    return neibs_bit_pos\n",
    "end\n",
    "\n",
    "function second_neib(n::Int64;L1::Int64=2, L2::Int64=2)\n",
    "    coord = coordinate(n,L1=L1, L2=L2)\n",
    "    neibs = Tuple{Int64,Int64}[]   \n",
    "    if iseven(coord[1]+coord[2])\n",
    "        push!(neibs, (mod1(coord[1]+1,L2), mod1(coord[2]-1,L1)))\n",
    "        push!(neibs, (mod1(coord[1]-1,L2), mod1(coord[2]+1,L1)))\n",
    "    else\n",
    "        push!(neibs, (mod1(coord[1]+1,L2), mod1(coord[2]+1,L1)))\n",
    "        push!(neibs, (mod1(coord[1]-1,L2), mod1(coord[2]-1,L1)))\n",
    "    end\n",
    "    #=convert coordinations to positions in bits=#\n",
    "    neibs_bit_pos = Set{Int64}()\n",
    "    for neib in neibs\n",
    "        push!(neibs_bit_pos, bit_pos(neib, L1=L1, L2=L2))\n",
    "    end\n",
    "    return neibs_bit_pos\n",
    "end\n",
    "\n",
    "function nearest_neib_list_gen(;L1::Int64=2, L2::Int64=2)\n",
    "    neib_list = Set{Int64}[]\n",
    "    for n in 1:L1*L2\n",
    "        push!(neib_list, nearest_neib(n, L1=L1, L2=L2))\n",
    "    end\n",
    "    return neib_list\n",
    "end\n",
    "\n",
    "function second_neib_list_gen(;L1::Int64=2, L2::Int64=2)\n",
    "    neib_list = Set{Int64}[]\n",
    "    for n in 1:L1*L2\n",
    "        push!(neib_list, second_neib(n, L1=L1, L2=L2))\n",
    "    end\n",
    "    return neib_list\n",
    "end\n",
    "\n",
    "nearest_neib_list = nearest_neib_list_gen(L1=L1, L2=L2)\n",
    "second_neib_list = second_neib_list_gen(L1=L1, L2=L2)"
   ]
  },
  {
   "cell_type": "markdown",
   "metadata": {},
   "source": [
    "## The Hamiltonian generator should intake bond list (neib list), number of sites and output the Hamiltonian:\n",
    "\n",
    "So we need to revise the input of Hamiltonian function a little bit.\n",
    "\n",
    "We still need the Hamiltonian in 2 different basis:\n",
    "\n",
    "\\begin{equation}\n",
    "\\tag{H1}\n",
    "H=\\sum_{i=1}^{N}\\sum_{\\sigma}JS_i^z S_{i+\\sigma}^z + \\frac{h}{2}\\sum_{i=1}^{N} (S_i^+ + S_i^-)\n",
    "\\end{equation}\n",
    "\n",
    "\\begin{equation}\n",
    "\\tag{H2}\n",
    "H=\\sum_{i=1}^{N}\\sum_{\\sigma}\\frac{J}{4}(S_i^+ + S_i^-)(S_{i+\\sigma}^+ + S_{i+\\sigma}^-) - h\\sum_{i=1}^{N} S_i^z\n",
    "\\end{equation}"
   ]
  },
  {
   "cell_type": "code",
   "execution_count": 17,
   "metadata": {},
   "outputs": [
    {
     "name": "stdout",
     "output_type": "stream",
     "text": [
      "  0.476810 seconds (187.68 k allocations: 370.790 MiB, 19.79% gc time)\n",
      "  0.399974 seconds (178.17 k allocations: 402.291 MiB)\n"
     ]
    },
    {
     "data": {
      "text/plain": [
       "65536×65536 SparseMatrixCSC{Float64,Int64} with 3211264 stored entries:\n",
       "  [1    ,     1]  =  0.08\n",
       "  [4    ,     1]  =  0.25\n",
       "  [7    ,     1]  =  0.25\n",
       "  [10   ,     1]  =  0.25\n",
       "  [13   ,     1]  =  0.25\n",
       "  [18   ,     1]  =  0.25\n",
       "  [25   ,     1]  =  0.25\n",
       "  [35   ,     1]  =  0.25\n",
       "  [37   ,     1]  =  0.25\n",
       "  [49   ,     1]  =  0.25\n",
       "  [67   ,     1]  =  0.25\n",
       "  [69   ,     1]  =  0.25\n",
       "  ⋮\n",
       "  [65440, 65536]  =  0.25\n",
       "  [65468, 65536]  =  0.25\n",
       "  [65470, 65536]  =  0.25\n",
       "  [65488, 65536]  =  0.25\n",
       "  [65500, 65536]  =  0.25\n",
       "  [65502, 65536]  =  0.25\n",
       "  [65512, 65536]  =  0.25\n",
       "  [65519, 65536]  =  0.25\n",
       "  [65524, 65536]  =  0.25\n",
       "  [65527, 65536]  =  0.25\n",
       "  [65530, 65536]  =  0.25\n",
       "  [65533, 65536]  =  0.25\n",
       "  [65536, 65536]  =  -0.08"
      ]
     },
     "execution_count": 17,
     "metadata": {},
     "output_type": "execute_result"
    }
   ],
   "source": [
    "function update_val(row_inds, col_inds, vals;row_ind, col_ind, val)\n",
    "    push!(row_inds, row_ind)\n",
    "    push!(col_inds, col_ind)\n",
    "    push!(vals, val)\n",
    "end\n",
    "\n",
    "function Hamiltonian1(;N::Int64=2, J1=1, J2=1, h=1, nearest_neib_list, second_neib_list)\n",
    "    row_inds = Int64[]\n",
    "    col_inds = Int64[]\n",
    "    vals = Float64[]\n",
    "    for state in 0:(2^N-1) #loop over all states\n",
    "        state_binary = digits!(zeros(Int64, 64), state, base = 2)\n",
    "        for i in 1:N #loop over all sites in a given state\n",
    "            flipped_state = state ⊻ (1<<(i-1))\n",
    "            update_val(row_inds, col_inds, vals, row_ind=state+1, col_ind = flipped_state+1, val = (1/2)*h)\n",
    "            for j in nearest_neib_list[i] #loop over(compare) all neighbors of a given site\n",
    "                update_val(row_inds, col_inds, vals, row_ind = state+1, col_ind = state+1, val = (state_binary[i]-1/2)*(state_binary[j]-1/2)*J1/2)\n",
    "            end\n",
    "            for j in second_neib_list[i] #loop over(compare) all neighbors of a given site\n",
    "                update_val(row_inds, col_inds, vals, row_ind = state+1, col_ind = state+1, val = (state_binary[i]-1/2)*(state_binary[j]-1/2)*J2/2)\n",
    "            end\n",
    "        end\n",
    "    end\n",
    "    return sparse(row_inds, col_inds, vals, 2^N, 2^N, +)\n",
    "end\n",
    "\n",
    "function Hamiltonian2(;N::Int64=2, J1=1, J2=1, h=1, nearest_neib_list, second_neib_list)\n",
    "    row_inds = Int64[]\n",
    "    col_inds = Int64[]\n",
    "    vals = Float64[]\n",
    "    for state in 0:(2^N-1) #loop over all states\n",
    "        state_binary = digits!(zeros(Int64, 64), state, base = 2)\n",
    "        for i in 1:N #loop over all sites in a given state\n",
    "            if state_binary[i] == 1\n",
    "                update_val(row_inds, col_inds, vals, row_ind=state+1, col_ind = state+1, val = - h/2)\n",
    "            else\n",
    "                update_val(row_inds, col_inds, vals, row_ind=state+1, col_ind = state+1, val =  h/2)\n",
    "            end\n",
    "            for j in nearest_neib_list[i] #loop over(compare) all neighbors of a given site\n",
    "                flipped_state = state ⊻ (1<<(i-1))\n",
    "                flipped_state = flipped_state ⊻ (1<<(j-1))\n",
    "                update_val(row_inds, col_inds, vals, row_ind=state+1, col_ind = flipped_state+1, val =  (1/4)*(J1/2))\n",
    "            end\n",
    "            for j in second_neib_list[i] #loop over(compare) all neighbors of a given site\n",
    "                flipped_state = state ⊻ (1<<(i-1))\n",
    "                flipped_state = flipped_state ⊻ (1<<(j-1))\n",
    "                update_val(row_inds, col_inds, vals, row_ind=state+1, col_ind = flipped_state+1, val =  (1/4)*(J2/2))\n",
    "            end\n",
    "        end\n",
    "    end\n",
    "    return sparse(row_inds, col_inds, vals, 2^N, 2^N, +)\n",
    "end\n",
    "\n",
    "@time H1 = Hamiltonian1(;N=N, J1=J1, J2=J2, h=h, nearest_neib_list=nearest_neib_list, second_neib_list=second_neib_list)\n",
    "@time H2 = Hamiltonian2(;N=N, J1=J1, J2=J2, h=h, nearest_neib_list=nearest_neib_list, second_neib_list=second_neib_list)"
   ]
  },
  {
   "cell_type": "markdown",
   "metadata": {},
   "source": [
    "## Using Lanczos to calculate the ground state and compare see if the Hamiltonians are compatible\n",
    "\n",
    "I'm using ```KrylovKit.jl``` to calculate.\n",
    "\n",
    "It appears that the eigenstates is automatically normalized by the package."
   ]
  },
  {
   "cell_type": "code",
   "execution_count": 18,
   "metadata": {
    "scrolled": true
   },
   "outputs": [
    {
     "data": {
      "text/plain": [
       "65536-element Array{Float64,1}:\n",
       " -0.03407968390359296   \n",
       " -5.908587333682974e-11 \n",
       "  2.9287625597027225e-10\n",
       "  0.011588229343780199  \n",
       "  3.7495781147282075e-10\n",
       " -0.0038618322217487742 \n",
       "  0.011588229205728075  \n",
       " -6.097866807360462e-11 \n",
       " -5.452759757308758e-11 \n",
       "  0.011588228539578409  \n",
       " -0.0038618322607760006 \n",
       " -4.178012829361419e-11 \n",
       "  0.011588229230355967  \n",
       "  ⋮                     \n",
       " -4.617513732350769e-11 \n",
       " -0.004354306113600847  \n",
       "  0.01306593624794893   \n",
       " -6.27225807671932e-11  \n",
       " -6.739314653909318e-11 \n",
       "  0.013065936999035029  \n",
       " -0.004354306069597611  \n",
       "  4.3130930299892963e-10\n",
       "  0.013065937154689216  \n",
       "  3.368918709948854e-10 \n",
       " -6.796562442719014e-11 \n",
       " -0.03999368288314908   "
      ]
     },
     "execution_count": 18,
     "metadata": {},
     "output_type": "execute_result"
    }
   ],
   "source": [
    "eigs1 = eigsolve(H1, 1, :SR, eltype(H1), tol = 10^(-20))\n",
    "eigs2 = eigsolve(H2, 1, :SR, eltype(H2), tol = 10^(-20))\n",
    "eigstate1 = eigs1[2][1]\n",
    "eigstate2 = eigs2[2][1]"
   ]
  },
  {
   "cell_type": "markdown",
   "metadata": {},
   "source": [
    "# Now we could calculate quantities given that we have the ground state.\n",
    "\n",
    "Here x means the direction of h, y means the direction of coupling.\n",
    "\n",
    "- $m=\\frac{1}{N}\\sum_{i} \\langle \\sigma_i^x \\rangle$\n",
    "\n",
    "Calculating this using H2\n",
    "\n",
    "- $S_{\\pi}=\\frac{1}{N}\\sum_{i,j}\\langle\\sigma_i^z\\sigma_j^z\\rangle (-1)^{i+j}$\n",
    "\n",
    "Calculating this using H1\n",
    "\n",
    "- $F_{cl}=\\frac{1}{N_{pl}} \\sum_{p_1,p_2} \\langle f_{p_1} f_{p_2}\\rangle$\n",
    "\n",
    "Calculating this using H1\n",
    "\n",
    "- $F_{QM}=\\frac{1}{N_{pl}} \\sum_{p_1,p_2} \\langle o_{p_1} o_{p_2}\\rangle$ with $o_p = \\sigma_1^+\\sigma_2^-\\sigma_3^+\\sigma_4^- + \\sigma_1^-\\sigma_2^+\\sigma_3^-\\sigma_4^+$\n",
    "\n",
    "Calculating this using H1? I think\n",
    "\n",
    "- $S_A = -Tr \\rho_A \\log{\\rho_A}$\n",
    "\n",
    "Where $\\rho_A = Tr_B \\rho$\n",
    "\n",
    "Calculating this using either\n",
    "\n",
    "- $Fidelity = 2\\cdot\\frac{1 - |\\langle \\psi_0(h)|\\psi_0(h+\\delta h)\\rangle|}{\\delta h^2} $\n",
    "\n",
    "Calculating this using either"
   ]
  },
  {
   "cell_type": "markdown",
   "metadata": {},
   "source": [
    "## Measuring m using H2\n",
    "\n",
    "We basically just need to construct matrix of $m$ in the basis out which you constructed the hamiltonian H2.\n",
    "\n",
    "In H2, $m$ is the magnetization along z direction. So:\n",
    "\n",
    "$m=\\frac{1}{N}\\sum_{i} \\langle \\sigma_i^z \\rangle$"
   ]
  },
  {
   "cell_type": "code",
   "execution_count": 22,
   "metadata": {},
   "outputs": [
    {
     "data": {
      "text/plain": [
       "0.005004631139658882"
      ]
     },
     "execution_count": 22,
     "metadata": {},
     "output_type": "execute_result"
    }
   ],
   "source": [
    "function m_H2(state::Array{Float64,1}; N::Int64)\n",
    "    m = spzeros(2^N,2^N)\n",
    "    for basis_state in 0:(2^N-1) #loop over all states\n",
    "        basis_state_binary = digits!(zeros(Int64, 64), basis_state, base = 2)\n",
    "        # calculating total spin along z direction, considering it's spin 1/2\n",
    "        m[basis_state+1, basis_state+1] += (sum(basis_state_binary)-1/2*N)/N\n",
    "    end\n",
    "    #now that we have matrix m, calculate the average m_val:\n",
    "    m_val = conj.(state')*m*state\n",
    "    return m_val[1] #taking the 1st value of m_val because it's recognized as a length 1 Array\n",
    "end\n",
    "\n",
    "m_H2(eigstate2; N=N)"
   ]
  },
  {
   "cell_type": "markdown",
   "metadata": {},
   "source": [
    "## Measuring $S_{\\pi}$ using H1\n",
    "\n",
    "Constructing $S_{\\pi}$ matrix using basis of $H1$\n",
    "\n",
    "$S_{\\pi}=\\frac{1}{N}\\sum_{i,j}\\langle\\sigma_i^z\\sigma_j^z\\rangle (-1)^{i+j}$"
   ]
  },
  {
   "cell_type": "code",
   "execution_count": 26,
   "metadata": {},
   "outputs": [
    {
     "data": {
      "text/plain": [
       "0.44442496596713815"
      ]
     },
     "execution_count": 26,
     "metadata": {},
     "output_type": "execute_result"
    }
   ],
   "source": [
    "function S_pi_H1(state::Array{Float64,1}; N::Int64, L1::Int64, L2::Int64)\n",
    "    S_pi = spzeros(2^N,2^N)\n",
    "    for basis_state in 0:(2^N-1) #loop over all states\n",
    "        basis_state_binary = digits!(zeros(Int64, 64), basis_state, base = 2)\n",
    "        for i in 1:N #loop over all sites in a given state\n",
    "            for j in 1:N #loop over all sites again\n",
    "                 S_pi[basis_state+1,basis_state+1] += (basis_state_binary[i]-1/2)*(basis_state_binary[j]-1/2)*(-1)^(sum(coordinate(i;L1=L1, L2=L2))+sum(coordinate(j;L1=L1, L2=L2)))/N\n",
    "            end\n",
    "        end\n",
    "    end\n",
    "    #now that we have matrix m, calculate the average m_val:\n",
    "    S_pi_val = conj.(state')*S_pi*state\n",
    "    return S_pi_val[1] #taking the 1st value of m_val because it's recognized as a length 1 Array\n",
    "end\n",
    "\n",
    "S_pi_H1(eigstate1;N=N, L1=L1, L2=L2)"
   ]
  },
  {
   "cell_type": "code",
   "execution_count": 20,
   "metadata": {},
   "outputs": [
    {
     "data": {
      "text/plain": [
       "1.7917594200353897"
      ]
     },
     "execution_count": 20,
     "metadata": {},
     "output_type": "execute_result"
    }
   ],
   "source": [
    "function S_entangle(state::Array{Float64,1}; N::Int64, L1::Int64, L2::Int64, second_neib_list)\n",
    "    #find the first four spin interacting plaquette\n",
    "    plaq_sites = Int64[] #Has to be an array to make it ordered\n",
    "    for site in 1:N #loop over all sites\n",
    "        site_coord = coordinate(site,L1=L1, L2=L2)\n",
    "        if bit_pos((mod1(site_coord[1]-1, L2),mod1(site_coord[2]-1, L1)), L1=L1, L2=L2) ∈ second_neib_list[site]\n",
    "            push!(plaq_sites, site)\n",
    "            push!(plaq_sites, bit_pos((mod1(site_coord[1]+1, L2),site_coord[2]), L1=L1, L2=L2))\n",
    "            push!(plaq_sites, bit_pos((mod1(site_coord[1]+1, L2),mod1(site_coord[2]+1, L1)), L1=L1, L2=L2))\n",
    "            push!(plaq_sites, bit_pos((site_coord[1],mod1(site_coord[2]+1, L1)), L1=L1, L2=L2))\n",
    "            break\n",
    "        end\n",
    "    end\n",
    "    #println(plaq_sites)\n",
    "    env_sites = Int64[]\n",
    "    for site in 1:N\n",
    "        if site ∉ plaq_sites\n",
    "            push!(env_sites, site)\n",
    "        end\n",
    "    end\n",
    "    #println(env_sites)\n",
    "    C = zeros(Number, 16, Int(2^N/16))\n",
    "    for basis_state in 0:(2^N - 1)\n",
    "        basis_state_binary = digits!(zeros(Int64, 64), basis_state, base = 2)\n",
    "        a = 1; b = 1 # start at 1 to avoid 0 as numeration number\n",
    "        for i in 1:4\n",
    "            a += basis_state_binary[plaq_sites[i]] * 2^(i-1)\n",
    "        end\n",
    "        for i in 1:(N-4)\n",
    "            b += basis_state_binary[env_sites[i]] * 2^(i-1)\n",
    "        end\n",
    "        C[a, b] = state[basis_state + 1]        \n",
    "    end\n",
    "    Sing_vals = svd(C).S\n",
    "    return  -sum(Sing_vals.^2 .* log.(Sing_vals.^2))\n",
    "end\n",
    "\n",
    "S_entangle(eigstate1;N=N, L1=L1, L2=L2, second_neib_list=second_neib_list)"
   ]
  },
  {
   "cell_type": "markdown",
   "metadata": {},
   "source": [
    "## Below we write a driver  to calculate m and $S_{\\pi}$ for different h\n",
    "\n",
    "Calculate Fidelity in the driver"
   ]
  },
  {
   "cell_type": "code",
   "execution_count": 27,
   "metadata": {},
   "outputs": [
    {
     "name": "stdout",
     "output_type": "stream",
     "text": [
      "  0.090655 seconds (215.02 k allocations: 16.911 MiB, 13.14% gc time)\n",
      "J2 = 0.0 finished\n",
      "  0.006660 seconds (22.16 k allocations: 7.629 MiB)\n",
      "J2 = 2.0 finished\n"
     ]
    }
   ],
   "source": [
    "function driver(;L1::Int64, L2::Int64, h_vals, J2)\n",
    "    N = L1*L2\n",
    "    J1 = 1\n",
    "    nearest_neib_list = nearest_neib_list_gen(L1=L1, L2=L2)\n",
    "    second_neib_list = second_neib_list_gen(L1=L1, L2=L2)\n",
    "    #plaquette_list = plaquette_list_gen(;L=L, neib_list=neib_list)\n",
    "    m = []\n",
    "    S_pi = []\n",
    "    Fidelity = []\n",
    "    #Fcl_vals = []\n",
    "    #Fqm_vals = []\n",
    "    S_entangle_vals = []\n",
    "    eigstate_prev = zeros(Float64, 2^N)\n",
    "    h_prev = -1\n",
    "    for i in 1:length(h_vals)\n",
    "        h = h_vals[i]\n",
    "        H1 = Hamiltonian1(;N=N, J1=J1, J2=J2, h=h, nearest_neib_list=nearest_neib_list, second_neib_list=second_neib_list)\n",
    "        H2 = Hamiltonian2(;N=N, J1=J1, J2=J2, h=h, nearest_neib_list=nearest_neib_list, second_neib_list=second_neib_list)\n",
    "        eigstate1 = eigsolve(H1, 1, :SR, eltype(H1), tol = 10^(-12))[2][1]\n",
    "        eigstate2 = eigsolve(H2, 1, :SR, eltype(H2), tol = 10^(-12))[2][1]\n",
    "        #calculating Fidelity using eigenstates of H1\n",
    "        Fid = conj.(eigstate_prev')*eigstate1\n",
    "        (i == 1) && (Fid[1] = 1) #set Fid to be 1 manually for the first h\n",
    "        push!(m, m_H2(eigstate2; N=N))\n",
    "        push!(S_pi, S_pi_H1(eigstate1;N=N, L1=L1, L2=L2))\n",
    "        push!(Fidelity, 2*(1-abs(Fid[1]))/(h-h_prev)^2)\n",
    "        #push!(Fcl_vals, Fcl(eigstate1; L=L, neib_list=neib_list, plaquette_list=plaquette_list))\n",
    "        #push!(Fqm_vals, Fqm(eigstate1; L=L, neib_list=neib_list, plaquette_list=plaquette_list))\n",
    "        push!(S_entangle_vals, S_entangle(eigstate1;N=N, L1=L1, L2=L2, second_neib_list=second_neib_list))\n",
    "        eigstate_prev = eigstate1\n",
    "        h_prev = h\n",
    "    end\n",
    "    #return (h_vals, m, S_pi, Fidelity, Fcl_vals, Fqm_vals, S_entangle_vals)\n",
    "    return (h_vals, J2, m, S_pi, Fidelity, S_entangle_vals)\n",
    "end\n",
    "\n",
    "L1=2; L2=2; h_vals = range(0.01, 0.5, length = 50); J2_vals = range(0, 2, length = 2)\n",
    "for J2 in J2_vals\n",
    "    @time result = driver(L1=L1, L2=L2, h_vals=h_vals, J2=J2)\n",
    "\n",
    "    my_time = Dates.now()\n",
    "\n",
    "    time_finished = \"Date_$(Dates.format(my_time, \"e_dd_u_yyyy_HH_MM_SS\"))\"\n",
    "    content = \"Square_Spin_Ice_Measurement\"\n",
    "    save_path = \"E:/UC Davis/Research/Square Spin Ice/Square-Spin-Ice/Yutan_code/Results/\"\n",
    "    #\"/nfs/home/zyt329/Research/Square_spin_ice/result/\"\n",
    "    save_name = save_path*content*\"_J2=$(J2)_L1=$(L1)_L2=$(L2)_hmin=$(h_vals[1])_hmax=$(h_vals[end])_\"*time_finished*\".jld\"\n",
    "\n",
    "    save(save_name, \"result\", result)\n",
    "    println(\"J2 = $(J2) finished\")\n",
    "end"
   ]
  },
  {
   "cell_type": "code",
   "execution_count": null,
   "metadata": {},
   "outputs": [],
   "source": []
  }
 ],
 "metadata": {
  "kernelspec": {
   "display_name": "Julia 1.3.0",
   "language": "julia",
   "name": "julia-1.3"
  },
  "language_info": {
   "file_extension": ".jl",
   "mimetype": "application/julia",
   "name": "julia",
   "version": "1.3.0"
  }
 },
 "nbformat": 4,
 "nbformat_minor": 4
}
