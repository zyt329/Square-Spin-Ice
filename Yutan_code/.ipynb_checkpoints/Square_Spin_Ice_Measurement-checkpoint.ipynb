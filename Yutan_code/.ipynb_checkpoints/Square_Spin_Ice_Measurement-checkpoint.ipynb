{
 "cells": [
  {
   "cell_type": "code",
   "execution_count": 1,
   "metadata": {},
   "outputs": [],
   "source": [
    "using LinearAlgebra\n",
    "using SparseArrays\n",
    "using Arpack\n",
    "using KrylovKit\n",
    "using Dates\n",
    "using JLD"
   ]
  },
  {
   "cell_type": "markdown",
   "metadata": {},
   "source": [
    "## Specifying parameters of the model here:"
   ]
  },
  {
   "cell_type": "code",
   "execution_count": 2,
   "metadata": {},
   "outputs": [
    {
     "data": {
      "text/plain": [
       "1000"
      ]
     },
     "execution_count": 2,
     "metadata": {},
     "output_type": "execute_result"
    }
   ],
   "source": [
    "L=4;J=1;h=1000"
   ]
  },
  {
   "cell_type": "markdown",
   "metadata": {},
   "source": [
    "## Building up Hamiltonian without using k space\n",
    "- Building Hamiltonian for the simplest square lattice heisenberg model\n",
    "- Using Int64 to represent states\n",
    "- start by a 2 by 2 lattice, so takes 4 bits out of the 64 bits of an Int64.\n",
    "\n",
    "Hamiltonian is $H=J\\sum_{i=1}^{N}(S_i^z S_{i+1}^z + 1/2(S_i^+ S_{i+1}^- + S_i^- S_{i+1}^+)) $\n",
    "\n",
    "First find all neighbours of a given site in the binary representation. then build up a matrix of 16 by 16\n",
    "The k-th bit of a binary number correspond to the (i,j) site on the lattice, for a lattice of linear size L. Which could be calculated by this following function:"
   ]
  },
  {
   "cell_type": "code",
   "execution_count": 3,
   "metadata": {},
   "outputs": [
    {
     "data": {
      "text/plain": [
       "bit_pos (generic function with 1 method)"
      ]
     },
     "execution_count": 3,
     "metadata": {},
     "output_type": "execute_result"
    }
   ],
   "source": [
    "function coordinate(n;L1::Int64=2,L1::Int64=2)\n",
    "    num_sites = L^2\n",
    "    i::Int64 = Int(ceil(n/L))\n",
    "    j::Int64 = mod1(n,L)  #site i is at i-th row, j-th column\n",
    "    return (i,j)\n",
    "end\n",
    "\n",
    "function bit_pos(coordinate::Tuple{Int64,Int64};L::Int64=2)\n",
    "    n = (coordinate[1]-1)*L + coordinate[2]\n",
    "    return n\n",
    "end# Now Let's Construct Hamiltonian for our problem, by changing neighbor lists"
   ]
  },
  {
   "cell_type": "markdown",
   "metadata": {},
   "source": [
    "# Now Let's Construct Hamiltonian for our problem, by changing neighbor lists"
   ]
  },
  {
   "cell_type": "code",
   "execution_count": 4,
   "metadata": {},
   "outputs": [
    {
     "data": {
      "text/plain": [
       "16-element Array{Set{Int64},1}:\n",
       " Set([4, 13, 14, 2, 5, 8])  \n",
       " Set([7, 14, 13, 3, 6, 1])  \n",
       " Set([7, 4, 2, 16, 15, 6])  \n",
       " Set([3, 16, 8, 5, 15, 1])  \n",
       " Set([9, 4, 10, 8, 6, 1])   \n",
       " Set([7, 9, 10, 2, 3, 5])   \n",
       " Set([2, 3, 11, 8, 6, 12])  \n",
       " Set([7, 4, 11, 5, 12, 1])  \n",
       " Set([13, 10, 16, 5, 12, 6])\n",
       " Set([9, 14, 11, 5, 15, 6]) \n",
       " Set([7, 14, 10, 8, 15, 12])\n",
       " Set([7, 9, 13, 16, 11, 8]) \n",
       " Set([9, 14, 2, 16, 12, 1]) \n",
       " Set([13, 10, 2, 11, 15, 1])\n",
       " Set([4, 14, 10, 3, 16, 11])\n",
       " Set([4, 13, 9, 3, 15, 12]) "
      ]
     },
     "execution_count": 4,
     "metadata": {},
     "output_type": "execute_result"
    }
   ],
   "source": [
    "function neib(n::Int64;L::Int64=2)\n",
    "    coord = coordinate(n,L=L)\n",
    "    neibs = Tuple{Int64,Int64}[]\n",
    "    push!(neibs, (mod1(coord[1]+1,L), coord[2]))\n",
    "    push!(neibs, (mod1(coord[1]-1,L), coord[2]))\n",
    "    push!(neibs, (coord[1], mod1(coord[2]+1,L)))\n",
    "    push!(neibs, (coord[1], mod1(coord[2]-1,L)))    \n",
    "    if iseven(coord[1]+coord[2])\n",
    "        push!(neibs, (mod1(coord[1]+1,L), mod1(coord[2]-1,L)))\n",
    "        push!(neibs, (mod1(coord[1]-1,L), mod1(coord[2]+1,L)))\n",
    "    else\n",
    "        push!(neibs, (mod1(coord[1]+1,L), mod1(coord[2]+1,L)))\n",
    "        push!(neibs, (mod1(coord[1]-1,L), mod1(coord[2]-1,L)))\n",
    "    end\n",
    "    #=convert coordinations to positions in bits=#\n",
    "    neibs_bit_pos = Set{Int64}()\n",
    "    for neib in neibs\n",
    "        push!(neibs_bit_pos, bit_pos(neib,L=L))\n",
    "    end\n",
    "    return neibs_bit_pos\n",
    "end\n",
    "\n",
    "function neib_list_gen(;L::Int64=L)\n",
    "    neib_list = Set{Int64}[]\n",
    "    for n in 1:L^2\n",
    "        push!(neib_list, neib(n, L=L))\n",
    "    end\n",
    "    return neib_list\n",
    "end\n",
    "neib_list = neib_list_gen(L=L)"
   ]
  },
  {
   "cell_type": "markdown",
   "metadata": {},
   "source": [
    "# Now we can construct Hamlitonian for our system\n",
    "## Let's **NOT** make use of the Parity Symmetry for now\n",
    "\n",
    "Our Hamiltonian is originally \n",
    "\n",
    "\\begin{equation}\n",
    "\\tag{H1}\n",
    "H=\\sum_{i=1}^{N}\\sum_{\\sigma}J S_i^z S_{i+\\sigma}^z + h\\sum_{i=1}^{N} S_i^x\n",
    "\\end{equation}\n",
    "\n",
    "Or equivalently, we can do a little rotation of our system and construct Hamiltonian in that \"direction\". The Hamiltonian should be:\n",
    "\n",
    "\\begin{equation}\n",
    "\\tag{H2}\n",
    "H=\\sum_{i=1}^{N}\\sum_{\\sigma}J S_i^x S_{i+\\sigma}^x - h\\sum_{i=1}^{N} S_i^z\n",
    "\\end{equation}\n",
    "\n",
    "To simplify the meansurement of operators, we could make use of both the two coordinate systems. Since we're working in the z basis in either cases, the first(H1) comes in handy for measuring spins along the coupled direction(perpendicular to h), the second one comes in handy in measuring spin alone the direction of the field h.\n",
    "\n",
    "Equivalently, we can write our Hamiltonian as \n",
    "\n",
    "\\begin{equation}\n",
    "\\tag{H1}\n",
    "H=\\sum_{i=1}^{N}\\sum_{\\sigma}JS_i^z S_{i+\\sigma}^z + \\frac{h}{2}\\sum_{i=1}^{N} (S_i^+ + S_i^-)\n",
    "\\end{equation}\n",
    "\n",
    "\\begin{equation}\n",
    "\\tag{H2}\n",
    "H=\\sum_{i=1}^{N}\\sum_{\\sigma}\\frac{J}{4}(S_i^+ + S_i^-)(S_{i+\\sigma}^+ + S_{i+\\sigma}^-) - h\\sum_{i=1}^{N} S_i^z\n",
    "\\end{equation}\n"
   ]
  },
  {
   "cell_type": "markdown",
   "metadata": {},
   "source": [
    "## Generating Hamiltonian H1 and H2\n",
    "\n",
    "First thing first, we need to generate Hamiltonian H1 and H2 with the following 2 functions:"
   ]
  },
  {
   "cell_type": "code",
   "execution_count": 5,
   "metadata": {},
   "outputs": [
    {
     "name": "stdout",
     "output_type": "stream",
     "text": [
      "  0.594657 seconds (770.90 k allocations: 399.900 MiB, 15.82% gc time)\n",
      "  0.407441 seconds (151.32 k allocations: 400.954 MiB, 13.86% gc time)\n"
     ]
    },
    {
     "data": {
      "text/plain": [
       "65536×65536 SparseMatrixCSC{Float64,Int64} with 3211264 stored entries:\n",
       "  [1    ,     1]  =  8000.0\n",
       "  [4    ,     1]  =  0.25\n",
       "  [7    ,     1]  =  0.25\n",
       "  [10   ,     1]  =  0.25\n",
       "  [13   ,     1]  =  0.25\n",
       "  [18   ,     1]  =  0.25\n",
       "  [25   ,     1]  =  0.25\n",
       "  [35   ,     1]  =  0.25\n",
       "  [37   ,     1]  =  0.25\n",
       "  [49   ,     1]  =  0.25\n",
       "  [67   ,     1]  =  0.25\n",
       "  [69   ,     1]  =  0.25\n",
       "  ⋮\n",
       "  [65440, 65536]  =  0.25\n",
       "  [65468, 65536]  =  0.25\n",
       "  [65470, 65536]  =  0.25\n",
       "  [65488, 65536]  =  0.25\n",
       "  [65500, 65536]  =  0.25\n",
       "  [65502, 65536]  =  0.25\n",
       "  [65512, 65536]  =  0.25\n",
       "  [65519, 65536]  =  0.25\n",
       "  [65524, 65536]  =  0.25\n",
       "  [65527, 65536]  =  0.25\n",
       "  [65530, 65536]  =  0.25\n",
       "  [65533, 65536]  =  0.25\n",
       "  [65536, 65536]  =  -8000.0"
      ]
     },
     "execution_count": 5,
     "metadata": {},
     "output_type": "execute_result"
    }
   ],
   "source": [
    "function update_val(row_inds, col_inds, vals;row_ind, col_ind, val)\n",
    "    push!(row_inds, row_ind)\n",
    "    push!(col_inds, col_ind)\n",
    "    push!(vals, val)\n",
    "end\n",
    "\n",
    "#=function Hamiltonian1(;L::Int64=2, J=1, h=1, neib_list)\n",
    "    H = spzeros(2^(L^2),2^(L^2))\n",
    "    for state in 0:(2^(L^2)-1) #loop over all states\n",
    "        state_binary = digits!(zeros(Int64, 64), state, base = 2)\n",
    "        for i in 1:L^2 #loop over all sites in a given state\n",
    "            flipped_state = state ⊻ (1<<(i-1))\n",
    "            H[state+1,flipped_state+1] += (1/2)*h\n",
    "            for j in neib_list[i] #loop over(compare) all neighbors of a given site\n",
    "                H[state+1,state+1] += (state_binary[i]-1/2)*(state_binary[j]-1/2)*J/2   \n",
    "            end\n",
    "        end\n",
    "    end\n",
    "    return H\n",
    "end=#\n",
    "\n",
    "function Hamiltonian1(;L::Int64=2, J=1, h=1, neib_list)\n",
    "    row_inds = Int64[]\n",
    "    col_inds = Int64[]\n",
    "    vals = Float64[]\n",
    "    for state in 0:(2^(L^2)-1) #loop over all states\n",
    "        state_binary = digits!(zeros(Int64, 64), state, base = 2)\n",
    "        for i in 1:L^2 #loop over all sites in a given state\n",
    "            flipped_state = state ⊻ (1<<(i-1))\n",
    "            update_val(row_inds, col_inds, vals, row_ind=state+1, col_ind = flipped_state+1, val = (1/2)*h)\n",
    "            for j in neib_list[i] #loop over(compare) all neighbors of a given site\n",
    "                update_val(row_inds, col_inds, vals, row_ind = state+1, col_ind = state+1, val = (state_binary[i]-1/2)*(state_binary[j]-1/2)*J/2)\n",
    "            end\n",
    "        end\n",
    "    end\n",
    "    return sparse(row_inds, col_inds, vals, 2^(L^2), 2^(L^2), +)\n",
    "end\n",
    "\n",
    "function Hamiltonian2(;L::Int64=2, J=1, h=1, neib_list)\n",
    "    row_inds = Int64[]\n",
    "    col_inds = Int64[]\n",
    "    vals = Float64[]\n",
    "    for state in 0:(2^(L^2)-1) #loop over all states\n",
    "        state_binary = digits!(zeros(Int64, 64), state, base = 2)\n",
    "        for i in 1:L^2 #loop over all sites in a given state\n",
    "            if state_binary[i] == 1\n",
    "                update_val(row_inds, col_inds, vals, row_ind=state+1, col_ind = state+1, val = - h/2)\n",
    "            else\n",
    "                update_val(row_inds, col_inds, vals, row_ind=state+1, col_ind = state+1, val =  h/2)\n",
    "            end\n",
    "            for j in neib_list[i] #loop over(compare) all neighbors of a given site\n",
    "                flipped_state = state ⊻ (1<<(i-1))\n",
    "                flipped_state = flipped_state ⊻ (1<<(j-1))\n",
    "                update_val(row_inds, col_inds, vals, row_ind=state+1, col_ind = flipped_state+1, val =  (1/4)*(J/2))\n",
    "            end\n",
    "        end\n",
    "    end\n",
    "    return sparse(row_inds, col_inds, vals, 2^(L^2), 2^(L^2), +)\n",
    "end\n",
    "\n",
    "#=function Hamiltonian2(;L::Int64=2, J=1, h=1, neib_list)\n",
    "    H = spzeros(2^(L^2),2^(L^2))\n",
    "    for state in 0:(2^(L^2)-1) #loop over all states\n",
    "        state_binary = digits!(zeros(Int64, 64), state, base = 2)\n",
    "        for i in 1:L^2 #loop over all sites in a given state\n",
    "            if state_binary[i] == 1\n",
    "                H[state+1,state+1] -= h/2 \n",
    "            else\n",
    "                H[state+1,state+1] += h/2\n",
    "            end\n",
    "            for j in neib_list[i] #loop over(compare) all neighbors of a given site\n",
    "                flipped_state = state ⊻ (1<<(i-1))\n",
    "                flipped_state = flipped_state ⊻ (1<<(j-1))\n",
    "                H[state+1,flipped_state+1] += (1/4)*(J/2)\n",
    "            end\n",
    "        end\n",
    "    end\n",
    "    return H\n",
    "end=#\n",
    "\n",
    "@time H1 = Hamiltonian1(;L=L, J=J, h=h, neib_list=neib_list)\n",
    "@time H2 = Hamiltonian2(;L=L, J=J, h=h, neib_list=neib_list)"
   ]
  },
  {
   "cell_type": "markdown",
   "metadata": {},
   "source": [
    "## Using Lanczos to calculate the ground state and compare see if the Hamiltonians are compatible\n",
    "\n",
    "I'm using ```KrylovKit.jl``` to calculate.\n",
    "\n",
    "It appears that the eigenstates is automatically normalized by the package."
   ]
  },
  {
   "cell_type": "code",
   "execution_count": 6,
   "metadata": {},
   "outputs": [
    {
     "data": {
      "text/plain": [
       "65536-element Array{Float64,1}:\n",
       "  1.3039055520632788e-16\n",
       "  2.31772215000641e-17  \n",
       "  3.915311972376871e-17 \n",
       " -6.32542793915564e-18  \n",
       "  3.534228904715122e-18 \n",
       " -1.6818345464609513e-17\n",
       " -2.156044812553797e-18 \n",
       "  2.019324749982158e-17 \n",
       "  5.418605936034917e-19 \n",
       " -6.2672679967583024e-18\n",
       " -1.5248159515710016e-17\n",
       "  1.8546402459688926e-17\n",
       " -6.420571507563613e-19 \n",
       "  ⋮                     \n",
       "  1.9744609013725405e-17\n",
       "  6.23829758502004e-8   \n",
       " -0.00012493751946892422\n",
       " -2.686145312753168e-16 \n",
       "  9.799564303652452e-18 \n",
       " -0.00012493751946892497\n",
       "  6.238297619134349e-8  \n",
       " -3.659868290631243e-19 \n",
       " -0.00012493751946942574\n",
       " -1.3613503501460194e-15\n",
       " -1.7206281867703562e-15\n",
       "  0.9999996253744571    "
      ]
     },
     "execution_count": 6,
     "metadata": {},
     "output_type": "execute_result"
    }
   ],
   "source": [
    "eigs1 = eigsolve(H1, 1, :SR, eltype(H1), tol = 10^(-20))\n",
    "eigs2 = eigsolve(H2, 1, :SR, eltype(H2), tol = 10^(-20))\n",
    "eigstate1 = eigs1[2][1]./(conj.(eigs1[2][1]')*eigs1[2][1])\n",
    "eigstate2 = eigs2[2][1]./(conj.(eigs2[2][1]')*eigs2[2][1])"
   ]
  },
  {
   "cell_type": "markdown",
   "metadata": {},
   "source": [
    "## In case we need to normalize the eigenstates\n",
    "```julia\n",
    "eigstate1 = eigs1[2][1]./(conj.(eigs1[2][1]')*eigs1[2][1])\n",
    "eigstate2 = eigs2[2][1]./(conj.(eigs2[2][1]')*eigs2[2][1])\n",
    "```"
   ]
  },
  {
   "cell_type": "markdown",
   "metadata": {},
   "source": [
    "# Now we could calculate quantities given that we have the ground state.\n",
    "\n",
    "Here x means the direction of h, y means the direction of coupling.\n",
    "\n",
    "- $m=\\frac{1}{N}\\sum_{i} \\langle \\sigma_i^x \\rangle$\n",
    "\n",
    "Calculating this using H2\n",
    "\n",
    "- $S_{\\pi}=\\frac{1}{N}\\sum_{i,j}\\langle\\sigma_i^z\\sigma_j^z\\rangle (-1)^{i+j}$\n",
    "\n",
    "Calculating this using H1\n",
    "\n",
    "- $F_{cl}=\\frac{1}{N_{pl}} \\sum_{p_1,p_2} \\langle f_{p_1} f_{p_2}\\rangle$\n",
    "\n",
    "Calculating this using H1\n",
    "\n",
    "- $F_{QM}=\\frac{1}{N_{pl}} \\sum_{p_1,p_2} \\langle o_{p_1} o_{p_2}\\rangle$ with $o_p = \\sigma_1^+\\sigma_2^-\\sigma_3^+\\sigma_4^- + \\sigma_1^-\\sigma_2^+\\sigma_3^-\\sigma_4^+$\n",
    "\n",
    "Calculating this using H1? I think\n",
    "\n",
    "- $S_A = -Tr \\rho_A \\log{\\rho_A}$\n",
    "\n",
    "Where $\\rho_A = Tr_B \\rho$\n",
    "\n",
    "Calculating this using either\n",
    "\n",
    "- $Fidelity = 2\\cdot\\frac{1 - |\\langle \\psi_0(h)|\\psi_0(h+\\delta h)\\rangle|}{\\delta h^2} $\n",
    "\n",
    "Calculating this using either\n",
    "\n",
    "\n"
   ]
  },
  {
   "cell_type": "markdown",
   "metadata": {},
   "source": [
    "## Measuring m using H2\n",
    "\n",
    "We basically just need to construct matrix of $m$ in the basis out which you constructed the hamiltonian H2.\n",
    "\n",
    "In H2, $m$ is the magnetization along z direction. So:\n",
    "\n",
    "$m=\\frac{1}{N}\\sum_{i} \\langle \\sigma_i^z \\rangle$"
   ]
  },
  {
   "cell_type": "code",
   "execution_count": 7,
   "metadata": {},
   "outputs": [
    {
     "data": {
      "text/plain": [
       "0.4999999063436016"
      ]
     },
     "execution_count": 7,
     "metadata": {},
     "output_type": "execute_result"
    }
   ],
   "source": [
    "function m_H2(state::Array{Float64,1}; L::Int64)\n",
    "    m = spzeros(2^(L^2),2^(L^2))\n",
    "    for basis_state in 0:(2^(L^2)-1) #loop over all states\n",
    "        basis_state_binary = digits!(zeros(Int64, 64), basis_state, base = 2)\n",
    "        # calculating total spin along z direction, considering it's spin 1/2\n",
    "        m[basis_state+1, basis_state+1] += (sum(basis_state_binary)-1/2*L^2)/L^2\n",
    "    end\n",
    "    #now that we have matrix m, calculate the average m_val:\n",
    "    m_val = conj.(state')*m*state\n",
    "    return m_val[1] #taking the 1st value of m_val because it's recognized as a length 1 Array\n",
    "end\n",
    "\n",
    "m_H2(eigstate2; L=L)"
   ]
  },
  {
   "cell_type": "markdown",
   "metadata": {},
   "source": [
    "## Measuring $S_{\\pi}$ using H1\n",
    "\n",
    "Constructing $S_{\\pi}$ matrix using basis of $H1$\n",
    "\n",
    "$S_{\\pi}=\\frac{1}{N}\\sum_{i,j}\\langle\\sigma_i^z\\sigma_j^z\\rangle (-1)^{i+j}$"
   ]
  },
  {
   "cell_type": "code",
   "execution_count": 8,
   "metadata": {},
   "outputs": [
    {
     "data": {
      "text/plain": [
       "0.2501249531405267"
      ]
     },
     "execution_count": 8,
     "metadata": {},
     "output_type": "execute_result"
    }
   ],
   "source": [
    "function S_pi_H1(state::Array{Float64,1}; L::Int64, neib_list)\n",
    "    S_pi = spzeros(2^(L^2),2^(L^2))\n",
    "    for basis_state in 0:(2^(L^2)-1) #loop over all states\n",
    "        basis_state_binary = digits!(zeros(Int64, 64), basis_state, base = 2)\n",
    "        for i in 1:L^2 #loop over all sites in a given state\n",
    "            for j in 1:L^2 #loop over all sites again\n",
    "                 S_pi[basis_state+1,basis_state+1] += (basis_state_binary[i]-1/2)*(basis_state_binary[j]-1/2)*(-1)^(sum(coordinate(i;L=L))+sum(coordinate(j;L=L)))/(L^2)\n",
    "            end\n",
    "        end\n",
    "    end\n",
    "    #now that we have matrix m, calculate the average m_val:\n",
    "    S_pi_val = conj.(state')*S_pi*state\n",
    "    return S_pi_val[1] #taking the 1st value of m_val because it's recognized as a length 1 Array\n",
    "end\n",
    "\n",
    "function S_pi_H1_abs(state::Array{Float64,1}; L::Int64, neib_list)\n",
    "    S_pi = spzeros(2^(L^2),2^(L^2))\n",
    "    for basis_state in 0:(2^(L^2)-1) #loop over all states\n",
    "        basis_state_binary = digits!(zeros(Int64, 64), basis_state, base = 2)\n",
    "        for i in 1:L^2 #loop over all sites in a given state\n",
    "            for j in 1:L^2 #loop over all sites again\n",
    "                 S_pi[basis_state+1,basis_state+1] += abs((basis_state_binary[i]-1/2)*(basis_state_binary[j]-1/2))/(L^2)\n",
    "            end\n",
    "        end\n",
    "    end\n",
    "    #now that we have matrix m, calculate the average m_val:\n",
    "    S_pi_val = conj.(state')*S_pi*state\n",
    "    return S_pi_val[1] #taking the 1st value of m_val because it's recognized as a length 1 Array\n",
    "end\n",
    "\n",
    "S_pi_H1(eigstate1; L=L, neib_list=neib_list)"
   ]
  },
  {
   "cell_type": "markdown",
   "metadata": {},
   "source": [
    "## Measuring staggered flippability\n",
    "\n",
    "We first need to find all the plaquettes . Generate a list of plaquettes.\n",
    "\n",
    "### Classical Staggered Flippability\n",
    "\n",
    "$F_{cl}=\\frac{1}{N_{pl}} \\sum_{p_1,p_2} \\langle f_{p_1} f_{p_2} \\rangle (-1)^{p_1+p_2}$\n",
    "\n",
    "### Quamtum Staggered Flippability\n",
    "\n",
    "$F_{QM}=\\frac{1}{N_{pl}} \\sum_{p_1,p_2} \\langle o_{p_1} o_{p_2} \\rangle (-1)^{p_1+p_2}$ with $o_p = \\sigma_1^+\\sigma_2^-\\sigma_3^+\\sigma_4^- + \\sigma_1^-\\sigma_2^+\\sigma_3^-\\sigma_4^+$"
   ]
  },
  {
   "cell_type": "code",
   "execution_count": 9,
   "metadata": {},
   "outputs": [
    {
     "name": "stdout",
     "output_type": "stream",
     "text": [
      "Any[[2, 1, 5, 6], [4, 3, 7, 8], [5, 8, 12, 9], [7, 6, 10, 11], [10, 9, 13, 14], [12, 11, 15, 16], [13, 16, 4, 1], [15, 14, 2, 3]]\n",
      "[0, 0, 1, 1, 0, 0, 1, 1]\n",
      "true\n",
      "Fcl of state is 0.10949999999407957\n",
      "Fqm of state is 0.1095625546386067\n"
     ]
    }
   ],
   "source": [
    "function plaquette_list_gen(;L, neib_list)\n",
    "    plaquette_list = []\n",
    "    for site in 1:L^2 #loop over all sites\n",
    "        site_coord = coordinate(site,L=L)\n",
    "        if bit_pos((mod1(site_coord[1]-1, L),mod1(site_coord[2]-1, L)),L=L) ∈ neib_list[site]\n",
    "            plaq_site = Int64[] #Has to be an array to make it ordered\n",
    "            push!(plaq_site, site)\n",
    "            push!(plaq_site, bit_pos((site_coord[1],mod1(site_coord[2]-1, L)),L=L))\n",
    "            push!(plaq_site, bit_pos((mod1(site_coord[1]+1, L),mod1(site_coord[2]-1, L)),L=L))\n",
    "            push!(plaq_site, bit_pos((mod1(site_coord[1]+1, L),site_coord[2]),L=L))\n",
    "            #push the found plaquette to the plaquette list\n",
    "            push!(plaquette_list, plaq_site)\n",
    "        end\n",
    "    end\n",
    "    return plaquette_list\n",
    "end\n",
    "\n",
    "plaquette_list = plaquette_list_gen(;L=L, neib_list=neib_list)\n",
    "println(plaquette_list)\n",
    "\n",
    "function plaquette_phase_factors_gen(;L::Int64, plaquette_list)\n",
    "    @assert(iseven(L), \"L must be even for our lattice\")\n",
    "    phase_factors = Int64[]\n",
    "    for p in 1:Int(L/2)\n",
    "        for j in 1:Int(L/2)\n",
    "            push!(phase_factors, 0)\n",
    "        end\n",
    "        for k in 1:Int(L/2)\n",
    "            push!(phase_factors, 1)\n",
    "        end\n",
    "    end\n",
    "    return phase_factors\n",
    "end\n",
    "plaquette_phase_factors = plaquette_phase_factors_gen(;L=L, plaquette_list = plaquette_list)\n",
    "println(plaquette_phase_factors)\n",
    "\n",
    "function is_flippable(state_binary::Array, plaquette_sites::Array{Int64, 1} )\n",
    "    spin_plaquette = Int64[]\n",
    "    for site in plaquette_sites\n",
    "        push!(spin_plaquette, state_binary[site])\n",
    "    end\n",
    "    if (spin_plaquette - [1;0;1;0] == [0;0;0;0]) || (spin_plaquette - [0;1;0;1] == [0;0;0;0])\n",
    "        return true\n",
    "    else\n",
    "        return false\n",
    "    end\n",
    "end    \n",
    "\n",
    "println(is_flippable(digits!(zeros(Int64, 64), 10, base = 2), [1,2,3,4]))\n",
    "    \n",
    "function Fcl(state::Array{Float64,1}; L::Int64, neib_list, plaquette_list)\n",
    "    Fcl = spzeros(2^(L^2),2^(L^2))\n",
    "    for basis_state in 0:(2^(L^2)-1) #loop over all states\n",
    "        basis_state_binary = digits!(zeros(Int64, 64), basis_state, base = 2)\n",
    "        plaquette_list_len = length(plaquette_list)\n",
    "        for i in 1:plaquette_list_len                \n",
    "            for j in 1:plaquette_list_len\n",
    "                if is_flippable(basis_state_binary, plaquette_list[i]) && is_flippable(basis_state_binary, plaquette_list[j])\n",
    "                    Fcl[basis_state+1, basis_state+1] += (-1)^(plaquette_phase_factors[i]+plaquette_phase_factors[j]) / plaquette_list_len\n",
    "                end\n",
    "            end\n",
    "        end\n",
    "    end\n",
    "    # calculating Fcl value for the state\n",
    "    Fcl_val = conj.(state')*Fcl*state\n",
    "    return Fcl_val[1]\n",
    "end\n",
    "\n",
    "println(\"Fcl of state is \"* \"$(Fcl(eigstate1; L=L, neib_list=neib_list, plaquette_list=plaquette_list))\")\n",
    "\n",
    "function Fqm(state::Array{Float64,1}; L::Int64, neib_list, plaquette_list)\n",
    "    Fqm = spzeros(2^(L^2),2^(L^2))\n",
    "    for basis_state in 0:(2^(L^2)-1) #loop over all states\n",
    "        basis_state_binary = digits!(zeros(Int64, 64), basis_state, base = 2)\n",
    "        plaquette_list_len = length(plaquette_list)\n",
    "        for i in 1:plaquette_list_len                \n",
    "            for j in 1:plaquette_list_len\n",
    "                if is_flippable(basis_state_binary, plaquette_list[i]) && is_flippable(basis_state_binary, plaquette_list[j])\n",
    "                    flipped_state = basis_state\n",
    "                    for site in vcat(plaquette_list[i], plaquette_list[j])\n",
    "                        flipped_state = flipped_state ⊻ (1<<(site-1))\n",
    "                    end\n",
    "                    Fqm[basis_state+1, flipped_state+1] += (-1)^(plaquette_phase_factors[i]+plaquette_phase_factors[j]) / plaquette_list_len\n",
    "                end\n",
    "            end\n",
    "        end\n",
    "    end\n",
    "    # calculating Fcl value for the state\n",
    "    Fqm_val = conj.(state')*Fqm*state\n",
    "    return Fqm_val[1]\n",
    "end\n",
    "\n",
    "println(\"Fqm of state is \"* \"$(Fqm(eigstate1; L=L, neib_list=neib_list, plaquette_list=plaquette_list))\")"
   ]
  },
  {
   "cell_type": "markdown",
   "metadata": {},
   "source": [
    "## Measuring entanglement entropy\n",
    "\n",
    "We need to rearrange the coefficients(in another word, wave function) of the ground state to a matrix. With the rows of the matrix represent states of the sub system, columns of the matrix represent states of the environment.\n",
    "\n",
    "To put it explicitly, originally we write every state in the system as \n",
    "\n",
    "\\begin{equation}\n",
    "\\tag{original}\n",
    "|GS\\rangle = \\sum_{i} C_i |\\psi_i\\rangle\n",
    "\\end{equation}\n",
    "\n",
    "We separate out a small part (part A) of the system, and treat the rest (part B) of the system as environment. \n",
    "\n",
    "\\begin{equation}\n",
    "\\tag{part A seperated}\n",
    "|GS\\rangle = \\sum_{i} C_{a,b} |\\psi_a\\rangle \\otimes |\\psi_b\\rangle\n",
    "\\end{equation}\n",
    "\n",
    "Then we could do a SVD decomposition of the coefficient matrix $C_{a,b}$, \n",
    "\n",
    "\\begin{equation}\n",
    "\\tag{SVD}\n",
    "C = U^+ D V\n",
    "\\end{equation}\n",
    "\n",
    "With D being a diagonal matrix. The diagonal matrices are \"singular values\" $\\lambda_i$. \n",
    "\n",
    "The entanglement Entropy can be calculated as:\n",
    "\n",
    "\\begin{equation}\n",
    "\\tag{Entanglement Entropy}\n",
    "S = -\\sum_i \\lambda_i^2 \\log{\\lambda_i^2}\n",
    "\\end{equation}\n",
    "\n",
    "\n",
    "### Setting up correspondance between a state number i and the a,b number pair\n",
    "\n",
    "$a$ is the number the state of the sub system corresponds to. $b$ is the number the state of the environment corresponds to.\n",
    "\n",
    "As an example: suppose A is site 1,2; environment is site 3-8:\n",
    "\n",
    "state $|11;110000 \\rangle$ corresponds to $i=15$ and also $a=3,b=3$"
   ]
  },
  {
   "cell_type": "code",
   "execution_count": 10,
   "metadata": {},
   "outputs": [
    {
     "data": {
      "text/plain": [
       "3.3485504787927675e-6"
      ]
     },
     "execution_count": 10,
     "metadata": {},
     "output_type": "execute_result"
    }
   ],
   "source": [
    "function S_entangle(state::Array{Float64,1}; L::Int64, neib_list)\n",
    "    #find the first four spin interacting plaquette\n",
    "    plaq_sites = Int64[] #Has to be an array to make it ordered\n",
    "    for site in 1:L^2 #loop over all sites\n",
    "        site_coord = coordinate(site,L=L)\n",
    "        if bit_pos((mod1(site_coord[1]-1, L),mod1(site_coord[2]-1, L)),L=L) ∈ neib_list[site]\n",
    "            push!(plaq_sites, site)\n",
    "            push!(plaq_sites, bit_pos((mod1(site_coord[1]+1, L),site_coord[2]),L=L))\n",
    "            push!(plaq_sites, bit_pos((mod1(site_coord[1]+1, L),mod1(site_coord[2]+1, L)),L=L))\n",
    "            push!(plaq_sites, bit_pos((site_coord[1],mod1(site_coord[2]+1, L)),L=L))\n",
    "            break\n",
    "        end\n",
    "    end\n",
    "    #println(plaq_sites)\n",
    "    env_sites = Int64[]\n",
    "    for site in 1:L^2\n",
    "        if site ∉ plaq_sites\n",
    "            push!(env_sites, site)\n",
    "        end\n",
    "    end\n",
    "    #println(env_sites)\n",
    "    C = zeros(Number, 16, Int(2^(L^2)/16))\n",
    "    for basis_state in 0:(2^(L^2) - 1)\n",
    "        basis_state_binary = digits!(zeros(Int64, 64), basis_state, base = 2)\n",
    "        a = 1; b = 1 # start at 1 to avoid 0 as numeration number\n",
    "        for i in 1:4\n",
    "            a += basis_state_binary[plaq_sites[i]] * 2^(i-1)\n",
    "        end\n",
    "        for i in 1:(L^2-4)\n",
    "            b += basis_state_binary[env_sites[i]] * 2^(i-1)\n",
    "        end\n",
    "        C[a, b] = state[basis_state + 1]        \n",
    "    end\n",
    "    Sing_vals = svd(C).S\n",
    "    return  -sum(Sing_vals.^2 .* log.(Sing_vals.^2))\n",
    "end\n",
    "\n",
    "S_entangle(eigstate1; L=L, neib_list=neib_list)"
   ]
  },
  {
   "cell_type": "code",
   "execution_count": 11,
   "metadata": {},
   "outputs": [
    {
     "data": {
      "text/plain": [
       "3"
      ]
     },
     "execution_count": 11,
     "metadata": {},
     "output_type": "execute_result"
    }
   ],
   "source": [
    "a=[1;0]\n",
    "b=[1;0]\n",
    "c = vcat(a,b)\n",
    "#sz = conj.(a')*b*a\n",
    "typeof(c)\n",
    "#println(c)\n",
    "Int(0b11)"
   ]
  },
  {
   "cell_type": "markdown",
   "metadata": {},
   "source": [
    "## Below we write a driver  to calculate m and $S_{\\pi}$ for different h\n",
    "\n",
    "Calculate Fidelity in the driver"
   ]
  },
  {
   "cell_type": "code",
   "execution_count": 16,
   "metadata": {},
   "outputs": [
    {
     "name": "stdout",
     "output_type": "stream",
     "text": [
      "794.139285 seconds (7.65 G allocations: 798.580 GiB, 13.13% gc time)\n",
      "finished\n"
     ]
    }
   ],
   "source": [
    "function driver(;L=L, h_vals)\n",
    "    J = 1\n",
    "    neib_list = neib_list_gen(L=L)\n",
    "    plaquette_list = plaquette_list_gen(;L=L, neib_list=neib_list)\n",
    "    m = []\n",
    "    S_pi = []\n",
    "    Fidelity = []\n",
    "    Fcl_vals = []\n",
    "    Fqm_vals = []\n",
    "    S_entangle_vals = []\n",
    "    eigstate_prev = zeros(Float64, 2^(L^2))\n",
    "    h_prev = -1\n",
    "    for i in 1:length(h_vals)\n",
    "        h = h_vals[i]\n",
    "        H1 = Hamiltonian1(;L=L, J=J, h=h, neib_list=neib_list)\n",
    "        H2 = Hamiltonian2(;L=L, J=J, h=h, neib_list=neib_list)\n",
    "        eigstate1 = eigsolve(H1, 1, :SR, eltype(H1), tol = 10^(-20))[2][1]\n",
    "        eigstate2 = eigsolve(H2, 1, :SR, eltype(H2), tol = 10^(-20))[2][1]\n",
    "        #calculating Fidelity using eigenstates of H1\n",
    "        Fid = conj.(eigstate_prev')*eigstate1\n",
    "        (i == 1) && (Fid[1] = 1) #set Fid to be 1 manually for the first h\n",
    "        push!(m, m_H2(eigstate2; L=L))\n",
    "        push!(S_pi, S_pi_H1(eigstate1; L=L, neib_list=neib_list))\n",
    "        push!(Fidelity, 2*(1-abs(Fid[1]))/(h-h_prev)^2)\n",
    "        push!(Fcl_vals, Fcl(eigstate1; L=L, neib_list=neib_list, plaquette_list=plaquette_list))\n",
    "        push!(Fqm_vals, Fqm(eigstate1; L=L, neib_list=neib_list, plaquette_list=plaquette_list))\n",
    "        push!(S_entangle_vals, S_entangle(eigstate1; L=L, neib_list=neib_list))\n",
    "        eigstate_prev = eigstate1\n",
    "        h_prev = h\n",
    "    end\n",
    "    return (h_vals, m, S_pi, Fidelity, Fcl_vals, Fqm_vals, S_entangle_vals)\n",
    "end\n",
    "\n",
    "L=4; h_vals = 1 ./ ((range(0.1, 0.0001, length = 100)).^2)\n",
    "@time result = driver(L=L, h_vals=h_vals)\n",
    "\n",
    "my_time = Dates.now()\n",
    "\n",
    "time_finished = \"Date_$(Dates.format(my_time, \"e_dd_u_yyyy_HH_MM_SS\"))\"\n",
    "content = \"Square_Spin_Ice_Measurement\"\n",
    "save_path = \"E:/UC Davis/Research/Square Spin Ice/Square-Spin-Ice/Yutan_code/Results/\"\n",
    "#\"/nfs/home/zyt329/Research/Square_spin_ice/result/\"\n",
    "save_name = save_path*content*\"_L=$(L)_hmin=$(h_vals[1])_hmax=$(h_vals[end])_\"*time_finished*\".jld\"\n",
    "\n",
    "save(save_name, \"result\", result)\n",
    "println(\"finished\")"
   ]
  },
  {
   "cell_type": "code",
   "execution_count": 33,
   "metadata": {},
   "outputs": [
    {
     "data": {
      "text/plain": [
       "1.791759469228055"
      ]
     },
     "execution_count": 33,
     "metadata": {},
     "output_type": "execute_result"
    }
   ],
   "source": [
    "log(6)"
   ]
  },
  {
   "cell_type": "code",
   "execution_count": 33,
   "metadata": {},
   "outputs": [
    {
     "data": {
      "text/plain": [
       "-9.039382249249678"
      ]
     },
     "execution_count": 33,
     "metadata": {},
     "output_type": "execute_result"
    }
   ],
   "source": [
    "minimum(eigs2[1])"
   ]
  },
  {
   "cell_type": "markdown",
   "metadata": {},
   "source": [
    "## check S_entangle code sith 4 sites\n",
    "\n",
    "Check with the state $1/\\sqrt{2} (|1111\\rangle + |0000\\rangle)$"
   ]
  },
  {
   "cell_type": "code",
   "execution_count": 28,
   "metadata": {},
   "outputs": [
    {
     "data": {
      "text/plain": [
       "0.6931471805599454"
      ]
     },
     "execution_count": 28,
     "metadata": {},
     "output_type": "execute_result"
    }
   ],
   "source": [
    "function S_entangle(state::Array{Float64,1}; L::Int64, neib_list)\n",
    "    #println(plaq_sites)\n",
    "    plaq_sites = [1]\n",
    "    env_sites = Int64[]\n",
    "    for site in 1:L^2\n",
    "        if site != 1\n",
    "            push!(env_sites, site)\n",
    "        end\n",
    "    end\n",
    "    #println(env_sites)\n",
    "    C = zeros(Number, 2, Int(2^(L^2)/2))\n",
    "    for basis_state in 0:(2^(L^2) - 1)\n",
    "        basis_state_binary = digits!(zeros(Int64, 64), basis_state, base = 2)\n",
    "        a = 1; b = 1 # start at 1 to avoid 0 as numeration number\n",
    "        for i in 1\n",
    "            a += basis_state_binary[plaq_sites[i]] * 2^(i-1)\n",
    "        end\n",
    "        for i in 1:(L^2-1)\n",
    "            b += basis_state_binary[env_sites[i]] * 2^(i-1)\n",
    "        end\n",
    "        C[a, b] = state[basis_state + 1]        \n",
    "    end\n",
    "    Sing_vals = svd(C).S\n",
    "    return  -sum(Sing_vals.^2 .* log.(Sing_vals.^2))\n",
    "end\n",
    "\n",
    "S_entangle([0.7071067811865475,0,0,0,0,0,0,0,0,0,0,0,0,0,0,0.7071067811865475]; L=2, neib_list=neib_list)"
   ]
  },
  {
   "cell_type": "code",
   "execution_count": 17,
   "metadata": {},
   "outputs": [
    {
     "data": {
      "text/plain": [
       "Eigen{Float64,Float64,Array{Float64,2},Array{Float64,1}}\n",
       "eigenvalues:\n",
       "16-element Array{Float64,1}:\n",
       " -0.5\n",
       " -0.5\n",
       " -0.5\n",
       " -0.5\n",
       " -0.5\n",
       " -0.5\n",
       "  0.0\n",
       "  0.0\n",
       "  0.0\n",
       "  0.0\n",
       "  0.0\n",
       "  0.0\n",
       "  0.0\n",
       "  0.0\n",
       "  1.5\n",
       "  1.5\n",
       "eigenvectors:\n",
       "16×16 Array{Float64,2}:\n",
       " 0.0  0.0  0.0  0.0  0.0  0.0  0.0  0.0  …  0.0  0.0  0.0  0.0  0.0  1.0  0.0\n",
       " 0.0  0.0  0.0  0.0  0.0  0.0  1.0  0.0     0.0  0.0  0.0  0.0  0.0  0.0  0.0\n",
       " 0.0  0.0  0.0  0.0  0.0  0.0  0.0  1.0     0.0  0.0  0.0  0.0  0.0  0.0  0.0\n",
       " 1.0  0.0  0.0  0.0  0.0  0.0  0.0  0.0     0.0  0.0  0.0  0.0  0.0  0.0  0.0\n",
       " 0.0  0.0  0.0  0.0  0.0  0.0  0.0  0.0     0.0  0.0  0.0  0.0  0.0  0.0  0.0\n",
       " 0.0  1.0  0.0  0.0  0.0  0.0  0.0  0.0  …  0.0  0.0  0.0  0.0  0.0  0.0  0.0\n",
       " 0.0  0.0  1.0  0.0  0.0  0.0  0.0  0.0     0.0  0.0  0.0  0.0  0.0  0.0  0.0\n",
       " 0.0  0.0  0.0  0.0  0.0  0.0  0.0  0.0     1.0  0.0  0.0  0.0  0.0  0.0  0.0\n",
       " 0.0  0.0  0.0  0.0  0.0  0.0  0.0  0.0     0.0  1.0  0.0  0.0  0.0  0.0  0.0\n",
       " 0.0  0.0  0.0  1.0  0.0  0.0  0.0  0.0     0.0  0.0  0.0  0.0  0.0  0.0  0.0\n",
       " 0.0  0.0  0.0  0.0  1.0  0.0  0.0  0.0  …  0.0  0.0  0.0  0.0  0.0  0.0  0.0\n",
       " 0.0  0.0  0.0  0.0  0.0  0.0  0.0  0.0     0.0  0.0  1.0  0.0  0.0  0.0  0.0\n",
       " 0.0  0.0  0.0  0.0  0.0  1.0  0.0  0.0     0.0  0.0  0.0  0.0  0.0  0.0  0.0\n",
       " 0.0  0.0  0.0  0.0  0.0  0.0  0.0  0.0     0.0  0.0  0.0  1.0  0.0  0.0  0.0\n",
       " 0.0  0.0  0.0  0.0  0.0  0.0  0.0  0.0     0.0  0.0  0.0  0.0  1.0  0.0  0.0\n",
       " 0.0  0.0  0.0  0.0  0.0  0.0  0.0  0.0  …  0.0  0.0  0.0  0.0  0.0  0.0  1.0"
      ]
     },
     "execution_count": 17,
     "metadata": {},
     "output_type": "execute_result"
    }
   ],
   "source": [
    "eigen(H1)"
   ]
  },
  {
   "cell_type": "code",
   "execution_count": 23,
   "metadata": {},
   "outputs": [
    {
     "data": {
      "text/plain": [
       "2-element Array{Any,1}:\n",
       " 1\n",
       " 2"
      ]
     },
     "execution_count": 23,
     "metadata": {},
     "output_type": "execute_result"
    }
   ],
   "source": [
    "(row_inds, col_inds, vals) = ([],[],[])\n",
    "function update_val(row_inds, col_inds, vals;row_ind, col_ind, val)\n",
    "    push!(row_inds, row_ind)\n",
    "    push!(col_inds, col_ind)\n",
    "    push!(vals, val)\n",
    "end\n",
    "\n",
    "update_val(row_inds, col_inds, vals, row_ind=1, col_ind=1, val=1)\n",
    "update_val(row_inds, col_inds, vals, row_ind=2, col_ind=2, val=2)\n",
    "vals"
   ]
  },
  {
   "cell_type": "code",
   "execution_count": null,
   "metadata": {},
   "outputs": [],
   "source": []
  }
 ],
 "metadata": {
  "kernelspec": {
   "display_name": "Julia 1.3.0",
   "language": "julia",
   "name": "julia-1.3"
  },
  "language_info": {
   "file_extension": ".jl",
   "mimetype": "application/julia",
   "name": "julia",
   "version": "1.3.0"
  }
 },
 "nbformat": 4,
 "nbformat_minor": 4
}
