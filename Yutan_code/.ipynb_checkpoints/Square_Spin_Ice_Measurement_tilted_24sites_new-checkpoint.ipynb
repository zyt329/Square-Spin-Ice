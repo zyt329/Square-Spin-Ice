{
 "cells": [
  {
   "cell_type": "code",
   "execution_count": 1,
   "metadata": {},
   "outputs": [],
   "source": [
    "using LinearAlgebra\n",
    "using SparseArrays\n",
    "using Arpack\n",
    "using KrylovKit\n",
    "using Dates\n",
    "using JLD\n",
    "using Plots"
   ]
  },
  {
   "cell_type": "markdown",
   "metadata": {},
   "source": [
    "## Specifying parameters of the model here:"
   ]
  },
  {
   "cell_type": "code",
   "execution_count": 2,
   "metadata": {},
   "outputs": [
    {
     "data": {
      "text/plain": [
       "24"
      ]
     },
     "execution_count": 2,
     "metadata": {},
     "output_type": "execute_result"
    }
   ],
   "source": [
    "L1=11;L2=11;J1=1;J2=1;h=0\n",
    "N = 24"
   ]
  },
  {
   "cell_type": "markdown",
   "metadata": {},
   "source": [
    "## Building up Hamiltonian without using k space\n",
    "- Building Hamiltonian for a generic rectangular lattice\n",
    "- Using Int64 to represent states\n",
    "\n",
    "Hamiltonian is $H=J\\sum_{i=1}^{N}(S_i^z S_{i+1}^z + 1/2(S_i^+ S_{i+1}^- + S_i^- S_{i+1}^+)) $\n",
    "\n",
    "## Building bond list (neib list) and input number of sites\n",
    "\n",
    "### neib list for a rectangular lattice\n",
    "\n",
    "Given the x and y dimension of the rectangular lattice (effectively, total number of sites $N$), we should output a neighbor list for all sites numbered from $1$ to $N$.\n",
    "\n",
    "Here we are assuming we have a rectangular lattice of $L1$ in wide and $L2$ in length. So $L2$ rows and $L1$ columns in total."
   ]
  },
  {
   "cell_type": "code",
   "execution_count": 3,
   "metadata": {},
   "outputs": [
    {
     "data": {
      "text/plain": [
       "bit_pos (generic function with 1 method)"
      ]
     },
     "execution_count": 3,
     "metadata": {},
     "output_type": "execute_result"
    }
   ],
   "source": [
    "function coordinate(n;L1::Int64=2,L2::Int64=2)\n",
    "    @assert((n ≤ L1 * L2) && (1 ≤ n),\"The numbering (bit position) of a site shouldn't exceed the total number of sites $(L1 * L2), and should be bigger than 0.\")\n",
    "    i::Int64 = Int(ceil(n/L1))\n",
    "    j::Int64 = mod1(n,L1)  #site i is at i-th row, j-th column\n",
    "    return (i,j)\n",
    "end\n",
    "\n",
    "function bit_pos(coordinate::Tuple{Int64,Int64};L1::Int64=2,L2::Int64=2)\n",
    "    @assert((coordinate[1] ≤ L2) && (coordinate[2] ≤ L1),\"The cooridnate should be within the range of the lattice size $L1 by $L2\")\n",
    "    n = (coordinate[1]-1)*L1 + coordinate[2]\n",
    "    return n\n",
    "end"
   ]
  },
  {
   "cell_type": "code",
   "execution_count": 7,
   "metadata": {},
   "outputs": [
    {
     "data": {
      "text/plain": [
       "(1, 3)"
      ]
     },
     "execution_count": 7,
     "metadata": {},
     "output_type": "execute_result"
    }
   ],
   "source": [
    "coordinate(3;L1=11,L2=11)"
   ]
  },
  {
   "cell_type": "markdown",
   "metadata": {},
   "source": [
    "## Generate neib list given that we know the dimension of the latticem\n",
    "\n",
    "It'll be a little bit tricky for a tilted lattice. Here we try for a 20 sites lattice.\n",
    "\n",
    "### 1.Building a base lattice\n",
    "\n",
    "The first step is to build a much larger lattice of our original shape. Because the tilted lattice will also be just a repeating component of the original lattice, we want to select the tilted part out of the original one. Here I'm using a $10 \\times 10$ base lattice."
   ]
  },
  {
   "cell_type": "code",
   "execution_count": 4,
   "metadata": {},
   "outputs": [
    {
     "data": {
      "text/plain": [
       "121-element Array{Set{Int64},1}:\n",
       " Set([2, 112, 11, 22, 12, 111])   \n",
       " Set([13, 14, 3, 112, 111, 1])    \n",
       " Set([4, 14, 13, 2, 114, 113])    \n",
       " Set([3, 114, 16, 113, 5, 15])    \n",
       " Set([4, 116, 16, 15, 115, 6])    \n",
       " Set([7, 116, 17, 5, 115, 18])    \n",
       " Set([117, 17, 8, 118, 6, 18])    \n",
       " Set([7, 9, 117, 19, 118, 20])    \n",
       " Set([119, 10, 120, 19, 8, 20])   \n",
       " Set([119, 9, 120, 11, 21, 22])   \n",
       " Set([111, 10, 121, 22, 21, 1])   \n",
       " Set([23, 24, 13, 11, 22, 1])     \n",
       " Set([23, 14, 2, 3, 12, 24])      \n",
       " ⋮                                \n",
       " Set([100, 121, 98, 99, 109, 111])\n",
       " Set([100, 121, 101, 112, 11, 1]) \n",
       " Set([100, 2, 101, 3, 113, 111])  \n",
       " Set([102, 2, 3, 114, 112, 103])  \n",
       " Set([4, 102, 103, 113, 5, 115])  \n",
       " Set([4, 116, 104, 114, 5, 105])  \n",
       " Set([115, 7, 117, 104, 6, 105])  \n",
       " Set([7, 116, 107, 106, 118, 6])  \n",
       " Set([119, 9, 117, 107, 8, 106])  \n",
       " Set([9, 120, 109, 108, 8, 118])  \n",
       " Set([119, 10, 121, 109, 11, 108])\n",
       " Set([100, 10, 120, 11, 110, 111])"
      ]
     },
     "execution_count": 4,
     "metadata": {},
     "output_type": "execute_result"
    }
   ],
   "source": [
    "function neib(n::Int64;L1::Int64=2, L2::Int64=2)\n",
    "    coord = coordinate(n,L1=L1, L2=L2)\n",
    "    neibs = Tuple{Int64,Int64}[]\n",
    "    push!(neibs, (mod1(coord[1]+1,L2), coord[2]))\n",
    "    push!(neibs, (mod1(coord[1]-1,L2), coord[2]))\n",
    "    push!(neibs, (coord[1], mod1(coord[2]+1,L1)))\n",
    "    push!(neibs, (coord[1], mod1(coord[2]-1,L1)))    \n",
    "    if iseven(coord[1]+coord[2])\n",
    "        push!(neibs, (mod1(coord[1]+1,L2), mod1(coord[2]-1,L1)))\n",
    "        push!(neibs, (mod1(coord[1]-1,L2), mod1(coord[2]+1,L1)))\n",
    "    else\n",
    "        push!(neibs, (mod1(coord[1]+1,L2), mod1(coord[2]+1,L1)))\n",
    "        push!(neibs, (mod1(coord[1]-1,L2), mod1(coord[2]-1,L1)))\n",
    "    end\n",
    "    #=convert coordinations to positions in bits=#\n",
    "    neibs_bit_pos = Set{Int64}()\n",
    "    for neib in neibs\n",
    "        push!(neibs_bit_pos, bit_pos(neib, L1=L1, L2=L2))\n",
    "    end\n",
    "    return neibs_bit_pos\n",
    "end\n",
    "\n",
    "function nearest_neib(n::Int64;L1::Int64=2, L2::Int64=2)\n",
    "    coord = coordinate(n,L1=L1, L2=L2)\n",
    "    neibs = Tuple{Int64,Int64}[]\n",
    "    push!(neibs, (mod1(coord[1]+1,L2), coord[2]))\n",
    "    push!(neibs, (mod1(coord[1]-1,L2), coord[2]))\n",
    "    push!(neibs, (coord[1], mod1(coord[2]+1,L1)))\n",
    "    push!(neibs, (coord[1], mod1(coord[2]-1,L1)))    \n",
    "    #=convert coordinations to positions in bits=#\n",
    "    neibs_bit_pos = Set{Int64}()\n",
    "    for neib in neibs\n",
    "        push!(neibs_bit_pos, bit_pos(neib, L1=L1, L2=L2))\n",
    "    end\n",
    "    return neibs_bit_pos\n",
    "end\n",
    "\n",
    "function second_neib(n::Int64;L1::Int64=2, L2::Int64=2)\n",
    "    coord = coordinate(n,L1=L1, L2=L2)\n",
    "    neibs = Tuple{Int64,Int64}[]   \n",
    "    if iseven(coord[1]+coord[2])\n",
    "        push!(neibs, (mod1(coord[1]+1,L2), mod1(coord[2]-1,L1)))\n",
    "        push!(neibs, (mod1(coord[1]-1,L2), mod1(coord[2]+1,L1)))\n",
    "    else\n",
    "        push!(neibs, (mod1(coord[1]+1,L2), mod1(coord[2]+1,L1)))\n",
    "        push!(neibs, (mod1(coord[1]-1,L2), mod1(coord[2]-1,L1)))\n",
    "    end\n",
    "    #=convert coordinations to positions in bits=#\n",
    "    neibs_bit_pos = Set{Int64}()\n",
    "    for neib in neibs\n",
    "        push!(neibs_bit_pos, bit_pos(neib, L1=L1, L2=L2))\n",
    "    end\n",
    "    return neibs_bit_pos\n",
    "end\n",
    "\n",
    "function neib_list_gen(;L1::Int64=2, L2::Int64=2)\n",
    "    neib_list = Set{Int64}[]\n",
    "    for n in 1:L1*L2\n",
    "        push!(neib_list, neib(n, L1=L1, L2=L2))\n",
    "    end\n",
    "    return neib_list\n",
    "end\n",
    "\n",
    "function nearest_neib_list_gen(;L1::Int64=2, L2::Int64=2)\n",
    "    neib_list = Set{Int64}[]\n",
    "    for n in 1:L1*L2\n",
    "        push!(neib_list, nearest_neib(n, L1=L1, L2=L2))\n",
    "    end\n",
    "    return neib_list\n",
    "end\n",
    "\n",
    "function second_neib_list_gen(;L1::Int64=2, L2::Int64=2)\n",
    "    neib_list = Set{Int64}[]\n",
    "    for n in 1:L1*L2\n",
    "        push!(neib_list, second_neib(n, L1=L1, L2=L2))\n",
    "    end\n",
    "    return neib_list\n",
    "end\n",
    "\n",
    "#L1=11;L2=11\n",
    "#neib_list = neib_list_gen(L1=L1, L2=L2)\n",
    "\n",
    "L1=11;L2=11\n",
    "nearest_neib_list = nearest_neib_list_gen(L1=L1, L2=L2)\n",
    "second_neib_list = second_neib_list_gen(L1=L1, L2=L2)\n",
    "all_neib_list = neib_list_gen(L1=L1, L2=L2)"
   ]
  },
  {
   "cell_type": "markdown",
   "metadata": {},
   "source": [
    "### 2. Set up the periodicity of the tilted lattice\n",
    "\n",
    "Basically I want to set the translational invariance of the tilted lattice in the base lattice. For example in the following $20$ sites tilted lattice on a $10 \\times 10$ base lattice case,  the invariant translations of the tilted lattice are $T_x^4T_y^{2}$ and $T_x^{-4}T_y^{4}$.\n",
    "<div>\n",
    "<img src=\"24site_tilted_lattice_new.png\" width=\"200\"/>\n",
    "</div>\n",
    "\n",
    "The four boundaries of the tilted lattice are (expressed in equations):\n",
    "\\begin{equation}\n",
    "    y \\geq -x + 10\n",
    "\\end{equation}\n",
    "\n",
    "\\begin{equation}\n",
    "    y \\leq -x + 16\n",
    "\\end{equation}\n",
    "\n",
    "\\begin{equation}\n",
    "    y \\leq x + 4\n",
    "\\end{equation}\n",
    "\n",
    "\\begin{equation}\n",
    "    y \\geq x - 4\n",
    "\\end{equation}\n",
    "\n",
    "\\begin{equation}\n",
    "    y -> i, x -> j\n",
    "\\end{equation}"
   ]
  },
  {
   "cell_type": "code",
   "execution_count": 5,
   "metadata": {},
   "outputs": [
    {
     "data": {
      "text/plain": [
       "24-element Array{Any,1}:\n",
       " (3, 7)\n",
       " (4, 6)\n",
       " (4, 7)\n",
       " (4, 8)\n",
       " (5, 5)\n",
       " (5, 6)\n",
       " (5, 7)\n",
       " (5, 8)\n",
       " (5, 9)\n",
       " (6, 4)\n",
       " (6, 5)\n",
       " (6, 6)\n",
       " (6, 7)\n",
       " (6, 8)\n",
       " (6, 9)\n",
       " (7, 4)\n",
       " (7, 5)\n",
       " (7, 6)\n",
       " (7, 7)\n",
       " (7, 8)\n",
       " (8, 5)\n",
       " (8, 6)\n",
       " (8, 7)\n",
       " (9, 6)"
      ]
     },
     "execution_count": 5,
     "metadata": {},
     "output_type": "execute_result"
    }
   ],
   "source": [
    "syms = [(3,3),(4,-4)]\n",
    "# L1 is wide (x direction), L2 is length (y direction)\n",
    "function translation(coord::Array{Int64, 1}; direction::Symbol, dist::Int64)\n",
    "    translated_coord = [coord[1], coord[2]]\n",
    "    if direction == :x\n",
    "        coord[2] += dist\n",
    "    end\n",
    "    if direction == :y\n",
    "        coord[1] += dist\n",
    "    end\n",
    "    return nothing\n",
    "end\n",
    "\n",
    "function isvalid(coord;L1::Int64, L2::Int64)\n",
    "    return (coord[1]>0)&&(coord[2]>0)&&(coord[1]≤L2)&&(coord[2]≤L1)\n",
    "end\n",
    "\n",
    "# Represent the symmetry operations by a tuple: (4,2),(-4,4)\n",
    "function find_translated_coords(coord::Tuple{Int64, Int64},syms::Tuple{Int64, Int64}...;N,L1::Int64, L2::Int64)\n",
    "    equi_coords = Set()\n",
    "    push!(equi_coords, coord)\n",
    "    origin_coord = coord\n",
    "    coord = [coord[1], coord[2]]\n",
    "    function loop_over_syms(coord; current_layer = 1, tot_layer = length(syms))\n",
    "        last_coord = Tuple(coord)\n",
    "        if current_layer < tot_layer\n",
    "            loop_over_syms(coord; current_layer = current_layer+1)\n",
    "            for i in 1:Int(ceil(L1*L2/N))\n",
    "                sym_op = syms[current_layer]\n",
    "                translation(coord; direction=:x, dist=i*sym_op[1])\n",
    "                translation(coord; direction=:y, dist=i*sym_op[2])\n",
    "                loop_over_syms(coord; current_layer = current_layer+1)\n",
    "                coord = [last_coord[1], last_coord[2]]\n",
    "                \n",
    "                translation(coord; direction=:x, dist=-i*sym_op[1])\n",
    "                translation(coord; direction=:y, dist=-i*sym_op[2])\n",
    "                loop_over_syms(coord; current_layer = current_layer+1)\n",
    "                coord = [last_coord[1], last_coord[2]]\n",
    "            end\n",
    "        else\n",
    "            if isvalid(coord, L1=L1, L2=L2)\n",
    "                push!(equi_coords, Tuple(coord))\n",
    "            end\n",
    "            coord = [last_coord[1], last_coord[2]]\n",
    "            for i in 1:Int(ceil(L1*L2/N))\n",
    "                sym_op = syms[current_layer]\n",
    "                translation(coord; direction=:x, dist=i*sym_op[1])\n",
    "                translation(coord; direction=:y, dist=i*sym_op[2])\n",
    "                if isvalid(coord, L1=L1, L2=L2)\n",
    "                    push!(equi_coords, Tuple(coord))\n",
    "                end\n",
    "                coord = [last_coord[1], last_coord[2]]\n",
    "                \n",
    "                translation(coord; direction=:x, dist=-i*sym_op[1])\n",
    "                translation(coord; direction=:y, dist=-i*sym_op[2])\n",
    "                if isvalid(coord, L1=L1, L2=L2)\n",
    "                    push!(equi_coords, Tuple(coord))\n",
    "                end\n",
    "                coord = [last_coord[1], last_coord[2]]\n",
    "            end\n",
    "            coord = [origin_coord[1], origin_coord[2]]\n",
    "        end\n",
    "    end\n",
    "    loop_over_syms(coord)\n",
    "    return equi_coords\n",
    "end\n",
    "\n",
    "function find_valid_sites(;L1::Int64, L2::Int64, N::Int64)\n",
    "    valid_coords = []\n",
    "    all_coords = []\n",
    "    for i in 1:L2\n",
    "        for j in 1:L1\n",
    "            push!(all_coords, (i, j))\n",
    "        end\n",
    "    end\n",
    "    for coord in all_coords\n",
    "        i = coord[1]; j = coord[2]\n",
    "        if (i+j ≥ 10)&&(i+j ≤ 16)&&(i-j ≤ 4)&&(i -j ≥ -4)\n",
    "            is_valid_site = true\n",
    "            equi_coords = find_translated_coords(coord,syms...;N=N,L1=L1, L2=L2)  \n",
    "            for equi_coord in equi_coords\n",
    "                if ((equi_coord[1]+equi_coord[2] ≥ 10)&&(equi_coord[1]+equi_coord[2] ≤16)&&(equi_coord[1]-equi_coord[2] ≤ 4)&&(equi_coord[1] - equi_coord[2] ≥ -4))&&((i,j)>equi_coord)\n",
    "                    is_valid_site = false\n",
    "                end        \n",
    "            end\n",
    "            if is_valid_site\n",
    "                #println(\"$(coord) is valid\")\n",
    "                push!(valid_coords, coord)\n",
    "            end\n",
    "        else\n",
    "            continue\n",
    "        end\n",
    "    end\n",
    "    return valid_coords\n",
    "end\n",
    "\n",
    "sites = find_valid_sites(L1=11, L2=11, N=N)\n",
    "#println(sites)"
   ]
  },
  {
   "cell_type": "markdown",
   "metadata": {},
   "source": [
    "### We need to construct a correspondance of points out of the tilted lattice to points in the tilted lattice\n",
    "\n",
    "- Go over all sites in the base lattice, Build up a dictionary. Using each site as a key, the value is the site's corresponding site inside the tilted lattice. \n",
    "\n",
    "- pick up all the neighbors of the sites inside the tilted lattice, use the dictionary to convert their neighbors who are not inside the tilted lattice to sites inside the lattice. \n",
    "\n",
    "- numbering the sites and the neighbors"
   ]
  },
  {
   "cell_type": "code",
   "execution_count": 8,
   "metadata": {},
   "outputs": [
    {
     "data": {
      "text/plain": [
       "Dict{Any,Any} with 121 entries:\n",
       "  (8, 10)  => (5, 7)\n",
       "  (9, 5)   => (5, 9)\n",
       "  (3, 6)   => (6, 9)\n",
       "  (10, 5)  => (6, 9)\n",
       "  (6, 9)   => (6, 9)\n",
       "  (4, 4)   => (7, 7)\n",
       "  (9, 4)   => (5, 8)\n",
       "  (10, 11) => (7, 8)\n",
       "  (8, 9)   => (5, 6)\n",
       "  (9, 1)   => (5, 5)\n",
       "  (11, 1)  => (7, 5)\n",
       "  (8, 11)  => (5, 8)\n",
       "  (3, 1)   => (6, 4)\n",
       "  (1, 10)  => (5, 6)\n",
       "  (4, 5)   => (7, 8)\n",
       "  (9, 9)   => (6, 6)\n",
       "  (11, 8)  => (8, 5)\n",
       "  (2, 4)   => (5, 7)\n",
       "  (6, 5)   => (6, 5)\n",
       "  (4, 9)   => (8, 5)\n",
       "  (8, 4)   => (4, 8)\n",
       "  (1, 2)   => (7, 8)\n",
       "  (9, 2)   => (5, 6)\n",
       "  (5, 1)   => (4, 8)\n",
       "  (6, 11)  => (7, 4)\n",
       "  ⋮        => ⋮"
      ]
     },
     "execution_count": 8,
     "metadata": {},
     "output_type": "execute_result"
    }
   ],
   "source": [
    "function corre_site_dic(;L1::Int64, L2::Int64, N::Int64, syms, sites)\n",
    "    site2site = Dict()\n",
    "    all_coords = []\n",
    "    for i in 1:L2\n",
    "        for j in 1:L1\n",
    "            push!(all_coords, (i, j))\n",
    "        end\n",
    "    end\n",
    "    for coord in all_coords\n",
    "        i = coord[1]; j = coord[2]\n",
    "        \n",
    "        equi_coords = find_translated_coords(coord,syms...;N=N,L1=L1, L2=L2)  \n",
    "        for equi_coord in equi_coords\n",
    "            if (equi_coord[1],equi_coord[2]) ∈ sites\n",
    "                site2site[(i, j)] = equi_coord\n",
    "            end\n",
    "        end\n",
    "        \n",
    "    end\n",
    "    return site2site\n",
    "end\n",
    "\n",
    "site2site = corre_site_dic(;L1=11, L2=11, N=N, syms=syms, sites=sites)\n",
    "#corre_site_dic(;L1=11, L2=11, sites=sites)[(11,11)]"
   ]
  },
  {
   "cell_type": "code",
   "execution_count": 9,
   "metadata": {},
   "outputs": [
    {
     "data": {
      "text/plain": [
       "tilted_neib_list_gen (generic function with 1 method)"
      ]
     },
     "execution_count": 9,
     "metadata": {},
     "output_type": "execute_result"
    }
   ],
   "source": [
    "function tilted_neib_list_gen(;site2site, sites, neib_list, L1::Int64=11, L2::Int64=11)\n",
    "    new_neib_list = Dict()\n",
    "    for site in sites\n",
    "        bit_position = bit_pos((site[1], site[2]);L1=L1,L2=L2)\n",
    "        neibs = neib_list[bit_position]\n",
    "        new_neibs = Set()\n",
    "        for neib in neibs\n",
    "            if coordinate(neib;L1=L1,L2=L2) ∉ sites\n",
    "                push!(new_neibs, bit_pos(site2site[coordinate(neib;L1=L1,L2=L2)];L1=L1,L2=L2) )\n",
    "            else\n",
    "                push!(new_neibs, neib)\n",
    "            end\n",
    "        end\n",
    "        new_neib_list[bit_pos((site[1], site[2]);L1=L1,L2=L2)] = new_neibs\n",
    "    end\n",
    "    return new_neib_list\n",
    "end"
   ]
  },
  {
   "cell_type": "code",
   "execution_count": 10,
   "metadata": {},
   "outputs": [
    {
     "data": {
      "text/plain": [
       "numbered_tilted_neib_list_gen (generic function with 1 method)"
      ]
     },
     "execution_count": 10,
     "metadata": {},
     "output_type": "execute_result"
    }
   ],
   "source": [
    "function numbered_tilted_neib_list_gen(tilted_neib_list)\n",
    "    all_keys = []\n",
    "    for key in keys(tilted_neib_list)\n",
    "        push!(all_keys, key)\n",
    "    end\n",
    "    sort!(all_keys)\n",
    "    \n",
    "    key2numbering = Dict()\n",
    "    for i in 1:length(all_keys)\n",
    "        key2numbering[all_keys[i]] = i\n",
    "    end\n",
    "    \n",
    "    numbered_tilted_neib_list = []\n",
    "    for i in 1:length(all_keys)\n",
    "        neibs = Set{Int64}()\n",
    "        for value in tilted_neib_list[all_keys[i]]\n",
    "            push!(neibs, key2numbering[value])\n",
    "        end\n",
    "        push!(numbered_tilted_neib_list, neibs)\n",
    "    end\n",
    "    \n",
    "    return numbered_tilted_neib_list\n",
    "end"
   ]
  },
  {
   "cell_type": "code",
   "execution_count": 11,
   "metadata": {},
   "outputs": [
    {
     "data": {
      "text/plain": [
       "Hamiltonian2_update (generic function with 1 method)"
      ]
     },
     "execution_count": 11,
     "metadata": {},
     "output_type": "execute_result"
    }
   ],
   "source": [
    "function update_val(row_inds, col_inds, vals;row_ind, col_ind, val)\n",
    "    push!(row_inds, row_ind)\n",
    "    push!(col_inds, col_ind)\n",
    "    push!(vals, val)\n",
    "end\n",
    "\n",
    "function Hamiltonian1(;N::Int64=2, J1=1, J2=1, h=1, nearest_neib_list, second_neib_list)\n",
    "    row_inds = Int64[]\n",
    "    col_inds = Int64[]\n",
    "    vals = Float64[]\n",
    "    for state in 0:(2^N-1) #loop over all states\n",
    "        state_binary = digits!(zeros(Int64, 64), state, base = 2)\n",
    "        for i in 1:N #loop over all sites in a given state\n",
    "            flipped_state = state ⊻ (1<<(i-1))\n",
    "            update_val(row_inds, col_inds, vals, row_ind=state+1, col_ind = flipped_state+1, val = (1/2)*h)\n",
    "            for j in nearest_neib_list[i] #loop over(compare) all neighbors of a given site\n",
    "                update_val(row_inds, col_inds, vals, row_ind = state+1, col_ind = state+1, val = (state_binary[i]-1/2)*(state_binary[j]-1/2)*J1/2)\n",
    "            end\n",
    "            for j in second_neib_list[i] #loop over(compare) all neighbors of a given site\n",
    "                update_val(row_inds, col_inds, vals, row_ind = state+1, col_ind = state+1, val = (state_binary[i]-1/2)*(state_binary[j]-1/2)*J2/2)\n",
    "            end\n",
    "        end\n",
    "    end\n",
    "    return sparse(row_inds, col_inds, vals, 2^N, 2^N, +)\n",
    "end\n",
    "\n",
    "function Hamiltonian1_update(H1;h_new, h_old, nearest_neib_list, second_neib_list)\n",
    "    h_ratio = h_new/ h_old\n",
    "    for state in 0:(2^N-1) #loop over all states\n",
    "        for i in 1:N #loop over all sites in a given state\n",
    "            flipped_state = state ⊻ (1<<(i-1))\n",
    "            H1[state+1, flipped_state+1] = H1[state+1, flipped_state+1]*h_ratio \n",
    "        end\n",
    "    end\n",
    "    return H1\n",
    "end\n",
    "\n",
    "\n",
    "function Hamiltonian2(;N::Int64=2, J1=1, J2=1, h=1, nearest_neib_list, second_neib_list)\n",
    "    row_inds = Int64[]\n",
    "    col_inds = Int64[]\n",
    "    vals = Float64[]\n",
    "    for state in 0:(2^N-1) #loop over all states\n",
    "        state_binary = digits!(zeros(Int64, 64), state, base = 2)\n",
    "        for i in 1:N #loop over all sites in a given state\n",
    "            if state_binary[i] == 1\n",
    "                update_val(row_inds, col_inds, vals, row_ind=state+1, col_ind = state+1, val = - h/2)\n",
    "            else\n",
    "                update_val(row_inds, col_inds, vals, row_ind=state+1, col_ind = state+1, val =  h/2)\n",
    "            end\n",
    "            for j in nearest_neib_list[i] #loop over(compare) all neighbors of a given site\n",
    "                flipped_state = state ⊻ (1<<(i-1))\n",
    "                flipped_state = flipped_state ⊻ (1<<(j-1))\n",
    "                update_val(row_inds, col_inds, vals, row_ind=state+1, col_ind = flipped_state+1, val =  (1/4)*(J1/2))\n",
    "            end\n",
    "            for j in second_neib_list[i] #loop over(compare) all neighbors of a given site\n",
    "                flipped_state = state ⊻ (1<<(i-1))\n",
    "                flipped_state = flipped_state ⊻ (1<<(j-1))\n",
    "                update_val(row_inds, col_inds, vals, row_ind=state+1, col_ind = flipped_state+1, val =  (1/4)*(J2/2))\n",
    "            end\n",
    "        end\n",
    "    end\n",
    "    return sparse(row_inds, col_inds, vals, 2^N, 2^N, +)\n",
    "end\n",
    "\n",
    "function Hamiltonian2_update(H2;h_new, h_old, nearest_neib_list, second_neib_list)\n",
    "    h_ratio = h_new/ h_old\n",
    "    for state in 0:(2^N-1) #loop over all states\n",
    "        H2[state+1, state+1] = H2[state+1, state+1] * h_ratio\n",
    "    end\n",
    "    return H2\n",
    "end\n"
   ]
  },
  {
   "cell_type": "code",
   "execution_count": 12,
   "metadata": {},
   "outputs": [
    {
     "data": {
      "text/plain": [
       "m_H2 (generic function with 1 method)"
      ]
     },
     "execution_count": 12,
     "metadata": {},
     "output_type": "execute_result"
    }
   ],
   "source": [
    "function m_H2(state::Array{Float64,1}; N::Int64)\n",
    "    m = spzeros(2^N,2^N)\n",
    "    for basis_state in 0:(2^N-1) #loop over all states\n",
    "        basis_state_binary = digits!(zeros(Int64, 64), basis_state, base = 2)\n",
    "        # calculating total spin along z direction, considering it's spin 1/2\n",
    "        m[basis_state+1, basis_state+1] += (sum(basis_state_binary)-1/2*N)/N\n",
    "    end\n",
    "    #now that we have matrix m, calculate the average m_val:\n",
    "    m_val = conj.(state')*m*state\n",
    "    return m_val[1] #taking the 1st value of m_val because it's recognized as a length 1 Array\n",
    "end"
   ]
  },
  {
   "cell_type": "code",
   "execution_count": 8,
   "metadata": {},
   "outputs": [
    {
     "data": {
      "text/plain": [
       "S_pi_H1 (generic function with 1 method)"
      ]
     },
     "execution_count": 8,
     "metadata": {},
     "output_type": "execute_result"
    }
   ],
   "source": [
    "function S_pi_H1(state::Array{Float64,1}; N::Int64, neib_list)\n",
    "    odd_even = [1,1,0,1,1,0,1,0,1,1,0,1,0,1,0,0,1,0,1,0,0,1,0,0]\n",
    "    \n",
    "    S_pi = spzeros(2^N,2^N)\n",
    "    for basis_state in 0:(2^N-1) #loop over all states\n",
    "        basis_state_binary = digits!(zeros(Int64, 64), basis_state, base = 2)\n",
    "        for i in 1:N #loop over all sites in a given state\n",
    "            for j in 1:N #loop over all sites again\n",
    "                 S_pi[basis_state+1,basis_state+1] += (basis_state_binary[i]-1/2)*(basis_state_binary[j]-1/2)*(-1)^(odd_even[i]+odd_even[j])/N\n",
    "            end\n",
    "        end\n",
    "    end\n",
    "    #now that we have matrix m, calculate the average m_val:\n",
    "    S_pi_val = conj.(state')*S_pi*state\n",
    "    return S_pi_val[1] #taking the 1st value of m_val because it's recognized as a length 1 Array\n",
    "end"
   ]
  },
  {
   "cell_type": "code",
   "execution_count": 9,
   "metadata": {},
   "outputs": [
    {
     "data": {
      "text/plain": [
       "S_pi_0_H1 (generic function with 1 method)"
      ]
     },
     "execution_count": 9,
     "metadata": {},
     "output_type": "execute_result"
    }
   ],
   "source": [
    "function S_pi_0_H1(state::Array{Float64,1}; N::Int64, neib_list)\n",
    "    #build up the phase factor for use later\n",
    "    odd_even = [1,0,0,0,1,1,1,1,1,0,0,0,0,0,0,1,1,1,1,1,0,0,0,1]\n",
    "    # start calculating S_pi\n",
    "    S_pi = 0\n",
    "    for basis_state in 0:(2^N-1) #loop over all states\n",
    "        basis_state_binary = digits!(zeros(Int64, 64), basis_state, base = 2)\n",
    "        for i in 1:N #loop over all sites in a given state\n",
    "            for j in 1:N #loop over all sites again\n",
    "                 S_pi += conj(state[basis_state+1])*state[basis_state+1]*(basis_state_binary[i]-1/2)*(basis_state_binary[j]-1/2)*(odd_even[i]+odd_even[j])/N\n",
    "            end\n",
    "        end\n",
    "    end\n",
    "    return S_pi #taking the 1st value of m_val because it's recognized as a length 1 Array\n",
    "end"
   ]
  },
  {
   "cell_type": "code",
   "execution_count": 10,
   "metadata": {},
   "outputs": [
    {
     "data": {
      "text/plain": [
       "S_0_pi_H1 (generic function with 1 method)"
      ]
     },
     "execution_count": 10,
     "metadata": {},
     "output_type": "execute_result"
    }
   ],
   "source": [
    "function S_0_pi_H1(state::Array{Float64,1}; N::Int64, neib_list)\n",
    "    #build up the phase factor for use later\n",
    "    odd_even = [1,0,1,0,1,0,1,0,1,0,1,0,1,0,1,0,1,0,1,0,1,0,1,0]\n",
    "    # start calculating S_pi\n",
    "    S_pi = 0\n",
    "    for basis_state in 0:(2^N-1) #loop over all states\n",
    "        basis_state_binary = digits!(zeros(Int64, 64), basis_state, base = 2)\n",
    "        for i in 1:N #loop over all sites in a given state\n",
    "            for j in 1:N #loop over all sites again\n",
    "                 S_pi += conj(state[basis_state+1])*state[basis_state+1]*(basis_state_binary[i]-1/2)*(basis_state_binary[j]-1/2)*(odd_even[i]+odd_even[j])/N\n",
    "            end\n",
    "        end\n",
    "    end\n",
    "    return S_pi #taking the 1st value of m_val because it's recognized as a length 1 Array\n",
    "end"
   ]
  },
  {
   "cell_type": "markdown",
   "metadata": {},
   "source": [
    "## Measuring $S_{real}[i,j]=\\langle s_{1,1} s_{i,j} \\rangle$ using H1 with fast speed"
   ]
  },
  {
   "cell_type": "code",
   "execution_count": 11,
   "metadata": {},
   "outputs": [
    {
     "data": {
      "text/plain": [
       "S_real_H1 (generic function with 1 method)"
      ]
     },
     "execution_count": 11,
     "metadata": {},
     "output_type": "execute_result"
    }
   ],
   "source": [
    "function S_real_H1(state::Array{Float64,1}; N::Int64, neib_list)\n",
    "    # start calculating S_real\n",
    "    # There are 2 sites per unit cell. So we should calculate them separately. \n",
    "    S_real1 = zeros(Float64, L2, L1)\n",
    "    S_real2 = zeros(Float64, L2, L1)\n",
    "    for basis_state in 0:(2^N-1) #loop over all states\n",
    "        basis_state_binary = digits!(zeros(Int64, 64), basis_state, base = 2)\n",
    "        for i in 1:N #loop over all sites in a given state\n",
    "            S_real1[coordinate(i;L1=L1, L2=L2)[1], coordinate(i;L1=L1, L2=L2)[2]] +=  conj(state[basis_state+1])*state[basis_state+1]*(basis_state_binary[1]-1/2)*(basis_state_binary[i]-1/2)\n",
    "        end\n",
    "        for i in 1:N #loop over all sites in a given state\n",
    "            S_real2[coordinate(i;L1=L1, L2=L2)[1], coordinate(i;L1=L1, L2=L2)[2]] +=  conj(state[basis_state+1])*state[basis_state+1]*(basis_state_binary[3]-1/2)*(basis_state_binary[i]-1/2)\n",
    "        end\n",
    "    end\n",
    "    return (S_real1, S_real2) #taking the 1st value of m_val because it's recognized as a length 1 Array\n",
    "end\n"
   ]
  },
  {
   "cell_type": "code",
   "execution_count": 12,
   "metadata": {},
   "outputs": [
    {
     "data": {
      "text/plain": [
       "S_entangle (generic function with 1 method)"
      ]
     },
     "execution_count": 12,
     "metadata": {},
     "output_type": "execute_result"
    }
   ],
   "source": [
    "function S_entangle(state::Array{Float64,1}; N::Int64, neib_list)\n",
    "    #find the first four spin interacting plaquette\n",
    "    plaq_sites = [3,4,7,8] #Has to be an array to make it ordered\n",
    "    env_sites = [1,2,5,6,9,10,11,12,13,14,15,16,17,18,19,20,21,22,23,24]\n",
    "\n",
    "    #println(env_sites)\n",
    "    C = zeros(Number, 16, Int(2^N/16))\n",
    "    for basis_state in 0:(2^N - 1)\n",
    "        basis_state_binary = digits!(zeros(Int64, 64), basis_state, base = 2)\n",
    "        a = 1; b = 1 # start at 1 to avoid 0 as numeration number\n",
    "        for i in 1:4\n",
    "            a += basis_state_binary[plaq_sites[i]] * 2^(i-1)\n",
    "        end\n",
    "        for i in 1:(N-4)\n",
    "            b += basis_state_binary[env_sites[i]] * 2^(i-1)\n",
    "        end\n",
    "        C[a, b] = state[basis_state + 1]        \n",
    "    end\n",
    "    Sing_vals = svd(C).S\n",
    "    return  -sum(Sing_vals.^2 .* log.(Sing_vals.^2))\n",
    "end"
   ]
  },
  {
   "cell_type": "code",
   "execution_count": null,
   "metadata": {},
   "outputs": [],
   "source": [
    "function driver(;N::Int64=24,L1::Int64, L2::Int64, J1=1, J2, h_vals)\n",
    "    N = N\n",
    "    J = 1\n",
    "    #generating neib lists\n",
    "    syms = [(3,3),(4,-4)]\n",
    "    nearest_neib_list = nearest_neib_list_gen(L1=L1, L2=L2)\n",
    "    second_neib_list = second_neib_list_gen(L1=L1, L2=L2)\n",
    "    all_neib_list = neib_list_gen(L1=L1, L2=L2)\n",
    "    sites = find_valid_sites(L1=11, L2=11, N=N)\n",
    "    site2site = corre_site_dic(;L1=11, L2=11, N=N, syms=syms, sites=sites)\n",
    "    tilted_nearest_neib_list = tilted_neib_list_gen(site2site=site2site, sites=sites, neib_list=nearest_neib_list, L1=11, L2=11)\n",
    "    tilted_second_neib_list = tilted_neib_list_gen(site2site=site2site, sites=sites, neib_list=second_neib_list, L1=11, L2=11)\n",
    "    tilted_all_neib_list = tilted_neib_list_gen(site2site=site2site, sites=sites, neib_list=all_neib_list, L1=11, L2=11)\n",
    "    numbered_tilted_nearest_neib_list = numbered_tilted_neib_list_gen(tilted_nearest_neib_list)\n",
    "    numbered_tilted_second_neib_list = numbered_tilted_neib_list_gen(tilted_second_neib_list)\n",
    "    numbered_tilted_all_neib_list = numbered_tilted_neib_list_gen(tilted_all_neib_list)\n",
    "    \n",
    "    #plaquette_list = plaquette_list_gen(;L=L, neib_list=neib_list)\n",
    "    \n",
    "    m = []\n",
    "    S_pi = []\n",
    "    Fidelity = []\n",
    "    #Fcl_vals = []\n",
    "    #Fqm_vals = []\n",
    "    S_entangle_vals = []\n",
    "    S_0_pi = []\n",
    "    S_pi_0 = []\n",
    "    S_real = []\n",
    "    \n",
    "    h_prev = h_vals[1]\n",
    "    println(\"H1 calculation started:\")\n",
    "    H1 = Hamiltonian1(;N=N, J1=J1, J2=J2, h=h_prev, nearest_neib_list=numbered_tilted_nearest_neib_list, second_neib_list=numbered_tilted_second_neib_list)\n",
    "    println(\"H1 for h=$(h_prev) constructed, Lanczos starting\")\n",
    "    eigstate1 = eigsolve(H1, 1, :SR, eltype(H1), tol = 10^(-12))[2][1]\n",
    "    println(\"Lanczos for h=$(h_prev) finished, starting to calculate quantities\")\n",
    "    push!(S_pi, S_pi_H1(eigstate1;N=N, neib_list=numbered_tilted_all_neib_list))\n",
    "    push!(S_pi_0, S_pi_0_H1(eigstate1;N=N, neib_list=numbered_tilted_all_neib_list))\n",
    "    push!(S_0_pi, S_0_pi_H1(eigstate1;N=N, neib_list=numbered_tilted_all_neib_list))\n",
    "    push!(S_real, S_real_H1(eigstate1; N=N, neib_list=numbered_tilted_all_neib_list))\n",
    "    #push!(S_entangle_vals, S_entangle(eigstate1; N=N, neib_list=numbered_tilted_all_neib_list))\n",
    "    push!(Fidelity, missing)\n",
    "    println(\"Quantities calculation finished. Starting the next round.\")\n",
    "    eigstate_prev = eigstate1\n",
    "    for i in 2:length(h_vals)\n",
    "        h = h_vals[i]\n",
    "        Hamiltonian1_update(H1;h_new=h, h_old=h_prev, nearest_neib_list=numbered_tilted_nearest_neib_list, second_neib_list=numbered_tilted_second_neib_list)\n",
    "        eigstate1 = eigsolve(H1, 1, :SR, eltype(H1), tol = 10^(-12))[2][1]\n",
    "        #calculating Fidelity using eigenstates of H1\n",
    "        Fid = conj.(eigstate_prev')*eigstate1\n",
    "        push!(Fidelity, 2*(1-abs(Fid[1]))/(h-h_prev)^2)\n",
    "        push!(S_pi, S_pi_H1(eigstate1;N=N, neib_list=numbered_tilted_all_neib_list))\n",
    "        push!(S_pi_0, S_pi_0_H1(eigstate1;N=N, neib_list=numbered_tilted_all_neib_list))\n",
    "        push!(S_0_pi, S_0_pi_H1(eigstate1;N=N, neib_list=numbered_tilted_all_neib_list))\n",
    "        push!(S_real, S_real_H1(eigstate1; N=N, neib_list=numbered_tilted_all_neib_list))\n",
    "        #push!(Fcl_vals, Fcl(eigstate1; L=L, neib_list=neib_list, plaquette_list=plaquette_list))\n",
    "        #push!(Fqm_vals, Fqm(eigstate1; L=L, neib_list=neib_list, plaquette_list=plaquette_list))\n",
    "        #push!(S_entangle_vals, S_entangle(eigstate1; N=N, neib_list=numbered_tilted_all_neib_list))\n",
    "        eigstate_prev = eigstate1\n",
    "        h_prev = h\n",
    "        println(\"finished calculating stuff for H1 for h=$(h_prev)\")\n",
    "    end\n",
    "    H1 = nothing\n",
    "    \n",
    "    #return (h_vals, m, S_pi, Fidelity, Fcl_vals, Fqm_vals, S_entangle_vals)\n",
    "    return (h_vals, J2, m, S_pi, Fidelity, S_entangle_vals, S_0_pi, S_pi_0, S_real)\n",
    "end\n",
    "\n",
    "L1=11; L2=11; h_vals = range(0.01, 1, length = 40); J2_vals = [1]\n",
    "for J2 in J2_vals\n",
    "    @time result = driver(L1=L1, L2=L2, h_vals=h_vals, J2=J2)\n",
    "\n",
    "    my_time = Dates.now()\n",
    "\n",
    "    time_finished = \"Date_$(Dates.format(my_time, \"e_dd_u_yyyy_HH_MM_SS\"))\"\n",
    "    content = \"Square_Spin_Ice_Measurement_tilted24sites_new\"\n",
    "    save_path = \"E:/UC Davis/Research/Square Spin Ice/Square-Spin-Ice/Yutan_code/Results/\"\n",
    "    #\"/nfs/home/zyt329/Research/Square_spin_ice/result/\"\n",
    "    save_name = save_path*content*\"_J2=$(J2)_hmin=$(h_vals[1])_hmax=$(h_vals[end])_\"*time_finished*\".jld\"\n",
    "\n",
    "    #save(save_name, \"result\", result)\n",
    "    println(\"J2 = $(J2) finished\")\n",
    "end"
   ]
  }
 ],
 "metadata": {
  "kernelspec": {
   "display_name": "Julia 1.3.0",
   "language": "julia",
   "name": "julia-1.3"
  },
  "language_info": {
   "file_extension": ".jl",
   "mimetype": "application/julia",
   "name": "julia",
   "version": "1.3.0"
  }
 },
 "nbformat": 4,
 "nbformat_minor": 4
}
