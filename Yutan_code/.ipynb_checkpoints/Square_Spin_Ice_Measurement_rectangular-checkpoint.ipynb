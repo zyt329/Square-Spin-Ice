{
 "cells": [
  {
   "cell_type": "code",
   "execution_count": 2,
   "metadata": {},
   "outputs": [],
   "source": [
    "using LinearAlgebra\n",
    "using SparseArrays\n",
    "using Arpack\n",
    "using KrylovKit\n",
    "using Dates\n",
    "using JLD"
   ]
  },
  {
   "cell_type": "markdown",
   "metadata": {},
   "source": [
    "## Specifying parameters of the model here:"
   ]
  },
  {
   "cell_type": "code",
   "execution_count": 38,
   "metadata": {},
   "outputs": [
    {
     "data": {
      "text/plain": [
       "24"
      ]
     },
     "execution_count": 38,
     "metadata": {},
     "output_type": "execute_result"
    }
   ],
   "source": [
    "L1=4;L2=6;J=1;h=0\n",
    "N = L1*L2"
   ]
  },
  {
   "cell_type": "markdown",
   "metadata": {},
   "source": [
    "## Building up Hamiltonian without using k space\n",
    "- Building Hamiltonian for a generic rectangular lattice\n",
    "- Using Int64 to represent states\n",
    "\n",
    "Hamiltonian is $H=J\\sum_{i=1}^{N}(S_i^z S_{i+1}^z + 1/2(S_i^+ S_{i+1}^- + S_i^- S_{i+1}^+)) $\n",
    "\n",
    "## Building bond list (neib list) and input number of sites\n",
    "\n",
    "### neib list for a rectangular lattice\n",
    "\n",
    "Given the x and y dimension of the rectangular lattice (effectively, total number of sites $N$), we should output a neighbor list for all sites numbered from $1$ to $N$.\n",
    "\n",
    "Here we are assuming we have a rectangular lattice of $L1$ in wide and $L2$ in length. So $L2$ rows and $L1$ columns in total."
   ]
  },
  {
   "cell_type": "code",
   "execution_count": 49,
   "metadata": {},
   "outputs": [
    {
     "data": {
      "text/plain": [
       "bit_pos (generic function with 1 method)"
      ]
     },
     "execution_count": 49,
     "metadata": {},
     "output_type": "execute_result"
    }
   ],
   "source": [
    "function coordinate(n;L1::Int64=2,L2::Int64=2)\n",
    "    @assert((n ≤ L1 * L2) && (1 ≤ n),\"The numbering (bit position) of a site shouldn't exceed the total number of sites $(L1 * L2), and should be bigger than 0.\")\n",
    "    i::Int64 = Int(ceil(n/L1))\n",
    "    j::Int64 = mod1(n,L1)  #site i is at i-th row, j-th column\n",
    "    return (i,j)\n",
    "end\n",
    "\n",
    "function bit_pos(coordinate::Tuple{Int64,Int64};L1::Int64=2,L2::Int64=2)\n",
    "    @assert((coordinate[1] ≤ L2) && (coordinate[2] ≤ L1),\"The cooridnate should be within the range of the lattice size $L1 by $L2\")\n",
    "    n = (coordinate[1]-1)*L1 + coordinate[2]\n",
    "    return n\n",
    "end"
   ]
  },
  {
   "cell_type": "markdown",
   "metadata": {},
   "source": [
    "### Generate neib list given that we know the dimension of the lattice"
   ]
  },
  {
   "cell_type": "code",
   "execution_count": 50,
   "metadata": {},
   "outputs": [
    {
     "data": {
      "text/plain": [
       "24-element Array{Set{Int64},1}:\n",
       " Set([4, 2, 5, 21, 8, 22])    \n",
       " Set([7, 21, 3, 22, 6, 1])    \n",
       " Set([7, 23, 4, 2, 6, 24])    \n",
       " Set([1, 23, 3, 8, 5, 24])    \n",
       " Set([9, 4, 10, 8, 6, 1])     \n",
       " Set([7, 9, 10, 2, 3, 5])     \n",
       " Set([2, 3, 11, 8, 6, 12])    \n",
       " Set([7, 4, 11, 5, 12, 1])    \n",
       " Set([13, 10, 16, 5, 12, 6])  \n",
       " Set([9, 14, 11, 5, 15, 6])   \n",
       " Set([7, 14, 10, 8, 15, 12])  \n",
       " Set([7, 9, 13, 16, 11, 8])   \n",
       " Set([9, 14, 16, 17, 12, 18]) \n",
       " Set([13, 10, 17, 11, 15, 18])\n",
       " Set([14, 10, 19, 16, 11, 20])\n",
       " Set([9, 13, 19, 15, 12, 20]) \n",
       " Set([20, 24, 13, 14, 21, 18])\n",
       " Set([23, 14, 13, 19, 17, 22])\n",
       " Set([23, 18, 16, 15, 22, 20])\n",
       " Set([16, 17, 19, 21, 15, 24])\n",
       " Set([24, 20, 2, 17, 22, 1])  \n",
       " Set([23, 1, 2, 19, 21, 18])  \n",
       " Set([18, 4, 3, 19, 22, 24])  \n",
       " Set([23, 4, 3, 17, 21, 20])  "
      ]
     },
     "execution_count": 50,
     "metadata": {},
     "output_type": "execute_result"
    }
   ],
   "source": [
    "function neib(n::Int64;L1::Int64=2, L2::Int64=2)\n",
    "    coord = coordinate(n,L1=L1, L2=L2)\n",
    "    neibs = Tuple{Int64,Int64}[]\n",
    "    push!(neibs, (mod1(coord[1]+1,L2), coord[2]))\n",
    "    push!(neibs, (mod1(coord[1]-1,L2), coord[2]))\n",
    "    push!(neibs, (coord[1], mod1(coord[2]+1,L1)))\n",
    "    push!(neibs, (coord[1], mod1(coord[2]-1,L1)))    \n",
    "    if iseven(coord[1]+coord[2])\n",
    "        push!(neibs, (mod1(coord[1]+1,L2), mod1(coord[2]-1,L1)))\n",
    "        push!(neibs, (mod1(coord[1]-1,L2), mod1(coord[2]+1,L1)))\n",
    "    else\n",
    "        push!(neibs, (mod1(coord[1]+1,L2), mod1(coord[2]+1,L1)))\n",
    "        push!(neibs, (mod1(coord[1]-1,L2), mod1(coord[2]-1,L1)))\n",
    "    end\n",
    "    #=convert coordinations to positions in bits=#\n",
    "    neibs_bit_pos = Set{Int64}()\n",
    "    for neib in neibs\n",
    "        push!(neibs_bit_pos, bit_pos(neib, L1=L1, L2=L2))\n",
    "    end\n",
    "    return neibs_bit_pos\n",
    "end\n",
    "\n",
    "function neib_list_gen(;L1::Int64=2, L2::Int64=2)\n",
    "    neib_list = Set{Int64}[]\n",
    "    for n in 1:L1*L2\n",
    "        push!(neib_list, neib(n, L1=L1, L2=L2))\n",
    "    end\n",
    "    return neib_list\n",
    "end\n",
    "neib_list = neib_list_gen(L1=L1, L2=L2)"
   ]
  },
  {
   "cell_type": "markdown",
   "metadata": {},
   "source": [
    "## The Hamiltonian generator should intake bond list (neib list), number of sites and output the Hamiltonian:\n",
    "\n",
    "So we need to revise the input of Hamiltonian function a little bit.\n",
    "\n",
    "We still need the Hamiltonian in 2 different basis:\n",
    "\n",
    "\\begin{equation}\n",
    "\\tag{H1}\n",
    "H=\\sum_{i=1}^{N}\\sum_{\\sigma}JS_i^z S_{i+\\sigma}^z + \\frac{h}{2}\\sum_{i=1}^{N} (S_i^+ + S_i^-)\n",
    "\\end{equation}\n",
    "\n",
    "\\begin{equation}\n",
    "\\tag{H2}\n",
    "H=\\sum_{i=1}^{N}\\sum_{\\sigma}\\frac{J}{4}(S_i^+ + S_i^-)(S_{i+\\sigma}^+ + S_{i+\\sigma}^-) - h\\sum_{i=1}^{N} S_i^z\n",
    "\\end{equation}"
   ]
  },
  {
   "cell_type": "code",
   "execution_count": 52,
   "metadata": {},
   "outputs": [
    {
     "ename": "OutOfMemoryError",
     "evalue": "\u001b[91mOutOfMemoryError()\u001b[39m",
     "output_type": "error",
     "traceback": [
      "\u001b[91mOutOfMemoryError()\u001b[39m",
      "",
      "Stacktrace:",
      " [1] _growend! at .\\array.jl:827 [inlined]",
      " [2] push! at .\\array.jl:869 [inlined]",
      " [3] #update_val#62(::Int64, ::Int64, ::Float64, ::typeof(update_val), ::Array{Int64,1}, ::Array{Int64,1}, ::Array{Float64,1}) at .\\In[52]:3",
      " [4] #update_val at .\\none:0 [inlined]",
      " [5] #Hamiltonian1#63(::Int64, ::Int64, ::Int64, ::Array{Set{Int64},1}, ::typeof(Hamiltonian1)) at .\\In[52]:17",
      " [6] (::var\"#kw##Hamiltonian1\")(::NamedTuple{(:N, :J, :h, :neib_list),Tuple{Int64,Int64,Int64,Array{Set{Int64},1}}}, ::typeof(Hamiltonian1)) at .\\none:0",
      " [7] top-level scope at util.jl:155",
      " [8] top-level scope at In[52]:45"
     ]
    }
   ],
   "source": [
    "function update_val(row_inds, col_inds, vals;row_ind, col_ind, val)\n",
    "    push!(row_inds, row_ind)\n",
    "    push!(col_inds, col_ind)\n",
    "    push!(vals, val)\n",
    "end\n",
    "\n",
    "function Hamiltonian1(;N::Int64=2, J=1, h=1, neib_list)\n",
    "    row_inds = Int64[]\n",
    "    col_inds = Int64[]\n",
    "    vals = Float64[]\n",
    "    for state in 0:(2^N-1) #loop over all states\n",
    "        state_binary = digits!(zeros(Int64, 64), state, base = 2)\n",
    "        for i in 1:N #loop over all sites in a given state\n",
    "            flipped_state = state ⊻ (1<<(i-1))\n",
    "            update_val(row_inds, col_inds, vals, row_ind=state+1, col_ind = flipped_state+1, val = (1/2)*h)\n",
    "            for j in neib_list[i] #loop over(compare) all neighbors of a given site\n",
    "                update_val(row_inds, col_inds, vals, row_ind = state+1, col_ind = state+1, val = (state_binary[i]-1/2)*(state_binary[j]-1/2)*J/2)\n",
    "            end\n",
    "        end\n",
    "    end\n",
    "    return sparse(row_inds, col_inds, vals, 2^N, 2^N, +)\n",
    "end\n",
    "\n",
    "function Hamiltonian2(;N::Int64=2, J=1, h=1, neib_list)\n",
    "    row_inds = Int64[]\n",
    "    col_inds = Int64[]\n",
    "    vals = Float64[]\n",
    "    for state in 0:(2^N-1) #loop over all states\n",
    "        state_binary = digits!(zeros(Int64, 64), state, base = 2)\n",
    "        for i in 1:N #loop over all sites in a given state\n",
    "            if state_binary[i] == 1\n",
    "                update_val(row_inds, col_inds, vals, row_ind=state+1, col_ind = state+1, val = - h/2)\n",
    "            else\n",
    "                update_val(row_inds, col_inds, vals, row_ind=state+1, col_ind = state+1, val =  h/2)\n",
    "            end\n",
    "            for j in neib_list[i] #loop over(compare) all neighbors of a given site\n",
    "                flipped_state = state ⊻ (1<<(i-1))\n",
    "                flipped_state = flipped_state ⊻ (1<<(j-1))\n",
    "                update_val(row_inds, col_inds, vals, row_ind=state+1, col_ind = flipped_state+1, val =  (1/4)*(J/2))\n",
    "            end\n",
    "        end\n",
    "    end\n",
    "    return sparse(row_inds, col_inds, vals, 2^N, 2^N, +)\n",
    "end\n",
    "\n",
    "@time H1 = Hamiltonian1(;N=N, J=J, h=h, neib_list=neib_list)\n",
    "@time H2 = Hamiltonian2(;N=N, J=J, h=h, neib_list=neib_list)"
   ]
  },
  {
   "cell_type": "markdown",
   "metadata": {},
   "source": [
    "## Using Lanczos to calculate the ground state and compare see if the Hamiltonians are compatible\n",
    "\n",
    "I'm using ```KrylovKit.jl``` to calculate.\n",
    "\n",
    "It appears that the eigenstates is automatically normalized by the package."
   ]
  },
  {
   "cell_type": "code",
   "execution_count": null,
   "metadata": {},
   "outputs": [],
   "source": [
    "eigs1 = eigsolve(H1, 1, :SR, eltype(H1), tol = 10^(-20))\n",
    "eigs2 = eigsolve(H2, 1, :SR, eltype(H2), tol = 10^(-20))"
   ]
  },
  {
   "cell_type": "markdown",
   "metadata": {},
   "source": [
    "# Now we could calculate quantities given that we have the ground state.\n",
    "\n",
    "Here x means the direction of h, y means the direction of coupling.\n",
    "\n",
    "- $m=\\frac{1}{N}\\sum_{i} \\langle \\sigma_i^x \\rangle$\n",
    "\n",
    "Calculating this using H2\n",
    "\n",
    "- $S_{\\pi}=\\frac{1}{N}\\sum_{i,j}\\langle\\sigma_i^z\\sigma_j^z\\rangle (-1)^{i+j}$\n",
    "\n",
    "Calculating this using H1\n",
    "\n",
    "- $F_{cl}=\\frac{1}{N_{pl}} \\sum_{p_1,p_2} \\langle f_{p_1} f_{p_2}\\rangle$\n",
    "\n",
    "Calculating this using H1\n",
    "\n",
    "- $F_{QM}=\\frac{1}{N_{pl}} \\sum_{p_1,p_2} \\langle o_{p_1} o_{p_2}\\rangle$ with $o_p = \\sigma_1^+\\sigma_2^-\\sigma_3^+\\sigma_4^- + \\sigma_1^-\\sigma_2^+\\sigma_3^-\\sigma_4^+$\n",
    "\n",
    "Calculating this using H1? I think\n",
    "\n",
    "- $S_A = -Tr \\rho_A \\log{\\rho_A}$\n",
    "\n",
    "Where $\\rho_A = Tr_B \\rho$\n",
    "\n",
    "Calculating this using either\n",
    "\n",
    "- $Fidelity = 2\\cdot\\frac{1 - |\\langle \\psi_0(h)|\\psi_0(h+\\delta h)\\rangle|}{\\delta h^2} $\n",
    "\n",
    "Calculating this using either"
   ]
  },
  {
   "cell_type": "markdown",
   "metadata": {},
   "source": [
    "## Measuring m using H2\n",
    "\n",
    "We basically just need to construct matrix of $m$ in the basis out which you constructed the hamiltonian H2.\n",
    "\n",
    "In H2, $m$ is the magnetization along z direction. So:\n",
    "\n",
    "$m=\\frac{1}{N}\\sum_{i} \\langle \\sigma_i^z \\rangle$"
   ]
  },
  {
   "cell_type": "code",
   "execution_count": null,
   "metadata": {},
   "outputs": [],
   "source": [
    "function m_H2(state::Array{Float64,1}; N::Int64)\n",
    "    m = spzeros(2^N,2^N)\n",
    "    for basis_state in 0:(2^N-1) #loop over all states\n",
    "        basis_state_binary = digits!(zeros(Int64, 64), basis_state, base = 2)\n",
    "        # calculating total spin along z direction, considering it's spin 1/2\n",
    "        m[basis_state+1, basis_state+1] += (sum(basis_state_binary)-1/2*N)/N\n",
    "    end\n",
    "    #now that we have matrix m, calculate the average m_val:\n",
    "    m_val = conj.(state')*m*state\n",
    "    return m_val[1] #taking the 1st value of m_val because it's recognized as a length 1 Array\n",
    "end\n",
    "\n",
    "m_H2(eigstate2; N=N)"
   ]
  },
  {
   "cell_type": "markdown",
   "metadata": {},
   "source": [
    "## Measuring $S_{\\pi}$ using H1\n",
    "\n",
    "Constructing $S_{\\pi}$ matrix using basis of $H1$\n",
    "\n",
    "$S_{\\pi}=\\frac{1}{N}\\sum_{i,j}\\langle\\sigma_i^z\\sigma_j^z\\rangle (-1)^{i+j}$"
   ]
  },
  {
   "cell_type": "code",
   "execution_count": null,
   "metadata": {},
   "outputs": [],
   "source": [
    "function S_pi_H1(state::Array{Float64,1}; N::Int64, L1::Int64, L2::Int64, neib_list)\n",
    "    S_pi = spzeros(2^N,2^N)\n",
    "    for basis_state in 0:(2^N-1) #loop over all states\n",
    "        basis_state_binary = digits!(zeros(Int64, 64), basis_state, base = 2)\n",
    "        for i in 1:N #loop over all sites in a given state\n",
    "            for j in 1:N #loop over all sites again\n",
    "                 S_pi[basis_state+1,basis_state+1] += (basis_state_binary[i]-1/2)*(basis_state_binary[j]-1/2)*(-1)^(sum(coordinate(i;L1=L1, L2=L2))+sum(coordinate(j;L1=L1, L2=L2)))/N\n",
    "            end\n",
    "        end\n",
    "    end\n",
    "    #now that we have matrix m, calculate the average m_val:\n",
    "    S_pi_val = conj.(state')*S_pi*state\n",
    "    return S_pi_val[1] #taking the 1st value of m_val because it's recognized as a length 1 Array\n",
    "end\n",
    "\n",
    "S_pi_H1(eigstate1;N=N, L1=L1, L2=L2, neib_list=neib_list)"
   ]
  },
  {
   "cell_type": "markdown",
   "metadata": {},
   "source": [
    "## Below we write a driver  to calculate m and $S_{\\pi}$ for different h\n",
    "\n",
    "Calculate Fidelity in the driver"
   ]
  },
  {
   "cell_type": "code",
   "execution_count": null,
   "metadata": {},
   "outputs": [],
   "source": [
    "function driver(;L1::Int64, L2::Int64, h_vals)\n",
    "    N = L1*L2\n",
    "    J = 1\n",
    "    neib_list = neib_list_gen(L1=L1, L2=L2)\n",
    "    #plaquette_list = plaquette_list_gen(;L=L, neib_list=neib_list)\n",
    "    m = []\n",
    "    S_pi = []\n",
    "    Fidelity = []\n",
    "    #Fcl_vals = []\n",
    "    #Fqm_vals = []\n",
    "    #S_entangle_vals = []\n",
    "    eigstate_prev = zeros(Float64, 2^N)\n",
    "    h_prev = -1\n",
    "    for i in 1:length(h_vals)\n",
    "        h = h_vals[i]\n",
    "        H1 = Hamiltonian1(;N=N, J=J, h=h, neib_list=neib_list)\n",
    "        H2 = Hamiltonian2(;N=N, J=J, h=h, neib_list=neib_list)\n",
    "        eigstate1 = eigsolve(H1, 1, :SR, eltype(H1), tol = 10^(-12))[2][1]\n",
    "        eigstate2 = eigsolve(H2, 1, :SR, eltype(H2), tol = 10^(-12))[2][1]\n",
    "        #calculating Fidelity using eigenstates of H1\n",
    "        Fid = conj.(eigstate_prev')*eigstate1\n",
    "        (i == 1) && (Fid[1] = 1) #set Fid to be 1 manually for the first h\n",
    "        push!(m, m_H2(eigstate2; N=N))\n",
    "        push!(S_pi, S_pi_H1(eigstate1;N=N, L1=L1, L2=L2, neib_list=neib_list))\n",
    "        push!(Fidelity, 2*(1-abs(Fid[1]))/(h-h_prev)^2)\n",
    "        #push!(Fcl_vals, Fcl(eigstate1; L=L, neib_list=neib_list, plaquette_list=plaquette_list))\n",
    "        #push!(Fqm_vals, Fqm(eigstate1; L=L, neib_list=neib_list, plaquette_list=plaquette_list))\n",
    "        #push!(S_entangle_vals, S_entangle(eigstate1; L=L, neib_list=neib_list))\n",
    "        eigstate_prev = eigstate1\n",
    "        h_prev = h\n",
    "    end\n",
    "    #return (h_vals, m, S_pi, Fidelity, Fcl_vals, Fqm_vals, S_entangle_vals)\n",
    "    return (h_vals, m, S_pi, Fidelity)\n",
    "end\n",
    "\n",
    "L1=4; L2=6; h_vals = range(0.01, 1, length = 50)\n",
    "@time result = driver(L1=L1, L2=L2, h_vals=h_vals)\n",
    "\n",
    "my_time = Dates.now()\n",
    "\n",
    "time_finished = \"Date_$(Dates.format(my_time, \"e_dd_u_yyyy_HH_MM_SS\"))\"\n",
    "content = \"Square_Spin_Ice_Measurement\"\n",
    "save_path = \"E:/UC Davis/Research/Square Spin Ice/Square-Spin-Ice/Yutan_code/Results/\"\n",
    "#\"/nfs/home/zyt329/Research/Square_spin_ice/result/\"\n",
    "save_name = save_path*content*\"_L1=$(L1)_L2=$(L2)_hmin=$(h_vals[1])_hmax=$(h_vals[end])_\"*time_finished*\".jld\"\n",
    "\n",
    "save(save_name, \"result\", result)\n",
    "println(\"finished\")"
   ]
  }
 ],
 "metadata": {
  "kernelspec": {
   "display_name": "Julia 1.3.0",
   "language": "julia",
   "name": "julia-1.3"
  },
  "language_info": {
   "file_extension": ".jl",
   "mimetype": "application/julia",
   "name": "julia",
   "version": "1.3.0"
  }
 },
 "nbformat": 4,
 "nbformat_minor": 4
}
