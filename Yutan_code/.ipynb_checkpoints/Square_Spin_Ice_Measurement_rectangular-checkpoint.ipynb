{
 "cells": [
  {
   "cell_type": "code",
   "execution_count": 1,
   "metadata": {},
   "outputs": [],
   "source": [
    "using LinearAlgebra\n",
    "using SparseArrays\n",
    "using Arpack\n",
    "using KrylovKit\n",
    "using Dates\n",
    "using JLD"
   ]
  },
  {
   "cell_type": "markdown",
   "metadata": {},
   "source": [
    "## Specifying parameters of the model here:"
   ]
  },
  {
   "cell_type": "code",
   "execution_count": 2,
   "metadata": {},
   "outputs": [
    {
     "data": {
      "text/plain": [
       "16"
      ]
     },
     "execution_count": 2,
     "metadata": {},
     "output_type": "execute_result"
    }
   ],
   "source": [
    "L1=4;L2=4;J1=1;J2=1;h=0.1\n",
    "N = L1*L2"
   ]
  },
  {
   "cell_type": "markdown",
   "metadata": {},
   "source": [
    "## Building up Hamiltonian without using k space\n",
    "- Building Hamiltonian for a generic rectangular lattice\n",
    "- Using Int64 to represent states\n",
    "\n",
    "Hamiltonian is $H=J\\sum_{i=1}^{N}(S_i^z S_{i+1}^z + 1/2(S_i^+ S_{i+1}^- + S_i^- S_{i+1}^+)) $\n",
    "\n",
    "## Building bond list (neib list) and input number of sites\n",
    "\n",
    "### neib list for a rectangular lattice\n",
    "\n",
    "Given the x and y dimension of the rectangular lattice (effectively, total number of sites $N$), we should output a neighbor list for all sites numbered from $1$ to $N$.\n",
    "\n",
    "Here we are assuming we have a rectangular lattice of $L1$ in wide and $L2$ in length. So $L2$ rows and $L1$ columns in total."
   ]
  },
  {
   "cell_type": "code",
   "execution_count": 3,
   "metadata": {},
   "outputs": [
    {
     "data": {
      "text/plain": [
       "bit_pos (generic function with 1 method)"
      ]
     },
     "execution_count": 3,
     "metadata": {},
     "output_type": "execute_result"
    }
   ],
   "source": [
    "function coordinate(n;L1::Int64=2,L2::Int64=2)\n",
    "    @assert((n ≤ L1 * L2) && (1 ≤ n),\"The numbering (bit position) of a site shouldn't exceed the total number of sites $(L1 * L2), and should be bigger than 0.\")\n",
    "    i::Int64 = Int(ceil(n/L1))\n",
    "    j::Int64 = mod1(n,L1)  #site i is at i-th row, j-th column\n",
    "    return (i,j)\n",
    "end\n",
    "\n",
    "function bit_pos(coordinate::Tuple{Int64,Int64};L1::Int64=2,L2::Int64=2)\n",
    "    @assert((coordinate[1] ≤ L2) && (coordinate[2] ≤ L1),\"The cooridnate should be within the range of the lattice size $L1 by $L2\")\n",
    "    n = (coordinate[1]-1)*L1 + coordinate[2]\n",
    "    return n\n",
    "end"
   ]
  },
  {
   "cell_type": "markdown",
   "metadata": {},
   "source": [
    "### Generate neib list given that we know the dimension of the lattice"
   ]
  },
  {
   "cell_type": "code",
   "execution_count": 4,
   "metadata": {
    "scrolled": true
   },
   "outputs": [
    {
     "data": {
      "text/plain": [
       "16-element Array{Set{Int64},1}:\n",
       " Set([14, 8])\n",
       " Set([7, 13])\n",
       " Set([16, 6])\n",
       " Set([5, 15])\n",
       " Set([4, 10])\n",
       " Set([9, 3]) \n",
       " Set([2, 12])\n",
       " Set([11, 1])\n",
       " Set([16, 6])\n",
       " Set([5, 15])\n",
       " Set([14, 8])\n",
       " Set([7, 13])\n",
       " Set([2, 12])\n",
       " Set([11, 1])\n",
       " Set([4, 10])\n",
       " Set([9, 3]) "
      ]
     },
     "execution_count": 4,
     "metadata": {},
     "output_type": "execute_result"
    }
   ],
   "source": [
    "function nearest_neib(n::Int64;L1::Int64=2, L2::Int64=2)\n",
    "    coord = coordinate(n,L1=L1, L2=L2)\n",
    "    neibs = Tuple{Int64,Int64}[]\n",
    "    push!(neibs, (mod1(coord[1]+1,L2), coord[2]))\n",
    "    push!(neibs, (mod1(coord[1]-1,L2), coord[2]))\n",
    "    push!(neibs, (coord[1], mod1(coord[2]+1,L1)))\n",
    "    push!(neibs, (coord[1], mod1(coord[2]-1,L1)))    \n",
    "    #=convert coordinations to positions in bits=#\n",
    "    neibs_bit_pos = Set{Int64}()\n",
    "    for neib in neibs\n",
    "        push!(neibs_bit_pos, bit_pos(neib, L1=L1, L2=L2))\n",
    "    end\n",
    "    return neibs_bit_pos\n",
    "end\n",
    "\n",
    "function second_neib(n::Int64;L1::Int64=2, L2::Int64=2)\n",
    "    coord = coordinate(n,L1=L1, L2=L2)\n",
    "    neibs = Tuple{Int64,Int64}[]   \n",
    "    if iseven(coord[1]+coord[2])\n",
    "        push!(neibs, (mod1(coord[1]+1,L2), mod1(coord[2]-1,L1)))\n",
    "        push!(neibs, (mod1(coord[1]-1,L2), mod1(coord[2]+1,L1)))\n",
    "    else\n",
    "        push!(neibs, (mod1(coord[1]+1,L2), mod1(coord[2]+1,L1)))\n",
    "        push!(neibs, (mod1(coord[1]-1,L2), mod1(coord[2]-1,L1)))\n",
    "    end\n",
    "    #=convert coordinations to positions in bits=#\n",
    "    neibs_bit_pos = Set{Int64}()\n",
    "    for neib in neibs\n",
    "        push!(neibs_bit_pos, bit_pos(neib, L1=L1, L2=L2))\n",
    "    end\n",
    "    return neibs_bit_pos\n",
    "end\n",
    "\n",
    "function nearest_neib_list_gen(;L1::Int64=2, L2::Int64=2)\n",
    "    neib_list = Set{Int64}[]\n",
    "    for n in 1:L1*L2\n",
    "        push!(neib_list, nearest_neib(n, L1=L1, L2=L2))\n",
    "    end\n",
    "    return neib_list\n",
    "end\n",
    "\n",
    "function second_neib_list_gen(;L1::Int64=2, L2::Int64=2)\n",
    "    neib_list = Set{Int64}[]\n",
    "    for n in 1:L1*L2\n",
    "        push!(neib_list, second_neib(n, L1=L1, L2=L2))\n",
    "    end\n",
    "    return neib_list\n",
    "end\n",
    "\n",
    "nearest_neib_list = nearest_neib_list_gen(L1=L1, L2=L2)\n",
    "second_neib_list = second_neib_list_gen(L1=L1, L2=L2)"
   ]
  },
  {
   "cell_type": "markdown",
   "metadata": {},
   "source": [
    "## The Hamiltonian generator should intake bond list (neib list), number of sites and output the Hamiltonian:\n",
    "\n",
    "So we need to revise the input of Hamiltonian function a little bit.\n",
    "\n",
    "We still need the Hamiltonian in 2 different basis:\n",
    "\n",
    "\\begin{equation}\n",
    "\\tag{H1}\n",
    "H=\\sum_{i=1}^{N}\\sum_{\\sigma}JS_i^z S_{i+\\sigma}^z + \\frac{h}{2}\\sum_{i=1}^{N} (S_i^+ + S_i^-)\n",
    "\\end{equation}\n",
    "\n",
    "\\begin{equation}\n",
    "\\tag{H2}\n",
    "H=\\sum_{i=1}^{N}\\sum_{\\sigma}\\frac{J}{4}(S_i^+ + S_i^-)(S_{i+\\sigma}^+ + S_{i+\\sigma}^-) - h\\sum_{i=1}^{N} S_i^z\n",
    "\\end{equation}"
   ]
  },
  {
   "cell_type": "markdown",
   "metadata": {},
   "source": [
    "## Now we could construct Hamiltonian for even and odd sectors for H2 only\n",
    "### First Let's construct Parity States\n",
    "\n",
    "We can do a little rotation of our system and construct Hamiltonian in that \"direction\". The Hamiltonian should be:\n",
    "$H=J\\sum_{i=1}^{N}\\sum_{\\sigma}(S_i^x S_{i+\\sigma}^x - h S_i^z)$\n",
    "\n",
    "Now we have a nice Parity symmetry comes in handy. The Operator is $\\prod_i \\sigma_i^z$. The $\\sigma_i^z$ basis is exactly the eigenbasis of the parity operator. The parity operator commutes with H, thus divides the Hamiltonian into 2 block diagonal parts. With one part having even total spin, one part having odd total spin. \n",
    "\n",
    "Physically we can see this by making use of the fact that $S_i^x S_{i+\\sigma}^x$ flips 2 spins at a time. So different sectors can't mix.\n",
    "\n",
    "First we need to loop over all states, and construct a list of even and odd states."
   ]
  },
  {
   "cell_type": "code",
   "execution_count": 5,
   "metadata": {},
   "outputs": [
    {
     "data": {
      "text/plain": [
       "parity_states_list (generic function with 1 method)"
      ]
     },
     "execution_count": 5,
     "metadata": {},
     "output_type": "execute_result"
    }
   ],
   "source": [
    "function chk_parity(state::Int64)\n",
    "    state_binary = digits!(zeros(Int64, 64), state, base = 2)\n",
    "    if iseven(sum(state_binary))\n",
    "        return :even\n",
    "    else\n",
    "        return :odd\n",
    "    end\n",
    "end\n",
    "\n",
    "function parity_states_list(;N::Int64, L1::Int64=L1, L2::Int64=L2)\n",
    "    even_state = Int64[]\n",
    "    odd_state = Int64[]\n",
    "    even_state_num = Dict{Int64, Int64}()\n",
    "    odd_state_num = Dict{Int64, Int64}()\n",
    "    even_state_tot = 0\n",
    "    odd_state_tot = 0\n",
    "    for state in 0:(2^N-1)\n",
    "        if chk_parity(state) == :even\n",
    "            even_state_tot += 1\n",
    "            push!(even_state, state)\n",
    "            even_state_num[state] = even_state_tot\n",
    "        else\n",
    "            odd_state_tot += 1\n",
    "            push!(odd_state, state)\n",
    "            odd_state_num[state] = odd_state_tot\n",
    "        end\n",
    "    end\n",
    "    return Dict{Symbol, Any}(:even_state => even_state, :odd_state => odd_state, :even_state_num => even_state_num, :odd_state_num => odd_state_num, :even_state_tot => even_state_tot, :odd_state_tot => odd_state_tot)\n",
    "end\n"
   ]
  },
  {
   "cell_type": "markdown",
   "metadata": {},
   "source": [
    "### Then we can use the above information to construct Hamiltonian for even/odd sectors"
   ]
  },
  {
   "cell_type": "code",
   "execution_count": 6,
   "metadata": {},
   "outputs": [
    {
     "ename": "UndefVarError",
     "evalue": "\u001b[91mUndefVarError: L not defined\u001b[39m",
     "output_type": "error",
     "traceback": [
      "\u001b[91mUndefVarError: L not defined\u001b[39m",
      "",
      "Stacktrace:",
      " [1] top-level scope at In[6]:1"
     ]
    }
   ],
   "source": [
    "state_gen = parity_states_list(L=L)\n",
    "even_state = state_gen[:even_state]\n",
    "even_state_num = state_gen[:even_state_num]\n",
    "odd_state_num  = state_gen[:odd_state_num]\n",
    "odd_state = state_gen[:odd_state]\n",
    "even_state_tot = state_gen[:even_state_tot]\n",
    "odd_state_tot = state_gen[:odd_state_tot]"
   ]
  },
  {
   "cell_type": "code",
   "execution_count": 7,
   "metadata": {},
   "outputs": [
    {
     "name": "stdout",
     "output_type": "stream",
     "text": [
      "  0.610207 seconds (799.38 k allocations: 401.213 MiB, 14.15% gc time)\n",
      "  0.503318 seconds (178.18 k allocations: 402.291 MiB, 25.00% gc time)\n"
     ]
    },
    {
     "data": {
      "text/plain": [
       "65536×65536 SparseMatrixCSC{Float64,Int64} with 3211264 stored entries:\n",
       "  [1    ,     1]  =  0.8\n",
       "  [4    ,     1]  =  0.25\n",
       "  [7    ,     1]  =  0.25\n",
       "  [10   ,     1]  =  0.25\n",
       "  [13   ,     1]  =  0.25\n",
       "  [18   ,     1]  =  0.25\n",
       "  [25   ,     1]  =  0.25\n",
       "  [35   ,     1]  =  0.25\n",
       "  [37   ,     1]  =  0.25\n",
       "  [49   ,     1]  =  0.25\n",
       "  [67   ,     1]  =  0.25\n",
       "  [69   ,     1]  =  0.25\n",
       "  ⋮\n",
       "  [65440, 65536]  =  0.25\n",
       "  [65468, 65536]  =  0.25\n",
       "  [65470, 65536]  =  0.25\n",
       "  [65488, 65536]  =  0.25\n",
       "  [65500, 65536]  =  0.25\n",
       "  [65502, 65536]  =  0.25\n",
       "  [65512, 65536]  =  0.25\n",
       "  [65519, 65536]  =  0.25\n",
       "  [65524, 65536]  =  0.25\n",
       "  [65527, 65536]  =  0.25\n",
       "  [65530, 65536]  =  0.25\n",
       "  [65533, 65536]  =  0.25\n",
       "  [65536, 65536]  =  -0.8"
      ]
     },
     "execution_count": 7,
     "metadata": {},
     "output_type": "execute_result"
    }
   ],
   "source": [
    "function update_val(row_inds, col_inds, vals;row_ind, col_ind, val)\n",
    "    push!(row_inds, row_ind)\n",
    "    push!(col_inds, col_ind)\n",
    "    push!(vals, val)\n",
    "end\n",
    "\n",
    "function Hamiltonian1(;N::Int64=2, J1=1, J2=1, h=1, nearest_neib_list, second_neib_list)\n",
    "    row_inds = Int64[]\n",
    "    col_inds = Int64[]\n",
    "    vals = Float64[]\n",
    "    for state in 0:(2^N-1) #loop over all states\n",
    "        state_binary = digits!(zeros(Int64, 64), state, base = 2)\n",
    "        for i in 1:N #loop over all sites in a given state\n",
    "            flipped_state = state ⊻ (1<<(i-1))\n",
    "            update_val(row_inds, col_inds, vals, row_ind=state+1, col_ind = flipped_state+1, val = (1/2)*h)\n",
    "            for j in nearest_neib_list[i] #loop over(compare) all neighbors of a given site\n",
    "                update_val(row_inds, col_inds, vals, row_ind = state+1, col_ind = state+1, val = (state_binary[i]-1/2)*(state_binary[j]-1/2)*J1/2)\n",
    "            end\n",
    "            for j in second_neib_list[i] #loop over(compare) all neighbors of a given site\n",
    "                update_val(row_inds, col_inds, vals, row_ind = state+1, col_ind = state+1, val = (state_binary[i]-1/2)*(state_binary[j]-1/2)*J2/2)\n",
    "            end\n",
    "        end\n",
    "    end\n",
    "    return sparse(row_inds, col_inds, vals, 2^N, 2^N, +)\n",
    "end\n",
    "\n",
    "function Hamiltonian2(;N::Int64=2, J1=1, J2=1, h=1, nearest_neib_list, second_neib_list)\n",
    "    row_inds = Int64[]\n",
    "    col_inds = Int64[]\n",
    "    vals = Float64[]\n",
    "    for state in 0:(2^N-1) #loop over all states\n",
    "        state_binary = digits!(zeros(Int64, 64), state, base = 2)\n",
    "        for i in 1:N #loop over all sites in a given state\n",
    "            if state_binary[i] == 1\n",
    "                update_val(row_inds, col_inds, vals, row_ind=state+1, col_ind = state+1, val = - h/2)\n",
    "            else\n",
    "                update_val(row_inds, col_inds, vals, row_ind=state+1, col_ind = state+1, val =  h/2)\n",
    "            end\n",
    "            for j in nearest_neib_list[i] #loop over(compare) all neighbors of a given site\n",
    "                flipped_state = state ⊻ (1<<(i-1))\n",
    "                flipped_state = flipped_state ⊻ (1<<(j-1))\n",
    "                update_val(row_inds, col_inds, vals, row_ind=state+1, col_ind = flipped_state+1, val =  (1/4)*(J1/2))\n",
    "            end\n",
    "            for j in second_neib_list[i] #loop over(compare) all neighbors of a given site\n",
    "                flipped_state = state ⊻ (1<<(i-1))\n",
    "                flipped_state = flipped_state ⊻ (1<<(j-1))\n",
    "                update_val(row_inds, col_inds, vals, row_ind=state+1, col_ind = flipped_state+1, val =  (1/4)*(J2/2))\n",
    "            end\n",
    "        end\n",
    "    end\n",
    "    return sparse(row_inds, col_inds, vals, 2^N, 2^N, +)\n",
    "end\n",
    "\n",
    "@time H1 = Hamiltonian1(;N=N, J1=J1, J2=J2, h=h, nearest_neib_list=nearest_neib_list, second_neib_list=second_neib_list)\n",
    "@time H2 = Hamiltonian2(;N=N, J1=J1, J2=J2, h=h, nearest_neib_list=nearest_neib_list, second_neib_list=second_neib_list)"
   ]
  },
  {
   "cell_type": "markdown",
   "metadata": {},
   "source": [
    "## Using Lanczos to calculate the ground state and compare see if the Hamiltonians are compatible\n",
    "\n",
    "I'm using ```KrylovKit.jl``` to calculate.\n",
    "\n",
    "It appears that the eigenstates is automatically normalized by the package."
   ]
  },
  {
   "cell_type": "code",
   "execution_count": 8,
   "metadata": {
    "scrolled": true
   },
   "outputs": [
    {
     "data": {
      "text/plain": [
       "65536-element Array{Float64,1}:\n",
       " -0.016817242017314767  \n",
       "  1.7903674134625042e-14\n",
       " -1.8915376924140878e-14\n",
       "  0.006785648867542915  \n",
       "  1.5837653478657218e-14\n",
       " -0.002201351019233996  \n",
       "  0.006785648867544573  \n",
       " -5.862107573090332e-15 \n",
       " -1.1601021300642084e-16\n",
       "  0.0067856488675474965 \n",
       " -0.0022013510192346285 \n",
       "  7.770021318254337e-15 \n",
       "  0.006785648867546598  \n",
       "  ⋮                     \n",
       "  2.141379361208413e-14 \n",
       " -0.007486559208571448  \n",
       "  0.022953490246491466  \n",
       " -6.177016061436395e-16 \n",
       " -1.6398629817276943e-14\n",
       "  0.022953490246481707  \n",
       " -0.007486559208569314  \n",
       "  6.502615825222768e-14 \n",
       "  0.02295349024647615   \n",
       " -7.77618310625238e-14  \n",
       "  7.341429234634026e-14 \n",
       " -0.08496250704939155   "
      ]
     },
     "execution_count": 8,
     "metadata": {},
     "output_type": "execute_result"
    }
   ],
   "source": [
    "eigs1 = eigsolve(H1, 1, :SR, eltype(H1), krylovdim=100)\n",
    "eigs2 = eigsolve(H2, 1, :SR, eltype(H2), tol = 10^(-20))\n",
    "eigstate1 = eigs1[2][1]\n",
    "eigstate2 = eigs2[2][1]"
   ]
  },
  {
   "cell_type": "code",
   "execution_count": 9,
   "metadata": {},
   "outputs": [
    {
     "data": {
      "text/plain": [
       "([-4.041922731843292, -4.0410690180819975, -4.0408672257247815], Array{Float64,1}[[-2.152913346563906e-11, 4.3170846562579454e-10, 4.3170849089596657e-10, -4.196956507206303e-9, 4.317085186509383e-10, -9.711433571681089e-9, -4.196956460547074e-9, 4.159796193662918e-8, 4.3170849236520834e-10, -4.196956475291911e-9  …  -4.196956458001796e-9, 4.317085047784134e-10, 4.159796193443448e-8, -4.1969564778433325e-9, -9.711433572949665e-9, 4.317084892272511e-10, -4.1969564610506454e-9, 4.3170851091796005e-10, 4.317084821636875e-10, -2.1529183052553927e-11], [-3.3483892542403066e-17, 1.786295955876522e-10, -1.0540864670299376e-10, -1.050052085419311e-9, 1.0871359334189363e-10, -5.8446680962857585e-9, -4.739616956466124e-11, 2.129965061883675e-8, -7.0711594008735e-11, -1.5476375931778055e-9  …  1.5476375757432345e-9, 7.071155389832318e-11, -2.129965062214149e-8, 4.73961452598361e-11, 5.844668101396044e-9, -1.087136160030297e-10, 1.0500521258277224e-9, 1.0540860447709322e-10, -1.7862964754105805e-10, 4.1311551478152155e-17], [2.6691100886984447e-15, 5.83669055461015e-17, 4.27770510223721e-17, 2.823420852151145e-9, 3.900762523887568e-17, -1.6321295794465326e-9, 9.79336504656995e-10, -3.727778117631206e-8, 4.010266033285931e-17, 9.793365007801827e-10  …  9.79336532407529e-10, -3.073891631117856e-17, -3.7277781266240294e-8, 9.79336508867346e-10, -1.6321296120167703e-9, -2.416118409994511e-17, 2.8234208812397307e-9, -2.6014063233928876e-17, -2.5720975606955373e-17, -1.2450779681345424e-15]], ConvergenceInfo: 3 converged values after 5 iterations and 260 applications of the linear map;\n",
       "norms of residuals are given by (3.802618125006095e-19, 1.854573628049603e-15, 5.73412741174552e-14).\n",
       ")"
      ]
     },
     "execution_count": 9,
     "metadata": {},
     "output_type": "execute_result"
    }
   ],
   "source": [
    "eigs1"
   ]
  },
  {
   "cell_type": "markdown",
   "metadata": {},
   "source": [
    "## Converting states from the basis of H1 to the basis of H2\n"
   ]
  },
  {
   "cell_type": "markdown",
   "metadata": {},
   "source": [
    "# Now we could calculate quantities given that we have the ground state.\n",
    "\n",
    "Here x means the direction of h, y means the direction of coupling.\n",
    "\n",
    "- $m=\\frac{1}{N}\\sum_{i} \\langle \\sigma_i^x \\rangle$\n",
    "\n",
    "Calculating this using H2\n",
    "\n",
    "- $S_{\\pi}=\\frac{1}{N}\\sum_{i,j}\\langle\\sigma_i^z\\sigma_j^z\\rangle (-1)^{i+j}$\n",
    "\n",
    "Calculating this using H1\n",
    "\n",
    "- $F_{cl}=\\frac{1}{N_{pl}} \\sum_{p_1,p_2} \\langle f_{p_1} f_{p_2}\\rangle$\n",
    "\n",
    "Calculating this using H1\n",
    "\n",
    "- $F_{QM}=\\frac{1}{N_{pl}} \\sum_{p_1,p_2} \\langle o_{p_1} o_{p_2}\\rangle$ with $o_p = \\sigma_1^+\\sigma_2^-\\sigma_3^+\\sigma_4^- + \\sigma_1^-\\sigma_2^+\\sigma_3^-\\sigma_4^+$\n",
    "\n",
    "Calculating this using H1? I think\n",
    "\n",
    "- $S_A = -Tr \\rho_A \\log{\\rho_A}$\n",
    "\n",
    "Where $\\rho_A = Tr_B \\rho$\n",
    "\n",
    "Calculating this using either\n",
    "\n",
    "- $Fidelity = 2\\cdot\\frac{1 - |\\langle \\psi_0(h)|\\psi_0(h+\\delta h)\\rangle|}{\\delta h^2} $\n",
    "\n",
    "Calculating this using either"
   ]
  },
  {
   "cell_type": "markdown",
   "metadata": {},
   "source": [
    "## Measuring m using H2\n",
    "\n",
    "We basically just need to construct matrix of $m$ in the basis out which you constructed the hamiltonian H2.\n",
    "\n",
    "In H2, $m$ is the magnetization along z direction. So:\n",
    "\n",
    "$m=\\frac{1}{N}\\sum_{i} \\langle \\sigma_i^z \\rangle$"
   ]
  },
  {
   "cell_type": "code",
   "execution_count": 9,
   "metadata": {},
   "outputs": [
    {
     "name": "stdout",
     "output_type": "stream",
     "text": [
      "  0.529020 seconds (794.18 k allocations: 78.561 MiB, 14.89% gc time)\n"
     ]
    },
    {
     "data": {
      "text/plain": [
       "0.0548936631394805"
      ]
     },
     "execution_count": 9,
     "metadata": {},
     "output_type": "execute_result"
    }
   ],
   "source": [
    "function m_H2(state::Array{Float64,1}; N::Int64)\n",
    "    m = spzeros(2^N,2^N)\n",
    "    for basis_state in 0:(2^N-1) #loop over all states\n",
    "        basis_state_binary = digits!(zeros(Int64, 64), basis_state, base = 2)\n",
    "        # calculating total spin along z direction, considering it's spin 1/2\n",
    "        m[basis_state+1, basis_state+1] += (sum(basis_state_binary)-1/2*N)/N\n",
    "    end\n",
    "    #now that we have matrix m, calculate the average m_val:\n",
    "    m_val = conj.(state')*m*state\n",
    "    return m_val[1] #taking the 1st value of m_val because it's recognized as a length 1 Array\n",
    "end\n",
    "\n",
    "@time m_H2(eigstate2; N=N)"
   ]
  },
  {
   "cell_type": "markdown",
   "metadata": {},
   "source": [
    "## Measuring M with faster speed"
   ]
  },
  {
   "cell_type": "code",
   "execution_count": 10,
   "metadata": {},
   "outputs": [
    {
     "name": "stdout",
     "output_type": "stream",
     "text": [
      "  0.031636 seconds (108.96 k allocations: 41.306 MiB)\n"
     ]
    },
    {
     "data": {
      "text/plain": [
       "0.05489366313948028"
      ]
     },
     "execution_count": 10,
     "metadata": {},
     "output_type": "execute_result"
    }
   ],
   "source": [
    "# new M that should be faster\n",
    "function m_H2(state::Array{Float64,1}; N::Int64)\n",
    "    m = 0\n",
    "    for basis_state in 0:(2^N-1) #loop over all states\n",
    "        basis_state_binary = digits!(zeros(Int64, 64), basis_state, base = 2)\n",
    "        # calculating total spin along z direction, considering it's spin 1/2\n",
    "        m += conj(state[basis_state+1])*state[basis_state+1]*(sum(basis_state_binary)-1/2*N)/N\n",
    "    end\n",
    "    return m\n",
    "end\n",
    "\n",
    "@time m_H2(eigstate2; N=N)"
   ]
  },
  {
   "cell_type": "markdown",
   "metadata": {},
   "source": [
    "## Measuring $S_{\\pi}$ using H1\n",
    "\n",
    "Constructing $S_{\\pi}$ matrix using basis of $H1$\n",
    "\n",
    "$S_{\\pi}=\\frac{1}{N}\\sum_{i,j}\\langle\\sigma_i^z\\sigma_j^z\\rangle (-1)^{i+j}$"
   ]
  },
  {
   "cell_type": "code",
   "execution_count": 12,
   "metadata": {},
   "outputs": [
    {
     "name": "stdout",
     "output_type": "stream",
     "text": [
      "  0.923234 seconds (161.23 k allocations: 47.284 MiB, 0.41% gc time)\n"
     ]
    },
    {
     "data": {
      "text/plain": [
       "0.4422004606933725"
      ]
     },
     "execution_count": 12,
     "metadata": {},
     "output_type": "execute_result"
    }
   ],
   "source": [
    "function S_pi_H1(state::Array{Float64,1}; N::Int64, L1::Int64, L2::Int64)\n",
    "    S_pi = spzeros(2^N,2^N)\n",
    "    for basis_state in 0:(2^N-1) #loop over all states\n",
    "        basis_state_binary = digits!(zeros(Int64, 64), basis_state, base = 2)\n",
    "        for i in 1:N #loop over all sites in a given state\n",
    "            for j in 1:N #loop over all sites again\n",
    "                 S_pi[basis_state+1,basis_state+1] += (basis_state_binary[i]-1/2)*(basis_state_binary[j]-1/2)*(-1)^(sum(coordinate(i;L1=L1, L2=L2))+sum(coordinate(j;L1=L1, L2=L2)))/N\n",
    "            end\n",
    "        end\n",
    "    end\n",
    "    #now that we have matrix m, calculate the average m_val:\n",
    "    S_pi_val = conj.(state')*S_pi*state\n",
    "    return S_pi_val[1] #taking the 1st value of m_val because it's recognized as a length 1 Array\n",
    "end\n",
    "\n",
    "@time S_pi_H1(eigstate1;N=N, L1=L1, L2=L2)"
   ]
  },
  {
   "cell_type": "markdown",
   "metadata": {},
   "source": [
    "## Measuring $S_{\\pi}$ using H1 with faster speed"
   ]
  },
  {
   "cell_type": "code",
   "execution_count": 14,
   "metadata": {
    "scrolled": true
   },
   "outputs": [
    {
     "name": "stdout",
     "output_type": "stream",
     "text": [
      "  0.103853 seconds (142.83 k allocations: 43.033 MiB)\n"
     ]
    },
    {
     "data": {
      "text/plain": [
       "0.4422004606949537"
      ]
     },
     "execution_count": 14,
     "metadata": {},
     "output_type": "execute_result"
    }
   ],
   "source": [
    "function S_pi_H1(state::Array{Float64,1}; N::Int64, L1::Int64, L2::Int64)\n",
    "    #build up the phase factor for use later\n",
    "    phase_factor = zeros(Int64, N, N)\n",
    "    for i in 1:N #loop over all sites in a given state\n",
    "        for j in 1:N #loop over all sites again\n",
    "            phase_factor[i, j] = (-1)^(sum(coordinate(i;L1=L1, L2=L2))+sum(coordinate(j;L1=L1, L2=L2)))\n",
    "        end\n",
    "    end\n",
    "    # start calculating S_pi\n",
    "    S_pi = 0\n",
    "    for basis_state in 0:(2^N-1) #loop over all states\n",
    "        basis_state_binary = digits!(zeros(Int64, 64), basis_state, base = 2)\n",
    "        for i in 1:N #loop over all sites in a given state\n",
    "            for j in 1:N #loop over all sites again\n",
    "                 S_pi += conj(state[basis_state+1])*state[basis_state+1]*(basis_state_binary[i]-1/2)*(basis_state_binary[j]-1/2)*phase_factor[i, j]/N\n",
    "            end\n",
    "        end\n",
    "    end\n",
    "    return S_pi #taking the 1st value of m_val because it's recognized as a length 1 Array\n",
    "end\n",
    "\n",
    "@time S_pi_H1(eigstate1;N=N, L1=L1, L2=L2)"
   ]
  },
  {
   "cell_type": "code",
   "execution_count": 15,
   "metadata": {},
   "outputs": [
    {
     "name": "stdout",
     "output_type": "stream",
     "text": [
      "  0.097635 seconds (143.05 k allocations: 43.053 MiB)\n"
     ]
    },
    {
     "data": {
      "text/plain": [
       "0.44220046069503616"
      ]
     },
     "execution_count": 15,
     "metadata": {},
     "output_type": "execute_result"
    }
   ],
   "source": [
    "function S_pi_0_H1(state::Array{Float64,1}; N::Int64, L1::Int64, L2::Int64)\n",
    "    #build up the phase factor for use later\n",
    "    phase_factor = zeros(Int64, N, N)\n",
    "    for i in 1:N #loop over all sites in a given state\n",
    "        for j in 1:N #loop over all sites again\n",
    "            phase_factor[i, j] = (-1)^(coordinate(i;L1=L1, L2=L2)[2]-coordinate(j;L1=L1, L2=L2)[2])\n",
    "        end\n",
    "    end\n",
    "    # start calculating S_pi\n",
    "    S_pi = 0\n",
    "    for basis_state in 0:(2^N-1) #loop over all states\n",
    "        basis_state_binary = digits!(zeros(Int64, 64), basis_state, base = 2)\n",
    "        for i in 1:N #loop over all sites in a given state\n",
    "            for j in 1:N #loop over all sites again\n",
    "                 S_pi += conj(state[basis_state+1])*state[basis_state+1]*(basis_state_binary[i]-1/2)*(basis_state_binary[j]-1/2)*phase_factor[i, j]/N\n",
    "            end\n",
    "        end\n",
    "    end\n",
    "    return S_pi #taking the 1st value of m_val because it's recognized as a length 1 Array\n",
    "end\n",
    "\n",
    "@time S_pi_0_H1(eigstate1;N=N, L1=L1, L2=L2)"
   ]
  },
  {
   "cell_type": "code",
   "execution_count": 16,
   "metadata": {},
   "outputs": [
    {
     "name": "stdout",
     "output_type": "stream",
     "text": [
      "  0.105875 seconds (143.05 k allocations: 43.052 MiB)\n"
     ]
    },
    {
     "data": {
      "text/plain": [
       "0.4422004606948208"
      ]
     },
     "execution_count": 16,
     "metadata": {},
     "output_type": "execute_result"
    }
   ],
   "source": [
    "function S_0_pi_H1(state::Array{Float64,1}; N::Int64, L1::Int64, L2::Int64)\n",
    "    #build up the phase factor for use later\n",
    "    phase_factor = zeros(Int64, N, N)\n",
    "    for i in 1:N #loop over all sites in a given state\n",
    "        for j in 1:N #loop over all sites again\n",
    "            phase_factor[i, j] = (-1)^(coordinate(i;L1=L1, L2=L2)[1]-coordinate(j;L1=L1, L2=L2)[1])\n",
    "        end\n",
    "    end\n",
    "    # start calculating S_pi\n",
    "    S_pi = 0\n",
    "    for basis_state in 0:(2^N-1) #loop over all states\n",
    "        basis_state_binary = digits!(zeros(Int64, 64), basis_state, base = 2)\n",
    "        for i in 1:N #loop over all sites in a given state\n",
    "            for j in 1:N #loop over all sites again\n",
    "                 S_pi += conj(state[basis_state+1])*state[basis_state+1]*(basis_state_binary[i]-1/2)*(basis_state_binary[j]-1/2)*phase_factor[i, j]/N\n",
    "            end\n",
    "        end\n",
    "    end\n",
    "    return S_pi #taking the 1st value of m_val because it's recognized as a length 1 Array\n",
    "end\n",
    "\n",
    "@time S_0_pi_H1(eigstate1;N=N, L1=L1, L2=L2)"
   ]
  },
  {
   "cell_type": "markdown",
   "metadata": {},
   "source": [
    "## Measuring $S_{real}[i,j]=\\langle s_{1,1} s_{i,j} \\rangle$ using H1 with fast speed"
   ]
  },
  {
   "cell_type": "code",
   "execution_count": 17,
   "metadata": {},
   "outputs": [
    {
     "name": "stdout",
     "output_type": "stream",
     "text": [
      "  0.151982 seconds (129.28 k allocations: 42.408 MiB, 65.61% gc time)\n"
     ]
    },
    {
     "data": {
      "text/plain": [
       "4×4 Array{Float64,2}:\n",
       "  0.25       -0.0823769  0.0274466  -0.0823769\n",
       " -0.0823769   0.0274466  0.0274466  -0.0823769\n",
       "  0.0274466   0.0274466  0.0274466   0.0274466\n",
       " -0.0823769  -0.0823769  0.0274466   0.0274466"
      ]
     },
     "execution_count": 17,
     "metadata": {},
     "output_type": "execute_result"
    }
   ],
   "source": [
    "function S_real_H1(state::Array{Float64,1}; N::Int64, L1::Int64, L2::Int64)\n",
    "    # start calculating S_pi\n",
    "    S_real = zeros(Float64, L2, L1)\n",
    "    for basis_state in 0:(2^N-1) #loop over all states\n",
    "        basis_state_binary = digits!(zeros(Int64, 64), basis_state, base = 2)\n",
    "        for i in 1:N #loop over all sites in a given state\n",
    "            S_real[coordinate(i;L1=L1, L2=L2)[1], coordinate(i;L1=L1, L2=L2)[2]] +=  conj(state[basis_state+1])*state[basis_state+1]*(basis_state_binary[1]-1/2)*(basis_state_binary[i]-1/2)\n",
    "        end\n",
    "    end\n",
    "    return S_real #taking the 1st value of m_val because it's recognized as a length 1 Array\n",
    "end\n",
    "\n",
    "@time S_real_H1(eigstate1;N=N, L1=L1, L2=L2)"
   ]
  },
  {
   "cell_type": "code",
   "execution_count": 18,
   "metadata": {},
   "outputs": [
    {
     "name": "stdout",
     "output_type": "stream",
     "text": [
      "  0.228959 seconds (1.09 M allocations: 87.745 MiB)\n"
     ]
    },
    {
     "data": {
      "text/plain": [
       "1.7896261747186406"
      ]
     },
     "execution_count": 18,
     "metadata": {},
     "output_type": "execute_result"
    }
   ],
   "source": [
    "function S_entangle(state::Array{Float64,1}; N::Int64, L1::Int64, L2::Int64, second_neib_list)\n",
    "    #find the first four spin interacting plaquette\n",
    "    plaq_sites = Int64[] #Has to be an array to make it ordered\n",
    "    for site in 1:N #loop over all sites\n",
    "        site_coord = coordinate(site,L1=L1, L2=L2)\n",
    "        if bit_pos((mod1(site_coord[1]-1, L2),mod1(site_coord[2]-1, L1)), L1=L1, L2=L2) ∈ second_neib_list[site]\n",
    "            push!(plaq_sites, site)\n",
    "            push!(plaq_sites, bit_pos((mod1(site_coord[1]+1, L2),site_coord[2]), L1=L1, L2=L2))\n",
    "            push!(plaq_sites, bit_pos((mod1(site_coord[1]+1, L2),mod1(site_coord[2]+1, L1)), L1=L1, L2=L2))\n",
    "            push!(plaq_sites, bit_pos((site_coord[1],mod1(site_coord[2]+1, L1)), L1=L1, L2=L2))\n",
    "            break\n",
    "        end\n",
    "    end\n",
    "    #println(plaq_sites)\n",
    "    env_sites = Int64[]\n",
    "    for site in 1:N\n",
    "        if site ∉ plaq_sites\n",
    "            push!(env_sites, site)\n",
    "        end\n",
    "    end\n",
    "    #println(env_sites)\n",
    "    C = zeros(Number, 16, Int(2^N/16))\n",
    "    for basis_state in 0:(2^N - 1)\n",
    "        basis_state_binary = digits!(zeros(Int64, 64), basis_state, base = 2)\n",
    "        a = 1; b = 1 # start at 1 to avoid 0 as numeration number\n",
    "        for i in 1:4\n",
    "            a += basis_state_binary[plaq_sites[i]] * 2^(i-1)\n",
    "        end\n",
    "        for i in 1:(N-4)\n",
    "            b += basis_state_binary[env_sites[i]] * 2^(i-1)\n",
    "        end\n",
    "        C[a, b] = state[basis_state + 1]        \n",
    "    end\n",
    "    Sing_vals = svd(C).S\n",
    "    return  -sum(Sing_vals.^2 .* log.(Sing_vals.^2))\n",
    "end\n",
    "\n",
    "@time S_entangle(eigstate1;N=N, L1=L1, L2=L2, second_neib_list=second_neib_list)"
   ]
  },
  {
   "cell_type": "markdown",
   "metadata": {},
   "source": [
    "## Below we write a driver  to calculate m and $S_{\\pi}$ for different h\n",
    "\n",
    "Calculate Fidelity in the driver"
   ]
  },
  {
   "cell_type": "code",
   "execution_count": 19,
   "metadata": {},
   "outputs": [
    {
     "name": "stdout",
     "output_type": "stream",
     "text": [
      "149.239759 seconds (26.49 M allocations: 47.418 GiB, 5.70% gc time)\n",
      "J2 = 1 finished\n",
      "[0.2500000000000268 -0.08332498838720606 0.027774995073301445 -0.08332498816781357; -0.08332498849390196 0.027774994937337028 0.027774994985042153 -0.08332498860246729; 0.0277749951818446 0.02777499498319444 0.02777499517627094 0.02777499504962882; -0.08332498854067134 -0.0833249883363055 0.027774994785313766 0.027774994917671398]\n"
     ]
    }
   ],
   "source": [
    "function driver(;L1::Int64, L2::Int64, h_vals, J2)\n",
    "    N = L1*L2\n",
    "    J1 = 1\n",
    "    nearest_neib_list = nearest_neib_list_gen(L1=L1, L2=L2)\n",
    "    second_neib_list = second_neib_list_gen(L1=L1, L2=L2)\n",
    "    #plaquette_list = plaquette_list_gen(;L=L, neib_list=neib_list)\n",
    "    m = []\n",
    "    S_pi = []\n",
    "    Fidelity = []\n",
    "    #Fcl_vals = []\n",
    "    #Fqm_vals = []\n",
    "    S_entangle_vals = []\n",
    "    S_0_pi = []\n",
    "    S_pi_0 = []\n",
    "    S_real = []\n",
    "    \n",
    "    eigstate_prev = zeros(Float64, 2^N)\n",
    "    h_prev = -1\n",
    "    for i in 1:length(h_vals)\n",
    "        h = h_vals[i]\n",
    "        H1 = Hamiltonian1(;N=N, J1=J1, J2=J2, h=h, nearest_neib_list=nearest_neib_list, second_neib_list=second_neib_list)\n",
    "        eigstate1 = eigsolve(H1, 1, :SR, eltype(H1), krylovdim = 100)[2][1]\n",
    "        #calculating Fidelity using eigenstates of H1\n",
    "        Fid = conj.(eigstate_prev')*eigstate1\n",
    "        (i == 1) && (Fid[1] = 1) #set Fid to be 1 manually for the first h\n",
    "        push!(S_pi, S_pi_H1(eigstate1;N=N, L1=L1, L2=L2))\n",
    "        push!(Fidelity, 2*(1-abs(Fid[1]))/(h-h_prev)^2)\n",
    "        #push!(Fcl_vals, Fcl(eigstate1; L=L, neib_list=neib_list, plaquette_list=plaquette_list))\n",
    "        #push!(Fqm_vals, Fqm(eigstate1; L=L, neib_list=neib_list, plaquette_list=plaquette_list))\n",
    "        push!(S_entangle_vals, S_entangle(eigstate1;N=N, L1=L1, L2=L2, second_neib_list=second_neib_list))\n",
    "        eigstate_prev = eigstate1\n",
    "        push!(S_0_pi, S_0_pi_H1(eigstate1;N=N, L1=L1, L2=L2))\n",
    "        push!(S_pi_0, S_pi_0_H1(eigstate1;N=N, L1=L1, L2=L2))\n",
    "        push!(S_real, S_real_H1(eigstate1;N=N, L1=L1, L2=L2))\n",
    "        \n",
    "        #Start Calculating using H2\n",
    "        H2 = Hamiltonian2(;N=N, J1=J1, J2=J2, h=h, nearest_neib_list=nearest_neib_list, second_neib_list=second_neib_list)\n",
    "        eigstate2 = eigsolve(H2, 1, :SR, eltype(H2), krylovdim = 100)[2][1]\n",
    "        push!(m, m_H2(eigstate2; N=N))\n",
    "        h_prev = h\n",
    "    end\n",
    "    #return (h_vals, m, S_pi, Fidelity, Fcl_vals, Fqm_vals, S_entangle_vals)\n",
    "    return (h_vals, J2, m, S_pi, Fidelity, S_entangle_vals, S_0_pi, S_pi_0, S_real)\n",
    "end\n",
    "\n",
    "L1=4; L2=4; h_vals = range(0.01, 1, length = 40); J2_vals = [1]\n",
    "for J2 in J2_vals\n",
    "    @time result = driver(L1=L1, L2=L2, h_vals=h_vals, J2=J2)\n",
    "\n",
    "    my_time = Dates.now()\n",
    "\n",
    "    time_finished = \"Date_$(Dates.format(my_time, \"e_dd_u_yyyy_HH_MM_SS\"))\"\n",
    "    content = \"Square_Spin_Ice_Measurement\"\n",
    "    save_path = \"E:/UC Davis/Research/Square Spin Ice/Square-Spin-Ice/Yutan_code/Results/\"\n",
    "    #\"/nfs/home/zyt329/Research/Square_spin_ice/result/\"\n",
    "    save_name = save_path*content*\"_J2=$(J2)_L1=$(L1)_L2=$(L2)_hmin=$(h_vals[1])_hmax=$(h_vals[end])_\"*time_finished*\".jld\"\n",
    "\n",
    "    #save(save_name, \"result\", result)\n",
    "    println(\"J2 = $(J2) finished\")\n",
    "    println(result[9][1])\n",
    "end"
   ]
  },
  {
   "cell_type": "code",
   "execution_count": null,
   "metadata": {},
   "outputs": [],
   "source": []
  }
 ],
 "metadata": {
  "kernelspec": {
   "display_name": "Julia 1.3.0",
   "language": "julia",
   "name": "julia-1.3"
  },
  "language_info": {
   "file_extension": ".jl",
   "mimetype": "application/julia",
   "name": "julia",
   "version": "1.3.0"
  }
 },
 "nbformat": 4,
 "nbformat_minor": 4
}
