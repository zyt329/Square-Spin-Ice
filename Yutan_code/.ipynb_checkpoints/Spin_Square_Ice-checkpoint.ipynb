{
 "cells": [
  {
   "cell_type": "code",
   "execution_count": 24,
   "metadata": {},
   "outputs": [],
   "source": [
    "using LinearAlgebra\n",
    "using SparseArrays\n",
    "using Arpack"
   ]
  },
  {
   "cell_type": "markdown",
   "metadata": {},
   "source": [
    "## Building up Hamiltonian without using k space\n",
    "- Building Hamiltonian for the simplest square lattice heisenberg model\n",
    "- Using Int64 to represent states\n",
    "- start by a 2 by 2 lattice, so takes 4 bits out of the 64 bits of an Int64.\n",
    "\n",
    "Hamiltonian is $H=J\\sum_{i=1}^{N}(S_i^z S_{i+1}^z + 1/2(S_i^+ S_{i+1}^- + S_i^- S_{i+1}^+)) $\n",
    "\n",
    "First find all neighbours of a given site in the binary representation. then build up a matrix of 16 by 16\n",
    "The k-th bit of a binary number correspond to the (i,j) site on the lattice, for a lattice of linear size L. Which could be calculated by this following function:"
   ]
  },
  {
   "cell_type": "code",
   "execution_count": 25,
   "metadata": {},
   "outputs": [
    {
     "data": {
      "text/plain": [
       "bit_pos (generic function with 1 method)"
      ]
     },
     "execution_count": 25,
     "metadata": {},
     "output_type": "execute_result"
    }
   ],
   "source": [
    "function coordinate(n;L::Int64=2)\n",
    "    num_sites = L^2\n",
    "    i::Int64 = Int(ceil(n/L))\n",
    "    j::Int64 = mod1(n,L)  #site i is at i-th row, j-th column\n",
    "    return (i,j)\n",
    "end\n",
    "\n",
    "function bit_pos(coordinate::Tuple{Int64,Int64};L::Int64=2)\n",
    "    n = (coordinate[1]-1)*L + coordinate[2]\n",
    "    return n\n",
    "end"
   ]
  },
  {
   "cell_type": "markdown",
   "metadata": {},
   "source": [
    "# Now Let's Construct Hamiltonian for our problem, by changing neighbor lists"
   ]
  },
  {
   "cell_type": "code",
   "execution_count": 26,
   "metadata": {},
   "outputs": [
    {
     "data": {
      "text/plain": [
       "neib_list_gen (generic function with 1 method)"
      ]
     },
     "execution_count": 26,
     "metadata": {},
     "output_type": "execute_result"
    }
   ],
   "source": [
    "function neib(n::Int64;L::Int64=2)\n",
    "    coord = coordinate(n,L=L)\n",
    "    neibs = Tuple{Int64,Int64}[]\n",
    "    push!(neibs, (mod1(coord[1]+1,L), coord[2]))\n",
    "    push!(neibs, (mod1(coord[1]-1,L), coord[2]))\n",
    "    push!(neibs, (coord[1], mod1(coord[2]+1,L)))\n",
    "    push!(neibs, (coord[1], mod1(coord[2]-1,L)))    \n",
    "    if iseven(coord[1]+coord[2])\n",
    "        push!(neibs, (mod1(coord[1]+1,L), mod1(coord[2]-1,L)))\n",
    "        push!(neibs, (mod1(coord[1]-1,L), mod1(coord[2]+1,L)))\n",
    "    else\n",
    "        push!(neibs, (mod1(coord[1]+1,L), mod1(coord[2]+1,L)))\n",
    "        push!(neibs, (mod1(coord[1]-1,L), mod1(coord[2]-1,L)))\n",
    "    end\n",
    "    #=convert coordinations to positions in bits=#\n",
    "    neibs_bit_pos = Set{Int64}()\n",
    "    for neib in neibs\n",
    "        push!(neibs_bit_pos, bit_pos(neib,L=L))\n",
    "    end\n",
    "    return neibs_bit_pos\n",
    "end\n",
    "\n",
    "function neib_list_gen(;L::Int64=L)\n",
    "    neib_list = Set{Int64}[]\n",
    "    for n in 1:L^2\n",
    "        push!(neib_list, neib(n, L=L))\n",
    "    end\n",
    "    return neib_list\n",
    "end"
   ]
  },
  {
   "cell_type": "markdown",
   "metadata": {},
   "source": [
    "# Now we can construct Hamlitonian for our system\n",
    "## Let's make use of the Parity Symmetry, starting by constructing Parity States\n",
    "\n",
    "Our Hamiltonian is originally $H=J\\sum_{i=1}^{N}\\sum_{\\sigma}(S_i^z S_{i+\\sigma}^z + h S_i^x) $\n",
    "\n",
    "We can do a little rotation of our system and construct Hamiltonian in that \"direction\". The Hamiltonian should be:\n",
    "$H=J\\sum_{i=1}^{N}\\sum_{\\sigma}(J S_i^x S_{i+\\sigma}^x - h S_i^z)$\n",
    "\n",
    "Equivalently, we can write our Hamiltonian as $H=J\\sum_{i=1}^{N}\\sum_{\\sigma}(\\frac{J}{4}(S_i^+ + S_i^-)(S_{i+\\sigma}^+ + S_{i+\\sigma}^-) - h S_i^z)$\n",
    "\n",
    "Now we have a nice Parity symmetry comes in handy. The Operator is $\\prod_i \\sigma_i^z$. The $\\sigma_i^z$ basis is exactly the eigenbasis of the parity operator. The parity operator commutes with H, thus divides the Hamiltonian into 2 block diagonal parts. With one part having even total spin, one part having odd total spin. \n",
    "\n",
    "Physically we can see this by making use of the fact that $S_i^x S_{i+\\sigma}^x$ flips 2 spins at a time. So different sectors can't mix.\n",
    "\n",
    "First we need to loop over all states, and construct a list of even and odd states."
   ]
  },
  {
   "cell_type": "code",
   "execution_count": 27,
   "metadata": {},
   "outputs": [
    {
     "data": {
      "text/plain": [
       "parity_states_list (generic function with 1 method)"
      ]
     },
     "execution_count": 27,
     "metadata": {},
     "output_type": "execute_result"
    }
   ],
   "source": [
    "function chk_parity(state::Int64)\n",
    "    state_binary = digits!(zeros(Int64, 64), state, base = 2)\n",
    "    if iseven(sum(state_binary))\n",
    "        return :even\n",
    "    else\n",
    "        return :odd\n",
    "    end\n",
    "end\n",
    "\n",
    "function parity_states_list(;L::Int64=L)\n",
    "    even_state = Int64[]\n",
    "    odd_state = Int64[]\n",
    "    even_state_num = Dict{Int64, Int64}()\n",
    "    odd_state_num = Dict{Int64, Int64}()\n",
    "    even_state_tot = 0\n",
    "    odd_state_tot = 0\n",
    "    for state in 0:(2^(L^2)-1)\n",
    "        if chk_parity(state) == :even\n",
    "            even_state_tot += 1\n",
    "            push!(even_state, state)\n",
    "            even_state_num[state] = even_state_tot\n",
    "        else\n",
    "            odd_state_tot += 1\n",
    "            push!(odd_state, state)\n",
    "            odd_state_num[state] = odd_state_tot\n",
    "        end\n",
    "    end\n",
    "    return Dict{Symbol, Any}(:even_state => even_state, :odd_state => odd_state, :even_state_num => even_state_num, :odd_state_num => odd_state_num, :even_state_tot => even_state_tot, :odd_state_tot => odd_state_tot)\n",
    "end"
   ]
  },
  {
   "cell_type": "markdown",
   "metadata": {},
   "source": [
    "## Now we could build up function to construct Hamiltonian for even and odd sectors"
   ]
  },
  {
   "cell_type": "code",
   "execution_count": 28,
   "metadata": {},
   "outputs": [
    {
     "data": {
      "text/plain": [
       "Hamiltonian (generic function with 1 method)"
      ]
     },
     "execution_count": 28,
     "metadata": {},
     "output_type": "execute_result"
    }
   ],
   "source": [
    "function Hamiltonian(;L::Int64=2, J=1, h=1, neib_list, state_list, state_num, state_tot)\n",
    "    H = spzeros(state_tot,state_tot)\n",
    "    for state in state_list #loop over all states\n",
    "        state_binary = digits!(zeros(Int64, 64), state, base = 2)\n",
    "        for i in 1:L^2 #loop over all sites i in a given state\n",
    "            #diagonal terms interact with h\n",
    "            if state_binary[i] == 1\n",
    "                H[state_num[state],state_num[state]] += h/2\n",
    "            else\n",
    "                H[state_num[state],state_num[state]] -= h/2\n",
    "            end   \n",
    "            # off diagonal terms come from flipping bonds, j is neighbor of i\n",
    "            for j in neib_list[i] \n",
    "                fliped_state = state ⊻ (1<<(i-1))\n",
    "                fliped_state = fliped_state ⊻ (1<<(j-1))\n",
    "                H[state_num[state],state_num[fliped_state]] = J/4\n",
    "            end\n",
    "        end\n",
    "    end\n",
    "    return H\n",
    "end"
   ]
  },
  {
   "cell_type": "markdown",
   "metadata": {},
   "source": [
    "## Now, a driver to organize all the functions, and produce Hamiltonian for even and odd sectors"
   ]
  },
  {
   "cell_type": "code",
   "execution_count": 29,
   "metadata": {},
   "outputs": [
    {
     "data": {
      "text/plain": [
       "H_driver (generic function with 1 method)"
      ]
     },
     "execution_count": 29,
     "metadata": {},
     "output_type": "execute_result"
    }
   ],
   "source": [
    "function H_driver(;L::Int64=L, J::Float64=J, h::Float64=h)\n",
    "    neib_list = neib_list_gen(L=L)\n",
    "    state_gen = parity_states_list(L=L)\n",
    "    even_state = state_gen[:even_state]\n",
    "    even_state_num = state_gen[:even_state_num]\n",
    "    odd_state_num  = state_gen[:odd_state_num]\n",
    "    odd_state = state_gen[:odd_state]\n",
    "    even_state_tot = state_gen[:even_state_tot]\n",
    "    odd_state_tot = state_gen[:odd_state_tot]\n",
    "    #now constructine Hamiltonian of the two sectors\n",
    "    Hamiltonian_even = Hamiltonian(;L=L, J=J, h=h, neib_list=neib_list, state_list=even_state, state_num=even_state_num, state_tot=even_state_tot)\n",
    "    Hamiltonian_odd = Hamiltonian(;L=L, J=J, h=h, neib_list=neib_list, state_list=odd_state, state_num=odd_state_num, state_tot=odd_state_tot)\n",
    "    return Dict(:even => Hamiltonian_even, :odd => Hamiltonian_odd)\n",
    "end"
   ]
  },
  {
   "cell_type": "markdown",
   "metadata": {},
   "source": [
    "# LET'S RUN IT !!!"
   ]
  },
  {
   "cell_type": "code",
   "execution_count": 30,
   "metadata": {
    "scrolled": false
   },
   "outputs": [
    {
     "name": "stdout",
     "output_type": "stream",
     "text": [
      "\n",
      "  [1, 1]  =  -2.0\n",
      "  [2, 1]  =  0.25\n",
      "  [3, 1]  =  0.25\n",
      "  [4, 1]  =  0.25\n",
      "  [5, 1]  =  0.25\n",
      "  [6, 1]  =  0.25\n",
      "  [7, 1]  =  0.25\n",
      "  [1, 2]  =  0.25\n",
      "  [2, 2]  =  0.0\n",
      "  [3, 2]  =  0.25\n",
      "  [4, 2]  =  0.25\n",
      "  [5, 2]  =  0.25\n",
      "  [6, 2]  =  0.25\n",
      "  [8, 2]  =  0.25\n",
      "  [1, 3]  =  0.25\n",
      "  [2, 3]  =  0.25\n",
      "  [3, 3]  =  0.0\n",
      "  [4, 3]  =  0.25\n",
      "  [5, 3]  =  0.25\n",
      "  [7, 3]  =  0.25\n",
      "  [8, 3]  =  0.25\n",
      "  [1, 4]  =  0.25\n",
      "  [2, 4]  =  0.25\n",
      "  [3, 4]  =  0.25\n",
      "  [4, 4]  =  0.0\n",
      "  [6, 4]  =  0.25\n",
      "  [7, 4]  =  0.25\n",
      "  [8, 4]  =  0.25\n",
      "  [1, 5]  =  0.25\n",
      "  [2, 5]  =  0.25\n",
      "  [3, 5]  =  0.25\n",
      "  [5, 5]  =  0.0\n",
      "  [6, 5]  =  0.25\n",
      "  [7, 5]  =  0.25\n",
      "  [8, 5]  =  0.25\n",
      "  [1, 6]  =  0.25\n",
      "  [2, 6]  =  0.25\n",
      "  [4, 6]  =  0.25\n",
      "  [5, 6]  =  0.25\n",
      "  [6, 6]  =  0.0\n",
      "  [7, 6]  =  0.25\n",
      "  [8, 6]  =  0.25\n",
      "  [1, 7]  =  0.25\n",
      "  [3, 7]  =  0.25\n",
      "  [4, 7]  =  0.25\n",
      "  [5, 7]  =  0.25\n",
      "  [6, 7]  =  0.25\n",
      "  [7, 7]  =  0.0\n",
      "  [8, 7]  =  0.25\n",
      "  [2, 8]  =  0.25\n",
      "  [3, 8]  =  0.25\n",
      "  [4, 8]  =  0.25\n",
      "  [5, 8]  =  0.25\n",
      "  [6, 8]  =  0.25\n",
      "  [7, 8]  =  0.25\n",
      "  [8, 8]  =  2.0\n",
      "\n",
      "  [1, 1]  =  -1.0\n",
      "  [2, 1]  =  0.25\n",
      "  [3, 1]  =  0.25\n",
      "  [4, 1]  =  0.25\n",
      "  [5, 1]  =  0.25\n",
      "  [6, 1]  =  0.25\n",
      "  [7, 1]  =  0.25\n",
      "  [1, 2]  =  0.25\n",
      "  [2, 2]  =  -1.0\n",
      "  [3, 2]  =  0.25\n",
      "  [4, 2]  =  0.25\n",
      "  [5, 2]  =  0.25\n",
      "  [6, 2]  =  0.25\n",
      "  [8, 2]  =  0.25\n",
      "  [1, 3]  =  0.25\n",
      "  [2, 3]  =  0.25\n",
      "  [3, 3]  =  -1.0\n",
      "  [4, 3]  =  0.25\n",
      "  [5, 3]  =  0.25\n",
      "  [7, 3]  =  0.25\n",
      "  [8, 3]  =  0.25\n",
      "  [1, 4]  =  0.25\n",
      "  [2, 4]  =  0.25\n",
      "  [3, 4]  =  0.25\n",
      "  [4, 4]  =  1.0\n",
      "  [6, 4]  =  0.25\n",
      "  [7, 4]  =  0.25\n",
      "  [8, 4]  =  0.25\n",
      "  [1, 5]  =  0.25\n",
      "  [2, 5]  =  0.25\n",
      "  [3, 5]  =  0.25\n",
      "  [5, 5]  =  -1.0\n",
      "  [6, 5]  =  0.25\n",
      "  [7, 5]  =  0.25\n",
      "  [8, 5]  =  0.25\n",
      "  [1, 6]  =  0.25\n",
      "  [2, 6]  =  0.25\n",
      "  [4, 6]  =  0.25\n",
      "  [5, 6]  =  0.25\n",
      "  [6, 6]  =  1.0\n",
      "  [7, 6]  =  0.25\n",
      "  [8, 6]  =  0.25\n",
      "  [1, 7]  =  0.25\n",
      "  [3, 7]  =  0.25\n",
      "  [4, 7]  =  0.25\n",
      "  [5, 7]  =  0.25\n",
      "  [6, 7]  =  0.25\n",
      "  [7, 7]  =  1.0\n",
      "  [8, 7]  =  0.25\n",
      "  [2, 8]  =  0.25\n",
      "  [3, 8]  =  0.25\n",
      "  [4, 8]  =  0.25\n",
      "  [5, 8]  =  0.25\n",
      "  [6, 8]  =  0.25\n",
      "  [7, 8]  =  0.25\n",
      "  [8, 8]  =  1.0\n"
     ]
    }
   ],
   "source": [
    "L=2;J=1.0;h=1.0\n",
    "H_blocks = H_driver(L=L, J=J, h=h)\n",
    "println(H_blocks[:even])\n",
    "println(H_blocks[:odd])"
   ]
  },
  {
   "cell_type": "code",
   "execution_count": null,
   "metadata": {},
   "outputs": [],
   "source": []
  },
  {
   "cell_type": "code",
   "execution_count": null,
   "metadata": {},
   "outputs": [],
   "source": []
  }
 ],
 "metadata": {
  "kernelspec": {
   "display_name": "Julia 1.3.0",
   "language": "julia",
   "name": "julia-1.3"
  },
  "language_info": {
   "file_extension": ".jl",
   "mimetype": "application/julia",
   "name": "julia",
   "version": "1.3.0"
  }
 },
 "nbformat": 4,
 "nbformat_minor": 4
}
